{
  "cells": [
    {
      "cell_type": "markdown",
      "metadata": {
        "id": "bg7ngXlHcUsf"
      },
      "source": [
        "# My attempt of creating a MLP neural network for predicting the flag."
      ]
    },
    {
      "cell_type": "code",
      "execution_count": 236,
      "metadata": {
        "id": "eJuvGVmvWMbP"
      },
      "outputs": [],
      "source": [
        "import numpy as np\n",
        "import pandas as pd\n",
        "import matplotlib.pyplot as plt\n",
        "from sklearn.model_selection import train_test_split\n",
        "import torch\n",
        "from torch.utils.data import DataLoader, TensorDataset\n",
        "from torch import nn\n",
        "from sklearn.metrics import f1_score, accuracy_score"
      ]
    },
    {
      "cell_type": "markdown",
      "metadata": {
        "id": "EEx6eJiFeyd_"
      },
      "source": [
        "### Let's define constants for this code"
      ]
    },
    {
      "cell_type": "code",
      "execution_count": 237,
      "metadata": {
        "id": "FcXbp8gYZrTh"
      },
      "outputs": [],
      "source": [
        "device = \"cuda\" if torch.cuda.is_available() else \"cpu\"\n",
        "BATCH_SIZE = 32\n",
        "EPOCHS = 50\n",
        "LEARNING_RATE = 0.001\n",
        "\n",
        "model_1_loss_and_acc = pd.DataFrame()\n",
        "model_1_loss_and_acc['train_loss'] = []\n",
        "model_1_loss_and_acc['train_acc'] = []\n",
        "model_1_loss_and_acc['test_loss'] = []\n",
        "model_1_loss_and_acc['test_acc'] = []\n",
        "model_1_loss_and_acc['f1_score'] = []\n",
        "\n",
        "model_2_loss_and_acc = model_1_loss_and_acc.copy()\n",
        "model_3_loss_and_acc = model_1_loss_and_acc.copy()"
      ]
    },
    {
      "cell_type": "code",
      "execution_count": 238,
      "metadata": {
        "colab": {
          "base_uri": "https://localhost:8080/",
          "height": 206
        },
        "id": "hoSfM6Hpk4QX",
        "outputId": "e48cd664-7677-491b-e36a-3c9eaffbcfb7"
      },
      "outputs": [
        {
          "data": {
            "text/html": [
              "<div>\n",
              "<style scoped>\n",
              "    .dataframe tbody tr th:only-of-type {\n",
              "        vertical-align: middle;\n",
              "    }\n",
              "\n",
              "    .dataframe tbody tr th {\n",
              "        vertical-align: top;\n",
              "    }\n",
              "\n",
              "    .dataframe thead th {\n",
              "        text-align: right;\n",
              "    }\n",
              "</style>\n",
              "<table border=\"1\" class=\"dataframe\">\n",
              "  <thead>\n",
              "    <tr style=\"text-align: right;\">\n",
              "      <th></th>\n",
              "      <th>Delta</th>\n",
              "      <th>Theta</th>\n",
              "      <th>Alpha_low</th>\n",
              "      <th>Alpha_high</th>\n",
              "      <th>Beta_low</th>\n",
              "      <th>Beta_high</th>\n",
              "      <th>Gamma_low</th>\n",
              "      <th>Gamma_high</th>\n",
              "      <th>Attention</th>\n",
              "      <th>Meditation</th>\n",
              "      <th>BlinkStrength</th>\n",
              "      <th>Flag</th>\n",
              "    </tr>\n",
              "  </thead>\n",
              "  <tbody>\n",
              "    <tr>\n",
              "      <th>0</th>\n",
              "      <td>785389</td>\n",
              "      <td>114375</td>\n",
              "      <td>57106</td>\n",
              "      <td>37625</td>\n",
              "      <td>24464</td>\n",
              "      <td>17104</td>\n",
              "      <td>15846</td>\n",
              "      <td>8024</td>\n",
              "      <td>45</td>\n",
              "      <td>91</td>\n",
              "      <td>15</td>\n",
              "      <td>1</td>\n",
              "    </tr>\n",
              "    <tr>\n",
              "      <th>1</th>\n",
              "      <td>386949</td>\n",
              "      <td>80792</td>\n",
              "      <td>23506</td>\n",
              "      <td>22118</td>\n",
              "      <td>9566</td>\n",
              "      <td>7147</td>\n",
              "      <td>5392</td>\n",
              "      <td>1697</td>\n",
              "      <td>8</td>\n",
              "      <td>42</td>\n",
              "      <td>6</td>\n",
              "      <td>0</td>\n",
              "    </tr>\n",
              "    <tr>\n",
              "      <th>2</th>\n",
              "      <td>21453</td>\n",
              "      <td>14085</td>\n",
              "      <td>4756</td>\n",
              "      <td>5062</td>\n",
              "      <td>2176</td>\n",
              "      <td>2117</td>\n",
              "      <td>2867</td>\n",
              "      <td>862</td>\n",
              "      <td>48</td>\n",
              "      <td>66</td>\n",
              "      <td>9</td>\n",
              "      <td>1</td>\n",
              "    </tr>\n",
              "    <tr>\n",
              "      <th>3</th>\n",
              "      <td>322637</td>\n",
              "      <td>56936</td>\n",
              "      <td>17810</td>\n",
              "      <td>25793</td>\n",
              "      <td>15870</td>\n",
              "      <td>8050</td>\n",
              "      <td>3621</td>\n",
              "      <td>2100</td>\n",
              "      <td>25</td>\n",
              "      <td>69</td>\n",
              "      <td>8</td>\n",
              "      <td>0</td>\n",
              "    </tr>\n",
              "    <tr>\n",
              "      <th>4</th>\n",
              "      <td>19412</td>\n",
              "      <td>12985</td>\n",
              "      <td>6416</td>\n",
              "      <td>6131</td>\n",
              "      <td>7126</td>\n",
              "      <td>7419</td>\n",
              "      <td>2677</td>\n",
              "      <td>1884</td>\n",
              "      <td>80</td>\n",
              "      <td>53</td>\n",
              "      <td>-1</td>\n",
              "      <td>1</td>\n",
              "    </tr>\n",
              "  </tbody>\n",
              "</table>\n",
              "</div>"
            ],
            "text/plain": [
              "    Delta   Theta  Alpha_low  Alpha_high  Beta_low  Beta_high  Gamma_low  \\\n",
              "0  785389  114375      57106       37625     24464      17104      15846   \n",
              "1  386949   80792      23506       22118      9566       7147       5392   \n",
              "2   21453   14085       4756        5062      2176       2117       2867   \n",
              "3  322637   56936      17810       25793     15870       8050       3621   \n",
              "4   19412   12985       6416        6131      7126       7419       2677   \n",
              "\n",
              "   Gamma_high  Attention  Meditation  BlinkStrength  Flag  \n",
              "0        8024         45          91             15     1  \n",
              "1        1697          8          42              6     0  \n",
              "2         862         48          66              9     1  \n",
              "3        2100         25          69              8     0  \n",
              "4        1884         80          53             -1     1  "
            ]
          },
          "execution_count": 238,
          "metadata": {},
          "output_type": "execute_result"
        }
      ],
      "source": [
        "dataset = pd.read_csv(\"autentykacja_eeg.csv\", delimiter=\";\")\n",
        "dataset.head()"
      ]
    },
    {
      "cell_type": "code",
      "execution_count": 239,
      "metadata": {
        "id": "QbIvRXthlIER"
      },
      "outputs": [],
      "source": [
        "\n",
        "def split_data(X, y, test_size, random_state):\n",
        "    # split the data into training and remaining data\n",
        "    X_train, X_rem, y_train, y_rem = train_test_split(X, y, test_size=0.3, random_state=1)\n",
        "\n",
        "    # split the remaining data into validation and test sets\n",
        "    X_val, X_test, y_val, y_test = train_test_split(X_rem, y_rem, test_size=0.5, random_state=1)\n",
        "\n",
        "    return X_train, X_test, X_val, y_train, y_test, y_val\n",
        "    \n",
        "X = torch.tensor(dataset.loc[:, \"Delta\": \"BlinkStrength\"].values, dtype=torch.float32)\n",
        "y = torch.tensor(dataset.Flag.values, dtype=torch.float32)\n",
        "\n",
        "X_train, X_test, X_val, y_train, y_test, y_val = split_data(X, y, 0.4, 1)"
      ]
    },
    {
      "cell_type": "code",
      "execution_count": 240,
      "metadata": {
        "colab": {
          "base_uri": "https://localhost:8080/"
        },
        "id": "sTPqYIA2nNwN",
        "outputId": "0c144700-43f5-40e4-8610-bb4e5e336d6e"
      },
      "outputs": [
        {
          "name": "stdout",
          "output_type": "stream",
          "text": [
            "Shapes\n",
            "X_train: torch.Size([3670, 11])\n",
            "X_test: torch.Size([787, 11])\n",
            "y_train: torch.Size([3670])\n",
            "ny_test: torch.Size([787])\n",
            "X_val: torch.Size([787, 11])\n",
            "y_val: torch.Size([787])\n"
          ]
        }
      ],
      "source": [
        "print(f\"Shapes\\nX_train: {X_train.shape}\\nX_test: {X_test.shape}\\ny_train: {y_train.shape}\\nny_test: {y_test.shape}\\nX_val: {X_val.shape}\\ny_val: {y_val.shape}\")"
      ]
    },
    {
      "cell_type": "code",
      "execution_count": 241,
      "metadata": {},
      "outputs": [],
      "source": [
        "y_train = y_train.unsqueeze(1)\n",
        "y_val = y_val.unsqueeze(1)\n",
        "y_test = y_test.unsqueeze(1)"
      ]
    },
    {
      "cell_type": "markdown",
      "metadata": {
        "id": "1RlidnRQdgoy"
      },
      "source": [
        "## Let's create a datasets and proceed so we can make a dataloaders out of them."
      ]
    },
    {
      "cell_type": "code",
      "execution_count": 242,
      "metadata": {
        "colab": {
          "base_uri": "https://localhost:8080/"
        },
        "id": "NfaiTsjIbM7p",
        "outputId": "4f6f1f97-2a26-4e76-a719-dd0bc7c55ac3"
      },
      "outputs": [],
      "source": [
        "def create_dataloader(X, y):\n",
        "    dataset = TensorDataset(X, y)\n",
        "    \n",
        "    dataloader = DataLoader(\n",
        "        dataset,\n",
        "        batch_size=BATCH_SIZE,\n",
        "        shuffle=True\n",
        "    \n",
        "    )\n",
        "    print(f\"DataLoader length: {len(dataloader)} | Batch Size: {BATCH_SIZE}\")\n",
        "    return dataloader"
      ]
    },
    {
      "cell_type": "code",
      "execution_count": 243,
      "metadata": {},
      "outputs": [
        {
          "name": "stdout",
          "output_type": "stream",
          "text": [
            "DataLoader length: 115 | Batch Size: 32\n",
            "DataLoader length: 25 | Batch Size: 32\n",
            "DataLoader length: 25 | Batch Size: 32\n"
          ]
        }
      ],
      "source": [
        "train_dataloader = create_dataloader(X_train, y_train)\n",
        "test_dataloader = create_dataloader(X_test, y_test)\n",
        "val_dataloader = create_dataloader(X_val, y_val)"
      ]
    },
    {
      "cell_type": "markdown",
      "metadata": {
        "id": "QwG5u4HjYvii"
      },
      "source": [
        "## First of all, I'll try to train my neural network on unchanged data."
      ]
    },
    {
      "cell_type": "code",
      "execution_count": 244,
      "metadata": {
        "colab": {
          "base_uri": "https://localhost:8080/"
        },
        "id": "yKH78u-ja_uE",
        "outputId": "20b01997-99ab-4320-fce4-1a851df6ef7d"
      },
      "outputs": [
        {
          "data": {
            "text/plain": [
              "FlagModel(\n",
              "  (block_1): Sequential(\n",
              "    (0): Linear(in_features=11, out_features=32, bias=True)\n",
              "    (1): ReLU()\n",
              "    (2): Linear(in_features=32, out_features=32, bias=True)\n",
              "    (3): ReLU()\n",
              "    (4): Linear(in_features=32, out_features=1, bias=True)\n",
              "    (5): Sigmoid()\n",
              "  )\n",
              ")"
            ]
          },
          "execution_count": 244,
          "metadata": {},
          "output_type": "execute_result"
        }
      ],
      "source": [
        "input = len(dataset.columns.values) - 1\n",
        "output = 1\n",
        "\n",
        "\n",
        "class FlagModel(nn.Module):\n",
        "    def __init__(self, input_shape: int, hidden_units: int, output_shape: int):\n",
        "        super().__init__()\n",
        "\n",
        "        self.block_1 = nn.Sequential(\n",
        "            nn.Linear(in_features=input_shape, out_features=hidden_units),\n",
        "            nn.ReLU(),\n",
        "            nn.Linear(in_features=hidden_units, out_features=hidden_units),\n",
        "            nn.ReLU(),\n",
        "            nn.Linear(in_features=hidden_units, out_features=output_shape),\n",
        "            nn.Sigmoid()\n",
        "        )\n",
        "\n",
        "    def forward(self, x):\n",
        "        return self.block_1(x)\n",
        "\n",
        "\n",
        "flag_model_1 = FlagModel(input, 32, output).to(device)\n",
        "flag_model_1"
      ]
    },
    {
      "cell_type": "code",
      "execution_count": 245,
      "metadata": {
        "id": "5c1TUzaIa_p1"
      },
      "outputs": [],
      "source": [
        "def accuracy_fn(y_true: torch.Tensor, y_pred: torch.Tensor) -> [torch.float]:\n",
        "    correct = torch.eq(y_true, y_pred).sum().item()\n",
        "    acc = (correct / len(y_pred)) * 100\n",
        "    return acc\n",
        "\n",
        "def count_correct_predictions(y_true: torch.Tensor, y_pred: torch.Tensor):\n",
        "    correct = torch.eq(y_true, y_pred).sum().item()\n",
        "    return correct\n",
        "\n",
        "loss_fn = nn.BCEWithLogitsLoss()\n",
        "# loss_fn = nn.BCELoss()\n",
        "\n",
        "optimizer = torch.optim.Adam(params=flag_model_1.parameters(), lr=LEARNING_RATE)"
      ]
    },
    {
      "cell_type": "code",
      "execution_count": 246,
      "metadata": {
        "id": "l-DG01LBa_mw"
      },
      "outputs": [],
      "source": [
        "\n",
        "def train_step(model: torch.nn.Module,\n",
        "               data_loader: torch.utils.data.DataLoader,\n",
        "               loss_fn: torch.nn.Module,\n",
        "               optimizer: torch.optim.Optimizer,\n",
        "            #    accuracy_fn,\n",
        "               device: torch.device = device):\n",
        "    train_loss, train_hits, train_acc, all_y_true, all_y_pred = 0, 0, 0, [], []\n",
        "    model.train()\n",
        "\n",
        "    for batch in data_loader:\n",
        "        X, y = batch\n",
        "        X, y = X.to(device), y.to(device)\n",
        "\n",
        "        logits = model(X)\n",
        "        pred = torch.round(logits)\n",
        "        \n",
        "        loss = loss_fn(logits, y)\n",
        "        # acc = accuracy_fn(y_true=y, y_pred=pred)\n",
        "        train_hits += count_correct_predictions(y, pred) # ile poprawnych predykcji zostało dokonanych\n",
        "            \n",
        "        \n",
        "        optimizer.zero_grad()\n",
        "        loss.backward()\n",
        "        optimizer.step()\n",
        "\n",
        "        train_loss += loss.item()\n",
        "        # train_acc += acc\n",
        "        \n",
        "        all_y_true.extend(y)\n",
        "        all_y_pred.extend(pred)\n",
        "        \n",
        "    total_train_acc = accuracy_fn(torch.Tensor(all_y_true), torch.Tensor(all_y_pred)) \n",
        "\n",
        "    return train_loss / len(data_loader.dataset), total_train_acc, # train_acc / len(data_loader.dataset)\n"
      ]
    },
    {
      "cell_type": "code",
      "execution_count": 247,
      "metadata": {
        "id": "V4fDzN61a_jN"
      },
      "outputs": [],
      "source": [
        "def test_step(model: torch.nn.Module,\n",
        "               data_loader: torch.utils.data.DataLoader,\n",
        "               loss_fn: torch.nn.Module,\n",
        "            #    accuracy_fn,\n",
        "               device:torch.device = device):\n",
        "    model.eval()\n",
        "    test_loss, test_hits, all_y_true, all_y_pred = 0, 0, [], []\n",
        "    test_acc = 0\n",
        "    with torch.inference_mode():\n",
        "        \n",
        "        for batch in data_loader:\n",
        "            X, y = batch\n",
        "            X, y = X.to(device), y.to(device)\n",
        "            \n",
        "            logits = model(X)\n",
        "            pred = torch.round(logits)\n",
        "            # pred = torch.round(logits)\n",
        "            \n",
        "            loss = loss_fn(logits, y)\n",
        "            # acc = accuracy_fn(y_true=y, y_pred=pred)\n",
        "            # print(\"ACC: \", acc)\n",
        "\n",
        "            test_loss += loss.item()\n",
        "            # test_acc += acc\n",
        "\n",
        "            test_hits += count_correct_predictions(y, pred) # ile poprawnych predykcji zostało dokonanych\n",
        "            \n",
        "            all_y_true.extend(y.cpu().numpy())\n",
        "            all_y_pred.extend(pred.cpu().numpy())\n",
        "\n",
        "    # Calculate F1 score\n",
        "    f1 = f1_score(all_y_true, all_y_pred, average='macro')\n",
        "    acc2 = accuracy_fn(torch.Tensor(all_y_true), torch.Tensor(all_y_pred))\n",
        "\n",
        "    total_test_acc = test_hits / len(val_dataloader.dataset)\n",
        "\n",
        "    return test_loss / len(data_loader.dataset), acc2, f1\n",
        "\n"
      ]
    },
    {
      "cell_type": "code",
      "execution_count": 248,
      "metadata": {
        "id": "5QoSJrtxa_f8"
      },
      "outputs": [],
      "source": [
        "\n",
        "from timeit import default_timer as timer\n",
        "from tqdm.auto import tqdm\n",
        "\n",
        "train_time_start = timer()\n",
        "\n",
        "torch.manual_seed(42)\n",
        "\n",
        "def train(model: torch.nn.Module,\n",
        "         train_data: torch.utils.data.DataLoader,\n",
        "         test_data: torch.utils.data.DataLoader,\n",
        "         loss_fn: torch.nn.Module,\n",
        "         optimizer: torch.optim.Optimizer,\n",
        "        #  accuracy_fn,\n",
        "         epochs: int,\n",
        "         device:torch.device = device,\n",
        "         model_loss_and_acc: pd.DataFrame = None):\n",
        "\n",
        "   if model_loss_and_acc is None:\n",
        "       model_loss_and_acc = pd.DataFrame(columns=['train_loss', 'train_acc', 'test_loss', 'test_acc', \"f1_score\"])\n",
        "\n",
        "   for epoch in tqdm(range(epochs)):\n",
        "        train_loss, train_acc = train_step(model=model,\n",
        "                                     data_loader=train_data,\n",
        "                                     loss_fn=loss_fn,\n",
        "                                     optimizer=optimizer,\n",
        "                                    #  accuracy_fn=accuracy_fn,\n",
        "                                     device=device)\n",
        "        test_loss, test_acc, f1_score = test_step(model=model,\n",
        "                                     data_loader=test_data,\n",
        "                                     loss_fn=loss_fn,\n",
        "                                    #  accuracy_fn=accuracy_fn,\n",
        "                                     device=device)\n",
        "\n",
        "        new_row = pd.Series({'train_loss': train_loss, 'train_acc': train_acc, 'test_loss': test_loss, 'test_acc': test_acc, \"f1_score\": f1_score})\n",
        "        model_loss_and_acc.loc[len(model_loss_and_acc.index)] = new_row\n",
        "\n",
        "        if epoch % 5:\n",
        "            print(f\"\\nEpoch: {epoch} | Train Loss: {train_loss:.5f} | Train Acc: {train_acc:.5f}% | Test loss: {test_loss} | Test Acc: {test_acc:.5f}%\")\n",
        "\n",
        "   train_time_end = timer()\n",
        "   print(f\"\\nTraining was done in {(train_time_end - train_time_start):.5f} seconds\")\n",
        "\n",
        "   return model_loss_and_acc"
      ]
    },
    {
      "cell_type": "code",
      "execution_count": 249,
      "metadata": {
        "colab": {
          "base_uri": "https://localhost:8080/",
          "height": 437,
          "referenced_widgets": [
            "a70778d220054505a183d31c879a8eca",
            "03d4b5b1656b4748ab4b11e9abb38bd4",
            "377bb1f9a54e4e4491cc72845ebb3668",
            "685f0af5d2d14ff895a0cf5c8ba8331f",
            "9a89085b2a504485b989a727afb8504c",
            "123010fb9b4747a6979342aed38d3a79",
            "1fa7eb4654e3436c8d43091d368ed0a2",
            "204a6cad6bd842d4b881f6cc905eb67d",
            "ae4f0a2bab994ca5ae3b37786b405bc0",
            "8859e5e443a34371b40dabd8162f9ce7",
            "f010dc6e68964610817def2c8e80b743"
          ]
        },
        "id": "4LdPoOfta_cj",
        "outputId": "dfb87172-fe7d-457d-8852-40c873df3bc7"
      },
      "outputs": [
        {
          "name": "stderr",
          "output_type": "stream",
          "text": [
            "  4%|▍         | 2/50 [00:00<00:13,  3.67it/s]"
          ]
        },
        {
          "name": "stdout",
          "output_type": "stream",
          "text": [
            "\n",
            "Epoch: 1 | Train Loss: 0.02249 | Train Acc: 59.56403% | Test loss: 0.02190734372205625 | Test Acc: 62.26175%\n"
          ]
        },
        {
          "name": "stderr",
          "output_type": "stream",
          "text": [
            "  8%|▊         | 4/50 [00:01<00:13,  3.39it/s]"
          ]
        },
        {
          "name": "stdout",
          "output_type": "stream",
          "text": [
            "\n",
            "Epoch: 2 | Train Loss: 0.02249 | Train Acc: 59.56403% | Test loss: 0.021961680967289732 | Test Acc: 62.26175%\n",
            "\n",
            "Epoch: 3 | Train Loss: 0.02250 | Train Acc: 59.56403% | Test loss: 0.022016018061050163 | Test Acc: 62.26175%\n"
          ]
        },
        {
          "name": "stderr",
          "output_type": "stream",
          "text": [
            " 10%|█         | 5/50 [00:01<00:11,  3.91it/s]"
          ]
        },
        {
          "name": "stdout",
          "output_type": "stream",
          "text": [
            "\n",
            "Epoch: 4 | Train Loss: 0.02247 | Train Acc: 59.56403% | Test loss: 0.0219073441764754 | Test Acc: 62.26175%\n"
          ]
        },
        {
          "name": "stderr",
          "output_type": "stream",
          "text": [
            " 16%|█▌        | 8/50 [00:02<00:09,  4.29it/s]"
          ]
        },
        {
          "name": "stdout",
          "output_type": "stream",
          "text": [
            "\n",
            "Epoch: 6 | Train Loss: 0.02249 | Train Acc: 59.56403% | Test loss: 0.02188017574319997 | Test Acc: 62.26175%\n",
            "\n",
            "Epoch: 7 | Train Loss: 0.02249 | Train Acc: 59.56403% | Test loss: 0.022043185774828607 | Test Acc: 62.26175%\n"
          ]
        },
        {
          "name": "stderr",
          "output_type": "stream",
          "text": [
            " 20%|██        | 10/50 [00:02<00:07,  5.01it/s]"
          ]
        },
        {
          "name": "stdout",
          "output_type": "stream",
          "text": [
            "\n",
            "Epoch: 8 | Train Loss: 0.02249 | Train Acc: 59.56403% | Test loss: 0.021961680891553207 | Test Acc: 62.26175%\n",
            "\n",
            "Epoch: 9 | Train Loss: 0.02246 | Train Acc: 59.56403% | Test loss: 0.021907344100738874 | Test Acc: 62.26175%\n"
          ]
        },
        {
          "name": "stderr",
          "output_type": "stream",
          "text": [
            " 24%|██▍       | 12/50 [00:02<00:06,  5.45it/s]"
          ]
        },
        {
          "name": "stdout",
          "output_type": "stream",
          "text": [
            "\n",
            "Epoch: 11 | Train Loss: 0.02249 | Train Acc: 59.56403% | Test loss: 0.021880175591726923 | Test Acc: 62.26175%\n"
          ]
        },
        {
          "name": "stderr",
          "output_type": "stream",
          "text": [
            " 26%|██▌       | 13/50 [00:03<00:08,  4.41it/s]"
          ]
        },
        {
          "name": "stdout",
          "output_type": "stream",
          "text": [
            "\n",
            "Epoch: 12 | Train Loss: 0.02249 | Train Acc: 59.56403% | Test loss: 0.021961681194499306 | Test Acc: 62.26175%\n"
          ]
        },
        {
          "name": "stderr",
          "output_type": "stream",
          "text": [
            " 28%|██▊       | 14/50 [00:03<00:09,  3.61it/s]"
          ]
        },
        {
          "name": "stdout",
          "output_type": "stream",
          "text": [
            "\n",
            "Epoch: 13 | Train Loss: 0.02248 | Train Acc: 59.56403% | Test loss: 0.02201601783384059 | Test Acc: 62.26175%\n"
          ]
        },
        {
          "name": "stderr",
          "output_type": "stream",
          "text": [
            " 30%|███       | 15/50 [00:03<00:11,  3.17it/s]"
          ]
        },
        {
          "name": "stdout",
          "output_type": "stream",
          "text": [
            "\n",
            "Epoch: 14 | Train Loss: 0.02249 | Train Acc: 59.56403% | Test loss: 0.021988849362696898 | Test Acc: 62.26175%\n"
          ]
        },
        {
          "name": "stderr",
          "output_type": "stream",
          "text": [
            " 36%|███▌      | 18/50 [00:04<00:07,  4.10it/s]"
          ]
        },
        {
          "name": "stdout",
          "output_type": "stream",
          "text": [
            "\n",
            "Epoch: 16 | Train Loss: 0.02249 | Train Acc: 59.56403% | Test loss: 0.02193451245827778 | Test Acc: 62.26175%\n",
            "\n",
            "Epoch: 17 | Train Loss: 0.02249 | Train Acc: 59.56403% | Test loss: 0.021907343797792776 | Test Acc: 62.26175%\n"
          ]
        },
        {
          "name": "stderr",
          "output_type": "stream",
          "text": [
            " 40%|████      | 20/50 [00:04<00:06,  4.78it/s]"
          ]
        },
        {
          "name": "stdout",
          "output_type": "stream",
          "text": [
            "\n",
            "Epoch: 18 | Train Loss: 0.02250 | Train Acc: 59.56403% | Test loss: 0.021880175818936493 | Test Acc: 62.26175%\n",
            "\n",
            "Epoch: 19 | Train Loss: 0.02249 | Train Acc: 59.56403% | Test loss: 0.02193451245827778 | Test Acc: 62.26175%\n"
          ]
        },
        {
          "name": "stderr",
          "output_type": "stream",
          "text": [
            " 44%|████▍     | 22/50 [00:05<00:05,  5.45it/s]"
          ]
        },
        {
          "name": "stdout",
          "output_type": "stream",
          "text": [
            "\n",
            "Epoch: 21 | Train Loss: 0.02248 | Train Acc: 59.56403% | Test loss: 0.022070354548918397 | Test Acc: 62.26175%\n"
          ]
        },
        {
          "name": "stderr",
          "output_type": "stream",
          "text": [
            " 48%|████▊     | 24/50 [00:05<00:05,  5.12it/s]"
          ]
        },
        {
          "name": "stdout",
          "output_type": "stream",
          "text": [
            "\n",
            "Epoch: 22 | Train Loss: 0.02247 | Train Acc: 59.56403% | Test loss: 0.021934512534014305 | Test Acc: 62.26175%\n",
            "\n",
            "Epoch: 23 | Train Loss: 0.02247 | Train Acc: 59.56403% | Test loss: 0.021934512534014305 | Test Acc: 62.26175%\n"
          ]
        },
        {
          "name": "stderr",
          "output_type": "stream",
          "text": [
            " 52%|█████▏    | 26/50 [00:05<00:04,  5.63it/s]"
          ]
        },
        {
          "name": "stdout",
          "output_type": "stream",
          "text": [
            "\n",
            "Epoch: 24 | Train Loss: 0.02247 | Train Acc: 59.56403% | Test loss: 0.02193451245827778 | Test Acc: 62.26175%\n"
          ]
        },
        {
          "name": "stderr",
          "output_type": "stream",
          "text": [
            " 56%|█████▌    | 28/50 [00:06<00:03,  5.89it/s]"
          ]
        },
        {
          "name": "stdout",
          "output_type": "stream",
          "text": [
            "\n",
            "Epoch: 26 | Train Loss: 0.02248 | Train Acc: 59.56403% | Test loss: 0.022043186342852544 | Test Acc: 62.26175%\n",
            "\n",
            "Epoch: 27 | Train Loss: 0.02248 | Train Acc: 59.56403% | Test loss: 0.021907343949265825 | Test Acc: 62.26175%\n"
          ]
        },
        {
          "name": "stderr",
          "output_type": "stream",
          "text": [
            " 60%|██████    | 30/50 [00:06<00:03,  5.98it/s]"
          ]
        },
        {
          "name": "stdout",
          "output_type": "stream",
          "text": [
            "\n",
            "Epoch: 28 | Train Loss: 0.02249 | Train Acc: 59.56403% | Test loss: 0.021880175894673018 | Test Acc: 62.26175%\n",
            "\n",
            "Epoch: 29 | Train Loss: 0.02249 | Train Acc: 59.56403% | Test loss: 0.021988849324828637 | Test Acc: 62.26175%\n"
          ]
        },
        {
          "name": "stderr",
          "output_type": "stream",
          "text": [
            " 66%|██████▌   | 33/50 [00:07<00:02,  6.05it/s]"
          ]
        },
        {
          "name": "stdout",
          "output_type": "stream",
          "text": [
            "\n",
            "Epoch: 31 | Train Loss: 0.02248 | Train Acc: 59.56403% | Test loss: 0.0219345128369604 | Test Acc: 62.26175%\n",
            "\n",
            "Epoch: 32 | Train Loss: 0.02247 | Train Acc: 59.56403% | Test loss: 0.021934512382541255 | Test Acc: 62.26175%\n"
          ]
        },
        {
          "name": "stderr",
          "output_type": "stream",
          "text": [
            " 68%|██████▊   | 34/50 [00:07<00:03,  4.93it/s]"
          ]
        },
        {
          "name": "stdout",
          "output_type": "stream",
          "text": [
            "\n",
            "Epoch: 33 | Train Loss: 0.02249 | Train Acc: 59.56403% | Test loss: 0.02190734402500235 | Test Acc: 62.26175%\n"
          ]
        },
        {
          "name": "stderr",
          "output_type": "stream",
          "text": [
            " 70%|███████   | 35/50 [00:07<00:03,  4.15it/s]"
          ]
        },
        {
          "name": "stdout",
          "output_type": "stream",
          "text": [
            "\n",
            "Epoch: 34 | Train Loss: 0.02248 | Train Acc: 59.56403% | Test loss: 0.021961680740080158 | Test Acc: 62.26175%\n"
          ]
        },
        {
          "name": "stderr",
          "output_type": "stream",
          "text": [
            " 74%|███████▍  | 37/50 [00:08<00:03,  3.34it/s]"
          ]
        },
        {
          "name": "stdout",
          "output_type": "stream",
          "text": [
            "\n",
            "Epoch: 36 | Train Loss: 0.02249 | Train Acc: 59.56403% | Test loss: 0.021988849552038208 | Test Acc: 62.26175%\n"
          ]
        },
        {
          "name": "stderr",
          "output_type": "stream",
          "text": [
            " 76%|███████▌  | 38/50 [00:08<00:03,  3.16it/s]"
          ]
        },
        {
          "name": "stdout",
          "output_type": "stream",
          "text": [
            "\n",
            "Epoch: 37 | Train Loss: 0.02248 | Train Acc: 59.56403% | Test loss: 0.022043186342852544 | Test Acc: 62.26175%\n"
          ]
        },
        {
          "name": "stderr",
          "output_type": "stream",
          "text": [
            " 78%|███████▊  | 39/50 [00:09<00:03,  3.39it/s]"
          ]
        },
        {
          "name": "stdout",
          "output_type": "stream",
          "text": [
            "\n",
            "Epoch: 38 | Train Loss: 0.02248 | Train Acc: 59.56403% | Test loss: 0.02193451245827778 | Test Acc: 62.26175%\n"
          ]
        },
        {
          "name": "stderr",
          "output_type": "stream",
          "text": [
            " 82%|████████▏ | 41/50 [00:09<00:02,  3.82it/s]"
          ]
        },
        {
          "name": "stdout",
          "output_type": "stream",
          "text": [
            "\n",
            "Epoch: 39 | Train Loss: 0.02249 | Train Acc: 59.56403% | Test loss: 0.02193451245827778 | Test Acc: 62.26175%\n"
          ]
        },
        {
          "name": "stderr",
          "output_type": "stream",
          "text": [
            " 86%|████████▌ | 43/50 [00:09<00:01,  4.20it/s]"
          ]
        },
        {
          "name": "stdout",
          "output_type": "stream",
          "text": [
            "\n",
            "Epoch: 41 | Train Loss: 0.02249 | Train Acc: 59.56403% | Test loss: 0.02193451245827778 | Test Acc: 62.26175%\n",
            "\n",
            "Epoch: 42 | Train Loss: 0.02248 | Train Acc: 59.56403% | Test loss: 0.021880175137307774 | Test Acc: 62.26175%\n"
          ]
        },
        {
          "name": "stderr",
          "output_type": "stream",
          "text": [
            " 88%|████████▊ | 44/50 [00:10<00:01,  4.50it/s]"
          ]
        },
        {
          "name": "stdout",
          "output_type": "stream",
          "text": [
            "\n",
            "Epoch: 43 | Train Loss: 0.02249 | Train Acc: 59.56403% | Test loss: 0.021961680815816682 | Test Acc: 62.26175%\n"
          ]
        },
        {
          "name": "stderr",
          "output_type": "stream",
          "text": [
            " 90%|█████████ | 45/50 [00:10<00:01,  3.87it/s]"
          ]
        },
        {
          "name": "stdout",
          "output_type": "stream",
          "text": [
            "\n",
            "Epoch: 44 | Train Loss: 0.02249 | Train Acc: 59.56403% | Test loss: 0.021880175667463447 | Test Acc: 62.26175%\n"
          ]
        },
        {
          "name": "stderr",
          "output_type": "stream",
          "text": [
            " 94%|█████████▍| 47/50 [00:11<00:00,  3.44it/s]"
          ]
        },
        {
          "name": "stdout",
          "output_type": "stream",
          "text": [
            "\n",
            "Epoch: 46 | Train Loss: 0.02247 | Train Acc: 59.56403% | Test loss: 0.021907343797792776 | Test Acc: 62.26175%\n"
          ]
        },
        {
          "name": "stderr",
          "output_type": "stream",
          "text": [
            " 96%|█████████▌| 48/50 [00:11<00:00,  2.98it/s]"
          ]
        },
        {
          "name": "stdout",
          "output_type": "stream",
          "text": [
            "\n",
            "Epoch: 47 | Train Loss: 0.02249 | Train Acc: 59.56403% | Test loss: 0.021907344100738874 | Test Acc: 62.26175%\n"
          ]
        },
        {
          "name": "stderr",
          "output_type": "stream",
          "text": [
            " 98%|█████████▊| 49/50 [00:11<00:00,  3.17it/s]"
          ]
        },
        {
          "name": "stdout",
          "output_type": "stream",
          "text": [
            "\n",
            "Epoch: 48 | Train Loss: 0.02247 | Train Acc: 59.56403% | Test loss: 0.02188017536451735 | Test Acc: 62.26175%\n"
          ]
        },
        {
          "name": "stderr",
          "output_type": "stream",
          "text": [
            "100%|██████████| 50/50 [00:12<00:00,  4.07it/s]"
          ]
        },
        {
          "name": "stdout",
          "output_type": "stream",
          "text": [
            "\n",
            "Epoch: 49 | Train Loss: 0.02249 | Train Acc: 59.59128% | Test loss: 0.021961680891553207 | Test Acc: 62.26175%\n",
            "\n",
            "Training was done in 12.31176 seconds\n"
          ]
        },
        {
          "name": "stderr",
          "output_type": "stream",
          "text": [
            "\n"
          ]
        }
      ],
      "source": [
        "model_1_loss_and_acc = train(model=flag_model_1,\n",
        "      train_data=train_dataloader,\n",
        "      test_data=val_dataloader,\n",
        "      loss_fn=loss_fn,\n",
        "      optimizer=optimizer,\n",
        "      # accuracy_fn=accuracy_fn,\n",
        "      epochs=EPOCHS,\n",
        "      model_loss_and_acc=model_1_loss_and_acc)"
      ]
    },
    {
      "cell_type": "markdown",
      "metadata": {},
      "source": [
        "# Since predicting on unchanged data wasn't fruitful I'll try to modify them using log function"
      ]
    },
    {
      "cell_type": "code",
      "execution_count": 250,
      "metadata": {},
      "outputs": [
        {
          "data": {
            "text/html": [
              "<div>\n",
              "<style scoped>\n",
              "    .dataframe tbody tr th:only-of-type {\n",
              "        vertical-align: middle;\n",
              "    }\n",
              "\n",
              "    .dataframe tbody tr th {\n",
              "        vertical-align: top;\n",
              "    }\n",
              "\n",
              "    .dataframe thead th {\n",
              "        text-align: right;\n",
              "    }\n",
              "</style>\n",
              "<table border=\"1\" class=\"dataframe\">\n",
              "  <thead>\n",
              "    <tr style=\"text-align: right;\">\n",
              "      <th></th>\n",
              "      <th>Delta_log</th>\n",
              "      <th>Theta_log</th>\n",
              "      <th>Alpha_low_log</th>\n",
              "      <th>Alpha_high_log</th>\n",
              "      <th>Beta_low_log</th>\n",
              "      <th>Beta_high_log</th>\n",
              "      <th>Gamma_low_log</th>\n",
              "      <th>Gamma_high_log</th>\n",
              "      <th>BlinkStrength</th>\n",
              "      <th>Attention</th>\n",
              "      <th>Meditation</th>\n",
              "      <th>Flag</th>\n",
              "    </tr>\n",
              "  </thead>\n",
              "  <tbody>\n",
              "    <tr>\n",
              "      <th>count</th>\n",
              "      <td>5244.000000</td>\n",
              "      <td>5244.000000</td>\n",
              "      <td>5244.000000</td>\n",
              "      <td>5244.000000</td>\n",
              "      <td>5244.000000</td>\n",
              "      <td>5244.000000</td>\n",
              "      <td>5244.000000</td>\n",
              "      <td>5244.000000</td>\n",
              "      <td>5244.000000</td>\n",
              "      <td>5244.000000</td>\n",
              "      <td>5244.000000</td>\n",
              "      <td>5244.000000</td>\n",
              "    </tr>\n",
              "    <tr>\n",
              "      <th>mean</th>\n",
              "      <td>12.064500</td>\n",
              "      <td>10.695941</td>\n",
              "      <td>9.355392</td>\n",
              "      <td>9.250890</td>\n",
              "      <td>9.035782</td>\n",
              "      <td>8.828616</td>\n",
              "      <td>8.406818</td>\n",
              "      <td>7.724752</td>\n",
              "      <td>11.547292</td>\n",
              "      <td>51.652365</td>\n",
              "      <td>58.632151</td>\n",
              "      <td>0.601068</td>\n",
              "    </tr>\n",
              "    <tr>\n",
              "      <th>std</th>\n",
              "      <td>1.189917</td>\n",
              "      <td>0.825552</td>\n",
              "      <td>0.761348</td>\n",
              "      <td>0.684732</td>\n",
              "      <td>0.668153</td>\n",
              "      <td>0.631344</td>\n",
              "      <td>0.737807</td>\n",
              "      <td>0.716020</td>\n",
              "      <td>14.779718</td>\n",
              "      <td>16.511836</td>\n",
              "      <td>15.025158</td>\n",
              "      <td>0.489725</td>\n",
              "    </tr>\n",
              "    <tr>\n",
              "      <th>min</th>\n",
              "      <td>8.430545</td>\n",
              "      <td>8.368229</td>\n",
              "      <td>7.257003</td>\n",
              "      <td>7.109879</td>\n",
              "      <td>7.007601</td>\n",
              "      <td>7.074963</td>\n",
              "      <td>6.326149</td>\n",
              "      <td>5.529429</td>\n",
              "      <td>-1.000000</td>\n",
              "      <td>1.000000</td>\n",
              "      <td>1.000000</td>\n",
              "      <td>0.000000</td>\n",
              "    </tr>\n",
              "    <tr>\n",
              "      <th>25%</th>\n",
              "      <td>11.211986</td>\n",
              "      <td>10.105826</td>\n",
              "      <td>8.807921</td>\n",
              "      <td>8.773810</td>\n",
              "      <td>8.601534</td>\n",
              "      <td>8.414274</td>\n",
              "      <td>7.892732</td>\n",
              "      <td>7.246368</td>\n",
              "      <td>-1.000000</td>\n",
              "      <td>40.000000</td>\n",
              "      <td>49.000000</td>\n",
              "      <td>0.000000</td>\n",
              "    </tr>\n",
              "    <tr>\n",
              "      <th>50%</th>\n",
              "      <td>12.172185</td>\n",
              "      <td>10.610858</td>\n",
              "      <td>9.293578</td>\n",
              "      <td>9.184099</td>\n",
              "      <td>8.987822</td>\n",
              "      <td>8.794673</td>\n",
              "      <td>8.368229</td>\n",
              "      <td>7.678326</td>\n",
              "      <td>8.000000</td>\n",
              "      <td>52.000000</td>\n",
              "      <td>59.000000</td>\n",
              "      <td>1.000000</td>\n",
              "    </tr>\n",
              "    <tr>\n",
              "      <th>75%</th>\n",
              "      <td>13.050982</td>\n",
              "      <td>11.287742</td>\n",
              "      <td>9.841825</td>\n",
              "      <td>9.680828</td>\n",
              "      <td>9.423131</td>\n",
              "      <td>9.195531</td>\n",
              "      <td>8.887480</td>\n",
              "      <td>8.168203</td>\n",
              "      <td>18.000000</td>\n",
              "      <td>63.000000</td>\n",
              "      <td>69.000000</td>\n",
              "      <td>1.000000</td>\n",
              "    </tr>\n",
              "    <tr>\n",
              "      <th>max</th>\n",
              "      <td>14.425741</td>\n",
              "      <td>13.445089</td>\n",
              "      <td>12.033842</td>\n",
              "      <td>11.912916</td>\n",
              "      <td>12.027843</td>\n",
              "      <td>12.066293</td>\n",
              "      <td>11.105949</td>\n",
              "      <td>10.232324</td>\n",
              "      <td>100.000000</td>\n",
              "      <td>100.000000</td>\n",
              "      <td>99.000000</td>\n",
              "      <td>1.000000</td>\n",
              "    </tr>\n",
              "  </tbody>\n",
              "</table>\n",
              "</div>"
            ],
            "text/plain": [
              "         Delta_log    Theta_log  Alpha_low_log  Alpha_high_log  Beta_low_log  \\\n",
              "count  5244.000000  5244.000000    5244.000000     5244.000000   5244.000000   \n",
              "mean     12.064500    10.695941       9.355392        9.250890      9.035782   \n",
              "std       1.189917     0.825552       0.761348        0.684732      0.668153   \n",
              "min       8.430545     8.368229       7.257003        7.109879      7.007601   \n",
              "25%      11.211986    10.105826       8.807921        8.773810      8.601534   \n",
              "50%      12.172185    10.610858       9.293578        9.184099      8.987822   \n",
              "75%      13.050982    11.287742       9.841825        9.680828      9.423131   \n",
              "max      14.425741    13.445089      12.033842       11.912916     12.027843   \n",
              "\n",
              "       Beta_high_log  Gamma_low_log  Gamma_high_log  BlinkStrength  \\\n",
              "count    5244.000000    5244.000000     5244.000000    5244.000000   \n",
              "mean        8.828616       8.406818        7.724752      11.547292   \n",
              "std         0.631344       0.737807        0.716020      14.779718   \n",
              "min         7.074963       6.326149        5.529429      -1.000000   \n",
              "25%         8.414274       7.892732        7.246368      -1.000000   \n",
              "50%         8.794673       8.368229        7.678326       8.000000   \n",
              "75%         9.195531       8.887480        8.168203      18.000000   \n",
              "max        12.066293      11.105949       10.232324     100.000000   \n",
              "\n",
              "         Attention   Meditation         Flag  \n",
              "count  5244.000000  5244.000000  5244.000000  \n",
              "mean     51.652365    58.632151     0.601068  \n",
              "std      16.511836    15.025158     0.489725  \n",
              "min       1.000000     1.000000     0.000000  \n",
              "25%      40.000000    49.000000     0.000000  \n",
              "50%      52.000000    59.000000     1.000000  \n",
              "75%      63.000000    69.000000     1.000000  \n",
              "max     100.000000    99.000000     1.000000  "
            ]
          },
          "execution_count": 250,
          "metadata": {},
          "output_type": "execute_result"
        }
      ],
      "source": [
        "dataset.loc[dataset['BlinkStrength'] < 0]\n",
        "\n",
        "def log_transform(data, col, unchanged):\n",
        "   new_dataset = pd.DataFrame()\n",
        "   for colname in col:\n",
        "        new_dataset[colname + '_log'] = np.log(data[colname]+1)\n",
        "\n",
        "   new_dataset[unchanged] = data[unchanged]\n",
        "   new_dataset['Flag'] = data['Flag']\n",
        "   return new_dataset\n",
        "\n",
        "\n",
        "transformed_dataset = log_transform(dataset,\n",
        "                                    ['Delta', 'Theta', 'Alpha_low', 'Alpha_high', 'Beta_low', 'Beta_high', 'Gamma_low', 'Gamma_high'],\n",
        "                                    [\"BlinkStrength\", \"Attention\", \"Meditation\", \"Flag\"])\n",
        "transformed_dataset.describe()\n",
        "# dataset[[\"Attention\", \"Meditation\", \"BlinkStrength\"]]"
      ]
    },
    {
      "cell_type": "code",
      "execution_count": 251,
      "metadata": {},
      "outputs": [
        {
          "data": {
            "image/png": "[encoded data removed]",
            "text/plain": [
              "<Figure size 1500x1000 with 12 Axes>"
            ]
          },
          "metadata": {},
          "output_type": "display_data"
        }
      ],
      "source": [
        "transformed_dataset.hist(figsize=(15,10), bins = 20)\n",
        "plt.title(\"Features Distribution\")\n",
        "plt.show()"
      ]
    },
    {
      "cell_type": "code",
      "execution_count": 252,
      "metadata": {},
      "outputs": [
        {
          "name": "stdout",
          "output_type": "stream",
          "text": [
            "DataLoader length: 115 | Batch Size: 32\n",
            "DataLoader length: 25 | Batch Size: 32\n",
            "DataLoader length: 25 | Batch Size: 32\n"
          ]
        }
      ],
      "source": [
        "X2 = torch.tensor(transformed_dataset.loc[:, \"Delta_log\": \"Meditation\"].values, dtype=torch.float32)\n",
        "y2 = torch.tensor(transformed_dataset.Flag.values, dtype=torch.float32)\n",
        "\n",
        "X_train_2, X_test_2, X_val_2, y_train_2, y_test_2, y_val_2 = split_data(X2, y2, test_size=0.2, random_state=1)\n",
        "\n",
        "y_train_2 = y_train_2.unsqueeze(1)\n",
        "y_val_2 = y_val_2.unsqueeze(1)\n",
        "y_test_2 = y_test_2.unsqueeze(1)\n",
        "\n",
        "train_dataloader_2 = create_dataloader(X_train_2, y_train_2)\n",
        "val_dataloader_2 = create_dataloader(X_val_2, y_val_2)\n",
        "test_dataloader_2 = create_dataloader(X_test_2, y_test_2)"
      ]
    },
    {
      "cell_type": "code",
      "execution_count": 253,
      "metadata": {},
      "outputs": [
        {
          "data": {
            "text/plain": [
              "FlagModel2(\n",
              "  (block_1): Sequential(\n",
              "    (0): Linear(in_features=11, out_features=32, bias=True)\n",
              "    (1): ReLU()\n",
              "    (2): Linear(in_features=32, out_features=32, bias=True)\n",
              "    (3): ReLU()\n",
              "    (4): Linear(in_features=32, out_features=32, bias=True)\n",
              "  )\n",
              "  (block_2): Sequential(\n",
              "    (0): ReLU()\n",
              "    (1): Linear(in_features=32, out_features=1, bias=True)\n",
              "    (2): Sigmoid()\n",
              "  )\n",
              ")"
            ]
          },
          "execution_count": 253,
          "metadata": {},
          "output_type": "execute_result"
        }
      ],
      "source": [
        "class FlagModel2(nn.Module):\n",
        "   def __init__(self, input_shape: int, hidden_units: int, output_shape: int):\n",
        "       super().__init__()\n",
        "\n",
        "       self.block_1 = nn.Sequential(\n",
        "           nn.Linear(in_features=input_shape, out_features=hidden_units),\n",
        "           nn.ReLU(),\n",
        "           nn.Linear(in_features=hidden_units, out_features=hidden_units),\n",
        "           nn.ReLU(),\n",
        "           nn.Linear(in_features=hidden_units, out_features=hidden_units),\n",
        "       )\n",
        "       self.block_2 = nn.Sequential(\n",
        "           nn.ReLU(),\n",
        "           nn.Linear(in_features=hidden_units, out_features=output_shape),\n",
        "           nn.Sigmoid()\n",
        "       )\n",
        "\n",
        "   def forward(self, x):\n",
        "       return self.block_2(self.block_1(x))\n",
        "\n",
        "flag_model_2 = FlagModel2(11, 32, 1).to(device)\n",
        "flag_model_2"
      ]
    },
    {
      "cell_type": "code",
      "execution_count": 254,
      "metadata": {},
      "outputs": [],
      "source": [
        "optimizer = torch.optim.Adam(params=flag_model_2.parameters(), lr=LEARNING_RATE)"
      ]
    },
    {
      "cell_type": "code",
      "execution_count": 255,
      "metadata": {},
      "outputs": [
        {
          "name": "stderr",
          "output_type": "stream",
          "text": [
            "  6%|▌         | 3/50 [00:00<00:10,  4.41it/s]"
          ]
        },
        {
          "name": "stdout",
          "output_type": "stream",
          "text": [
            "\n",
            "Epoch: 1 | Train Loss: 0.02051 | Train Acc: 55.80381% | Test loss: 0.02044320295847659 | Test Acc: 55.14612%\n",
            "\n",
            "Epoch: 2 | Train Loss: 0.02040 | Train Acc: 56.26703% | Test loss: 0.020548221646906308 | Test Acc: 51.58831%\n"
          ]
        },
        {
          "name": "stderr",
          "output_type": "stream",
          "text": [
            "  8%|▊         | 4/50 [00:00<00:09,  4.73it/s]"
          ]
        },
        {
          "name": "stdout",
          "output_type": "stream",
          "text": [
            "\n",
            "Epoch: 3 | Train Loss: 0.02035 | Train Acc: 56.56676% | Test loss: 0.02048904286860814 | Test Acc: 53.62135%\n"
          ]
        },
        {
          "name": "stderr",
          "output_type": "stream",
          "text": [
            " 10%|█         | 5/50 [00:01<00:11,  3.85it/s]"
          ]
        },
        {
          "name": "stdout",
          "output_type": "stream",
          "text": [
            "\n",
            "Epoch: 4 | Train Loss: 0.02031 | Train Acc: 56.92098% | Test loss: 0.020484784961201184 | Test Acc: 59.84752%\n"
          ]
        },
        {
          "name": "stderr",
          "output_type": "stream",
          "text": [
            " 14%|█▍        | 7/50 [00:02<00:14,  2.97it/s]"
          ]
        },
        {
          "name": "stdout",
          "output_type": "stream",
          "text": [
            "\n",
            "Epoch: 6 | Train Loss: 0.02028 | Train Acc: 57.54768% | Test loss: 0.020481941660598697 | Test Acc: 57.56036%\n"
          ]
        },
        {
          "name": "stderr",
          "output_type": "stream",
          "text": [
            " 16%|█▌        | 8/50 [00:02<00:14,  2.85it/s]"
          ]
        },
        {
          "name": "stdout",
          "output_type": "stream",
          "text": [
            "\n",
            "Epoch: 7 | Train Loss: 0.02028 | Train Acc: 58.58311% | Test loss: 0.020445464451097926 | Test Acc: 58.57687%\n"
          ]
        },
        {
          "name": "stderr",
          "output_type": "stream",
          "text": [
            " 18%|█▊        | 9/50 [00:02<00:14,  2.82it/s]"
          ]
        },
        {
          "name": "stdout",
          "output_type": "stream",
          "text": [
            "\n",
            "Epoch: 8 | Train Loss: 0.02025 | Train Acc: 58.14714% | Test loss: 0.020403505734900507 | Test Acc: 55.65438%\n"
          ]
        },
        {
          "name": "stderr",
          "output_type": "stream",
          "text": [
            " 22%|██▏       | 11/50 [00:03<00:11,  3.31it/s]"
          ]
        },
        {
          "name": "stdout",
          "output_type": "stream",
          "text": [
            "\n",
            "Epoch: 9 | Train Loss: 0.02023 | Train Acc: 58.74659% | Test loss: 0.020425974792567716 | Test Acc: 56.54384%\n"
          ]
        },
        {
          "name": "stderr",
          "output_type": "stream",
          "text": [
            " 26%|██▌       | 13/50 [00:03<00:09,  4.09it/s]"
          ]
        },
        {
          "name": "stdout",
          "output_type": "stream",
          "text": [
            "\n",
            "Epoch: 11 | Train Loss: 0.02017 | Train Acc: 58.91008% | Test loss: 0.020471164428899975 | Test Acc: 54.63787%\n",
            "\n",
            "Epoch: 12 | Train Loss: 0.02013 | Train Acc: 60.21798% | Test loss: 0.02044408233526247 | Test Acc: 59.33926%\n"
          ]
        },
        {
          "name": "stderr",
          "output_type": "stream",
          "text": [
            " 28%|██▊       | 14/50 [00:03<00:08,  4.16it/s]"
          ]
        },
        {
          "name": "stdout",
          "output_type": "stream",
          "text": [
            "\n",
            "Epoch: 13 | Train Loss: 0.02017 | Train Acc: 58.61035% | Test loss: 0.020429012508828576 | Test Acc: 54.51080%\n"
          ]
        },
        {
          "name": "stderr",
          "output_type": "stream",
          "text": [
            " 30%|███       | 15/50 [00:04<00:08,  4.33it/s]"
          ]
        },
        {
          "name": "stdout",
          "output_type": "stream",
          "text": [
            "\n",
            "Epoch: 14 | Train Loss: 0.02015 | Train Acc: 59.42779% | Test loss: 0.020384337577916765 | Test Acc: 56.79797%\n"
          ]
        },
        {
          "name": "stderr",
          "output_type": "stream",
          "text": [
            " 34%|███▍      | 17/50 [00:04<00:10,  3.19it/s]"
          ]
        },
        {
          "name": "stdout",
          "output_type": "stream",
          "text": [
            "\n",
            "Epoch: 16 | Train Loss: 0.02013 | Train Acc: 59.59128% | Test loss: 0.02048655121268887 | Test Acc: 53.74841%\n"
          ]
        },
        {
          "name": "stderr",
          "output_type": "stream",
          "text": [
            " 36%|███▌      | 18/50 [00:05<00:10,  2.97it/s]"
          ]
        },
        {
          "name": "stdout",
          "output_type": "stream",
          "text": [
            "\n",
            "Epoch: 17 | Train Loss: 0.02011 | Train Acc: 59.72752% | Test loss: 0.020327116058621048 | Test Acc: 59.84752%\n"
          ]
        },
        {
          "name": "stderr",
          "output_type": "stream",
          "text": [
            " 38%|███▊      | 19/50 [00:05<00:10,  2.87it/s]"
          ]
        },
        {
          "name": "stdout",
          "output_type": "stream",
          "text": [
            "\n",
            "Epoch: 18 | Train Loss: 0.02013 | Train Acc: 59.59128% | Test loss: 0.020411522521754533 | Test Acc: 59.33926%\n"
          ]
        },
        {
          "name": "stderr",
          "output_type": "stream",
          "text": [
            " 40%|████      | 20/50 [00:05<00:09,  3.26it/s]"
          ]
        },
        {
          "name": "stdout",
          "output_type": "stream",
          "text": [
            "\n",
            "Epoch: 19 | Train Loss: 0.02009 | Train Acc: 61.00817% | Test loss: 0.02041313979949854 | Test Acc: 55.01906%\n"
          ]
        },
        {
          "name": "stderr",
          "output_type": "stream",
          "text": [
            " 46%|████▌     | 23/50 [00:06<00:06,  4.28it/s]"
          ]
        },
        {
          "name": "stdout",
          "output_type": "stream",
          "text": [
            "\n",
            "Epoch: 21 | Train Loss: 0.02005 | Train Acc: 61.33515% | Test loss: 0.020487349021237868 | Test Acc: 54.12961%\n",
            "\n",
            "Epoch: 22 | Train Loss: 0.02006 | Train Acc: 60.21798% | Test loss: 0.020419522116417503 | Test Acc: 55.40025%\n"
          ]
        },
        {
          "name": "stderr",
          "output_type": "stream",
          "text": [
            " 50%|█████     | 25/50 [00:06<00:05,  4.79it/s]"
          ]
        },
        {
          "name": "stdout",
          "output_type": "stream",
          "text": [
            "\n",
            "Epoch: 23 | Train Loss: 0.02008 | Train Acc: 60.21798% | Test loss: 0.02031115557065913 | Test Acc: 56.79797%\n",
            "\n",
            "Epoch: 24 | Train Loss: 0.02013 | Train Acc: 59.97275% | Test loss: 0.020427325932164658 | Test Acc: 58.95807%\n"
          ]
        },
        {
          "name": "stderr",
          "output_type": "stream",
          "text": [
            " 54%|█████▍    | 27/50 [00:07<00:04,  5.02it/s]"
          ]
        },
        {
          "name": "stdout",
          "output_type": "stream",
          "text": [
            "\n",
            "Epoch: 26 | Train Loss: 0.02008 | Train Acc: 59.83651% | Test loss: 0.020323728136670938 | Test Acc: 57.68742%\n"
          ]
        },
        {
          "name": "stderr",
          "output_type": "stream",
          "text": [
            " 56%|█████▌    | 28/50 [00:07<00:05,  3.98it/s]"
          ]
        },
        {
          "name": "stdout",
          "output_type": "stream",
          "text": [
            "\n",
            "Epoch: 27 | Train Loss: 0.02002 | Train Acc: 61.03542% | Test loss: 0.020307327240819094 | Test Acc: 57.94155%\n"
          ]
        },
        {
          "name": "stderr",
          "output_type": "stream",
          "text": [
            " 58%|█████▊    | 29/50 [00:08<00:06,  3.40it/s]"
          ]
        },
        {
          "name": "stdout",
          "output_type": "stream",
          "text": [
            "\n",
            "Epoch: 28 | Train Loss: 0.02000 | Train Acc: 61.19891% | Test loss: 0.02039711440533513 | Test Acc: 56.67090%\n"
          ]
        },
        {
          "name": "stderr",
          "output_type": "stream",
          "text": [
            " 60%|██████    | 30/50 [00:08<00:06,  3.15it/s]"
          ]
        },
        {
          "name": "stdout",
          "output_type": "stream",
          "text": [
            "\n",
            "Epoch: 29 | Train Loss: 0.02000 | Train Acc: 60.84469% | Test loss: 0.020177226660363708 | Test Acc: 58.19568%\n"
          ]
        },
        {
          "name": "stderr",
          "output_type": "stream",
          "text": [
            " 66%|██████▌   | 33/50 [00:09<00:04,  3.46it/s]"
          ]
        },
        {
          "name": "stdout",
          "output_type": "stream",
          "text": [
            "\n",
            "Epoch: 31 | Train Loss: 0.01995 | Train Acc: 62.01635% | Test loss: 0.020293391265893378 | Test Acc: 58.57687%\n",
            "\n",
            "Epoch: 32 | Train Loss: 0.01997 | Train Acc: 60.76294% | Test loss: 0.0202762122529889 | Test Acc: 57.30623%\n"
          ]
        },
        {
          "name": "stderr",
          "output_type": "stream",
          "text": [
            " 70%|███████   | 35/50 [00:09<00:03,  4.19it/s]"
          ]
        },
        {
          "name": "stdout",
          "output_type": "stream",
          "text": [
            "\n",
            "Epoch: 33 | Train Loss: 0.01996 | Train Acc: 61.60763% | Test loss: 0.0203147959981819 | Test Acc: 56.54384%\n",
            "\n",
            "Epoch: 34 | Train Loss: 0.01996 | Train Acc: 61.33515% | Test loss: 0.020277572783914878 | Test Acc: 57.94155%\n"
          ]
        },
        {
          "name": "stderr",
          "output_type": "stream",
          "text": [
            " 74%|███████▍  | 37/50 [00:10<00:02,  4.63it/s]"
          ]
        },
        {
          "name": "stdout",
          "output_type": "stream",
          "text": [
            "\n",
            "Epoch: 36 | Train Loss: 0.01997 | Train Acc: 61.52589% | Test loss: 0.02019210684254027 | Test Acc: 58.06861%\n"
          ]
        },
        {
          "name": "stderr",
          "output_type": "stream",
          "text": [
            " 76%|███████▌  | 38/50 [00:10<00:02,  4.24it/s]"
          ]
        },
        {
          "name": "stdout",
          "output_type": "stream",
          "text": [
            "\n",
            "Epoch: 37 | Train Loss: 0.01994 | Train Acc: 61.71662% | Test loss: 0.020110834583999846 | Test Acc: 58.32274%\n"
          ]
        },
        {
          "name": "stderr",
          "output_type": "stream",
          "text": [
            " 78%|███████▊  | 39/50 [00:10<00:03,  3.58it/s]"
          ]
        },
        {
          "name": "stdout",
          "output_type": "stream",
          "text": [
            "\n",
            "Epoch: 38 | Train Loss: 0.01999 | Train Acc: 61.11717% | Test loss: 0.02030485270135436 | Test Acc: 57.43329%\n"
          ]
        },
        {
          "name": "stderr",
          "output_type": "stream",
          "text": [
            " 80%|████████  | 40/50 [00:11<00:03,  3.27it/s]"
          ]
        },
        {
          "name": "stdout",
          "output_type": "stream",
          "text": [
            "\n",
            "Epoch: 39 | Train Loss: 0.01989 | Train Acc: 61.47139% | Test loss: 0.02017521737036893 | Test Acc: 58.44981%\n"
          ]
        },
        {
          "name": "stderr",
          "output_type": "stream",
          "text": [
            " 86%|████████▌ | 43/50 [00:12<00:02,  3.41it/s]"
          ]
        },
        {
          "name": "stdout",
          "output_type": "stream",
          "text": [
            "\n",
            "Epoch: 41 | Train Loss: 0.01997 | Train Acc: 61.22616% | Test loss: 0.020340117823517155 | Test Acc: 55.78145%\n",
            "\n",
            "Epoch: 42 | Train Loss: 0.01986 | Train Acc: 62.17984% | Test loss: 0.02025627514307199 | Test Acc: 58.57687%\n"
          ]
        },
        {
          "name": "stderr",
          "output_type": "stream",
          "text": [
            " 90%|█████████ | 45/50 [00:12<00:01,  4.16it/s]"
          ]
        },
        {
          "name": "stdout",
          "output_type": "stream",
          "text": [
            "\n",
            "Epoch: 43 | Train Loss: 0.01990 | Train Acc: 62.12534% | Test loss: 0.020138801431716473 | Test Acc: 58.83100%\n",
            "\n",
            "Epoch: 44 | Train Loss: 0.01987 | Train Acc: 62.26158% | Test loss: 0.020212182095877853 | Test Acc: 59.59339%\n"
          ]
        },
        {
          "name": "stderr",
          "output_type": "stream",
          "text": [
            " 96%|█████████▌| 48/50 [00:12<00:00,  4.90it/s]"
          ]
        },
        {
          "name": "stdout",
          "output_type": "stream",
          "text": [
            "\n",
            "Epoch: 46 | Train Loss: 0.01993 | Train Acc: 62.31608% | Test loss: 0.02015001392122145 | Test Acc: 61.11817%\n",
            "\n",
            "Epoch: 47 | Train Loss: 0.01984 | Train Acc: 62.64305% | Test loss: 0.02009241992969828 | Test Acc: 59.84752%\n"
          ]
        },
        {
          "name": "stderr",
          "output_type": "stream",
          "text": [
            " 98%|█████████▊| 49/50 [00:13<00:00,  5.02it/s]"
          ]
        },
        {
          "name": "stdout",
          "output_type": "stream",
          "text": [
            "\n",
            "Epoch: 48 | Train Loss: 0.01983 | Train Acc: 62.58856% | Test loss: 0.02009181418897539 | Test Acc: 58.19568%\n"
          ]
        },
        {
          "name": "stderr",
          "output_type": "stream",
          "text": [
            "100%|██████████| 50/50 [00:13<00:00,  3.69it/s]"
          ]
        },
        {
          "name": "stdout",
          "output_type": "stream",
          "text": [
            "\n",
            "Epoch: 49 | Train Loss: 0.01988 | Train Acc: 61.93460% | Test loss: 0.02020270026169405 | Test Acc: 56.54384%\n",
            "\n",
            "Training was done in 28.48056 seconds\n"
          ]
        },
        {
          "name": "stderr",
          "output_type": "stream",
          "text": [
            "\n"
          ]
        }
      ],
      "source": [
        "model_2_loss_and_acc = train(model=flag_model_2,\n",
        "      train_data=train_dataloader_2,\n",
        "      test_data=val_dataloader_2,\n",
        "      loss_fn=loss_fn,\n",
        "      optimizer=optimizer,\n",
        "      # accuracy_fn=accuracy_fn,\n",
        "      epochs=EPOCHS)"
      ]
    },
    {
      "cell_type": "markdown",
      "metadata": {},
      "source": [
        "## Maybe scaling my data to make every value to be between 0 and 1 I'll get different results"
      ]
    },
    {
      "cell_type": "code",
      "execution_count": 256,
      "metadata": {},
      "outputs": [
        {
          "data": {
            "text/html": [
              "<div>\n",
              "<style scoped>\n",
              "    .dataframe tbody tr th:only-of-type {\n",
              "        vertical-align: middle;\n",
              "    }\n",
              "\n",
              "    .dataframe tbody tr th {\n",
              "        vertical-align: top;\n",
              "    }\n",
              "\n",
              "    .dataframe thead th {\n",
              "        text-align: right;\n",
              "    }\n",
              "</style>\n",
              "<table border=\"1\" class=\"dataframe\">\n",
              "  <thead>\n",
              "    <tr style=\"text-align: right;\">\n",
              "      <th></th>\n",
              "      <th>Delta</th>\n",
              "      <th>Theta</th>\n",
              "      <th>Alpha_low</th>\n",
              "      <th>Alpha_high</th>\n",
              "      <th>Beta_low</th>\n",
              "      <th>Beta_high</th>\n",
              "      <th>Gamma_low</th>\n",
              "      <th>Gamma_high</th>\n",
              "      <th>Attention</th>\n",
              "      <th>Meditation</th>\n",
              "      <th>BlinkStrength</th>\n",
              "      <th>Flag</th>\n",
              "    </tr>\n",
              "  </thead>\n",
              "  <tbody>\n",
              "    <tr>\n",
              "      <th>0</th>\n",
              "      <td>785389</td>\n",
              "      <td>114375</td>\n",
              "      <td>57106</td>\n",
              "      <td>37625</td>\n",
              "      <td>24464</td>\n",
              "      <td>17104</td>\n",
              "      <td>15846</td>\n",
              "      <td>8024</td>\n",
              "      <td>45</td>\n",
              "      <td>91</td>\n",
              "      <td>15</td>\n",
              "      <td>1</td>\n",
              "    </tr>\n",
              "    <tr>\n",
              "      <th>1</th>\n",
              "      <td>386949</td>\n",
              "      <td>80792</td>\n",
              "      <td>23506</td>\n",
              "      <td>22118</td>\n",
              "      <td>9566</td>\n",
              "      <td>7147</td>\n",
              "      <td>5392</td>\n",
              "      <td>1697</td>\n",
              "      <td>8</td>\n",
              "      <td>42</td>\n",
              "      <td>6</td>\n",
              "      <td>0</td>\n",
              "    </tr>\n",
              "    <tr>\n",
              "      <th>2</th>\n",
              "      <td>21453</td>\n",
              "      <td>14085</td>\n",
              "      <td>4756</td>\n",
              "      <td>5062</td>\n",
              "      <td>2176</td>\n",
              "      <td>2117</td>\n",
              "      <td>2867</td>\n",
              "      <td>862</td>\n",
              "      <td>48</td>\n",
              "      <td>66</td>\n",
              "      <td>9</td>\n",
              "      <td>1</td>\n",
              "    </tr>\n",
              "    <tr>\n",
              "      <th>3</th>\n",
              "      <td>322637</td>\n",
              "      <td>56936</td>\n",
              "      <td>17810</td>\n",
              "      <td>25793</td>\n",
              "      <td>15870</td>\n",
              "      <td>8050</td>\n",
              "      <td>3621</td>\n",
              "      <td>2100</td>\n",
              "      <td>25</td>\n",
              "      <td>69</td>\n",
              "      <td>8</td>\n",
              "      <td>0</td>\n",
              "    </tr>\n",
              "    <tr>\n",
              "      <th>4</th>\n",
              "      <td>19412</td>\n",
              "      <td>12985</td>\n",
              "      <td>6416</td>\n",
              "      <td>6131</td>\n",
              "      <td>7126</td>\n",
              "      <td>7419</td>\n",
              "      <td>2677</td>\n",
              "      <td>1884</td>\n",
              "      <td>80</td>\n",
              "      <td>53</td>\n",
              "      <td>-1</td>\n",
              "      <td>1</td>\n",
              "    </tr>\n",
              "  </tbody>\n",
              "</table>\n",
              "</div>"
            ],
            "text/plain": [
              "    Delta   Theta  Alpha_low  Alpha_high  Beta_low  Beta_high  Gamma_low  \\\n",
              "0  785389  114375      57106       37625     24464      17104      15846   \n",
              "1  386949   80792      23506       22118      9566       7147       5392   \n",
              "2   21453   14085       4756        5062      2176       2117       2867   \n",
              "3  322637   56936      17810       25793     15870       8050       3621   \n",
              "4   19412   12985       6416        6131      7126       7419       2677   \n",
              "\n",
              "   Gamma_high  Attention  Meditation  BlinkStrength  Flag  \n",
              "0        8024         45          91             15     1  \n",
              "1        1697          8          42              6     0  \n",
              "2         862         48          66              9     1  \n",
              "3        2100         25          69              8     0  \n",
              "4        1884         80          53             -1     1  "
            ]
          },
          "execution_count": 256,
          "metadata": {},
          "output_type": "execute_result"
        }
      ],
      "source": [
        "dataset.head()"
      ]
    },
    {
      "cell_type": "code",
      "execution_count": 257,
      "metadata": {},
      "outputs": [
        {
          "name": "stdout",
          "output_type": "stream",
          "text": [
            "Delta            1840855\n",
            "Theta             690442\n",
            "Alpha_low         168356\n",
            "Alpha_high        149180\n",
            "Beta_low          167349\n",
            "Beta_high         173909\n",
            "Gamma_low          66565\n",
            "Gamma_high         27786\n",
            "Attention            100\n",
            "Meditation            99\n",
            "BlinkStrength        100\n",
            "Flag                   1\n",
            "dtype: int64\tDelta            4584\n",
            "Theta            4307\n",
            "Alpha_low        1417\n",
            "Alpha_high       1223\n",
            "Beta_low         1104\n",
            "Beta_high        1181\n",
            "Gamma_low         558\n",
            "Gamma_high        251\n",
            "Attention           1\n",
            "Meditation          1\n",
            "BlinkStrength      -1\n",
            "Flag                0\n",
            "dtype: int64\n",
            "         Delta     Theta  Alpha_low  Alpha_high  Beta_low  Beta_high  \\\n",
            "0     0.425212  0.160417   0.333589    0.246031  0.140516   0.092185   \n",
            "1     0.208229  0.111472   0.132318    0.141223  0.050901   0.034540   \n",
            "2     0.009187  0.014251   0.020001    0.025947  0.006448   0.005419   \n",
            "3     0.173206  0.076704   0.098198    0.166062  0.088821   0.039768   \n",
            "4     0.008075  0.012648   0.029945    0.033172  0.036224   0.036115   \n",
            "...        ...       ...        ...         ...       ...        ...   \n",
            "5239  0.012479  0.004751   0.014778    0.031117  0.013522   0.014178   \n",
            "5240  0.633093  0.164817   0.363492    0.129233  0.054678   0.041331   \n",
            "5241  0.041088  0.040906   0.033455    0.020013  0.049626   0.031269   \n",
            "5242  0.089785  0.049808   0.069121    0.096670  0.057205   0.048168   \n",
            "5243  0.052728  0.053492   0.052762    0.054833  0.027484   0.041134   \n",
            "\n",
            "      Gamma_low  Gamma_high  Attention  Meditation  BlinkStrength  Flag  \n",
            "0      0.231612    0.282295   0.444444    0.918367       0.158416   1.0  \n",
            "1      0.073235    0.052515   0.070707    0.418367       0.069307   0.0  \n",
            "2      0.034981    0.022190   0.474747    0.663265       0.099010   1.0  \n",
            "3      0.046404    0.067151   0.242424    0.693878       0.089109   0.0  \n",
            "4      0.032103    0.059306   0.797980    0.530612       0.000000   1.0  \n",
            "...         ...         ...        ...         ...            ...   ...  \n",
            "5239   0.024331    0.022480   0.757576    0.785714       0.000000   0.0  \n",
            "5240   0.269078    0.174505   0.282828    0.724490       0.089109   1.0  \n",
            "5241   0.055509    0.061485   0.606061    0.530612       0.158416   0.0  \n",
            "5242   0.095338    0.075685   0.616162    0.877551       0.168317   0.0  \n",
            "5243   0.043374    0.057781   0.474747    0.367347       0.000000   1.0  \n",
            "\n",
            "[5244 rows x 12 columns]\n"
          ]
        }
      ],
      "source": [
        "max_values = dataset.max()\n",
        "min_values = dataset.min()\n",
        "print(max_values, min_values, sep=\"\\t\")\n",
        "\n",
        "scaled_dataset = (dataset - min_values) / (max_values - min_values)\n",
        "\n",
        "print(scaled_dataset)"
      ]
    },
    {
      "cell_type": "code",
      "execution_count": 258,
      "metadata": {},
      "outputs": [
        {
          "data": {
            "image/png": "[encoded data removed]",
            "text/plain": [
              "<Figure size 1500x1000 with 12 Axes>"
            ]
          },
          "metadata": {},
          "output_type": "display_data"
        }
      ],
      "source": [
        "scaled_dataset.hist(figsize=(15,10), bins = 20)\n",
        "plt.title(\"Features Distribution\")\n",
        "plt.show()"
      ]
    },
    {
      "cell_type": "code",
      "execution_count": 259,
      "metadata": {},
      "outputs": [
        {
          "name": "stdout",
          "output_type": "stream",
          "text": [
            "DataLoader length: 115 | Batch Size: 32\n",
            "DataLoader length: 25 | Batch Size: 32\n",
            "DataLoader length: 25 | Batch Size: 32\n"
          ]
        }
      ],
      "source": [
        "X3 = torch.tensor(transformed_dataset.loc[:, \"Delta_log\": \"Meditation\"].values, dtype=torch.float32)\n",
        "y3 = torch.tensor(transformed_dataset.Flag.values, dtype=torch.float32)\n",
        "\n",
        "X_train_3, X_test_3, X_val_3, y_train_3, y_test_3, y_val_3 = split_data(X3, y3, test_size=0.3, random_state=1)\n",
        "\n",
        "y_train_3 = y_train_3.unsqueeze(1)\n",
        "y_val_3 = y_val_3.unsqueeze(1)\n",
        "y_test_3 = y_test_3.unsqueeze(1)\n",
        "\n",
        "train_dataloader_3 = create_dataloader(X_train_3, y_train_3)\n",
        "val_dataloader_3 = create_dataloader(X_val_3, y_val_3)\n",
        "test_dataloader_3 = create_dataloader(X_test_3, y_test_3)"
      ]
    },
    {
      "cell_type": "code",
      "execution_count": 260,
      "metadata": {},
      "outputs": [],
      "source": [
        "flag_model_2_with_scaled_data = FlagModel2(11, 32, 1).to(device)\n",
        "optimizer = torch.optim.Adam(params=flag_model_2_with_scaled_data.parameters(), lr=LEARNING_RATE)"
      ]
    },
    {
      "cell_type": "code",
      "execution_count": 261,
      "metadata": {},
      "outputs": [
        {
          "name": "stderr",
          "output_type": "stream",
          "text": [
            "  4%|▍         | 2/50 [00:00<00:09,  4.97it/s]"
          ]
        },
        {
          "name": "stdout",
          "output_type": "stream",
          "text": [
            "\n",
            "Epoch: 1 | Train Loss: 0.02040 | Train Acc: 56.45777% | Test loss: 0.020484895687999993 | Test Acc: 56.16264%\n"
          ]
        },
        {
          "name": "stderr",
          "output_type": "stream",
          "text": [
            "  6%|▌         | 3/50 [00:00<00:13,  3.56it/s]"
          ]
        },
        {
          "name": "stdout",
          "output_type": "stream",
          "text": [
            "\n",
            "Epoch: 2 | Train Loss: 0.02038 | Train Acc: 56.37602% | Test loss: 0.020544224727562756 | Test Acc: 57.68742%\n"
          ]
        },
        {
          "name": "stderr",
          "output_type": "stream",
          "text": [
            "  8%|▊         | 4/50 [00:01<00:14,  3.16it/s]"
          ]
        },
        {
          "name": "stdout",
          "output_type": "stream",
          "text": [
            "\n",
            "Epoch: 3 | Train Loss: 0.02035 | Train Acc: 58.06540% | Test loss: 0.0205523995765434 | Test Acc: 55.40025%\n"
          ]
        },
        {
          "name": "stderr",
          "output_type": "stream",
          "text": [
            " 10%|█         | 5/50 [00:01<00:14,  3.03it/s]"
          ]
        },
        {
          "name": "stdout",
          "output_type": "stream",
          "text": [
            "\n",
            "Epoch: 4 | Train Loss: 0.02029 | Train Acc: 57.27520% | Test loss: 0.020540024682860515 | Test Acc: 53.24015%\n"
          ]
        },
        {
          "name": "stderr",
          "output_type": "stream",
          "text": [
            " 14%|█▍        | 7/50 [00:02<00:15,  2.87it/s]"
          ]
        },
        {
          "name": "stdout",
          "output_type": "stream",
          "text": [
            "\n",
            "Epoch: 6 | Train Loss: 0.02027 | Train Acc: 57.35695% | Test loss: 0.02046273290883783 | Test Acc: 54.63787%\n"
          ]
        },
        {
          "name": "stderr",
          "output_type": "stream",
          "text": [
            " 16%|█▌        | 8/50 [00:02<00:14,  2.80it/s]"
          ]
        },
        {
          "name": "stdout",
          "output_type": "stream",
          "text": [
            "\n",
            "Epoch: 7 | Train Loss: 0.02023 | Train Acc: 58.09264% | Test loss: 0.02059368393472674 | Test Acc: 56.92503%\n"
          ]
        },
        {
          "name": "stderr",
          "output_type": "stream",
          "text": [
            " 18%|█▊        | 9/50 [00:02<00:14,  2.77it/s]"
          ]
        },
        {
          "name": "stdout",
          "output_type": "stream",
          "text": [
            "\n",
            "Epoch: 8 | Train Loss: 0.02024 | Train Acc: 58.06540% | Test loss: 0.020588495452643348 | Test Acc: 53.49428%\n"
          ]
        },
        {
          "name": "stderr",
          "output_type": "stream",
          "text": [
            " 20%|██        | 10/50 [00:03<00:14,  2.73it/s]"
          ]
        },
        {
          "name": "stdout",
          "output_type": "stream",
          "text": [
            "\n",
            "Epoch: 9 | Train Loss: 0.02022 | Train Acc: 58.74659% | Test loss: 0.0205763018722001 | Test Acc: 51.33418%\n"
          ]
        },
        {
          "name": "stderr",
          "output_type": "stream",
          "text": [
            " 24%|██▍       | 12/50 [00:04<00:13,  2.72it/s]"
          ]
        },
        {
          "name": "stdout",
          "output_type": "stream",
          "text": [
            "\n",
            "Epoch: 11 | Train Loss: 0.02022 | Train Acc: 57.73842% | Test loss: 0.020591108589947907 | Test Acc: 52.60483%\n"
          ]
        },
        {
          "name": "stderr",
          "output_type": "stream",
          "text": [
            " 26%|██▌       | 13/50 [00:04<00:13,  2.71it/s]"
          ]
        },
        {
          "name": "stdout",
          "output_type": "stream",
          "text": [
            "\n",
            "Epoch: 12 | Train Loss: 0.02020 | Train Acc: 58.01090% | Test loss: 0.02047983679111001 | Test Acc: 56.79797%\n"
          ]
        },
        {
          "name": "stderr",
          "output_type": "stream",
          "text": [
            " 28%|██▊       | 14/50 [00:04<00:13,  2.72it/s]"
          ]
        },
        {
          "name": "stdout",
          "output_type": "stream",
          "text": [
            "\n",
            "Epoch: 13 | Train Loss: 0.02020 | Train Acc: 58.82834% | Test loss: 0.020493011841174153 | Test Acc: 59.59339%\n"
          ]
        },
        {
          "name": "stderr",
          "output_type": "stream",
          "text": [
            " 30%|███       | 15/50 [00:05<00:12,  2.70it/s]"
          ]
        },
        {
          "name": "stdout",
          "output_type": "stream",
          "text": [
            "\n",
            "Epoch: 14 | Train Loss: 0.02022 | Train Acc: 57.46594% | Test loss: 0.020459792892693566 | Test Acc: 52.60483%\n"
          ]
        },
        {
          "name": "stderr",
          "output_type": "stream",
          "text": [
            " 34%|███▍      | 17/50 [00:05<00:12,  2.71it/s]"
          ]
        },
        {
          "name": "stdout",
          "output_type": "stream",
          "text": [
            "\n",
            "Epoch: 16 | Train Loss: 0.02014 | Train Acc: 58.63760% | Test loss: 0.020535654382451213 | Test Acc: 54.25667%\n"
          ]
        },
        {
          "name": "stderr",
          "output_type": "stream",
          "text": [
            " 36%|███▌      | 18/50 [00:06<00:11,  2.71it/s]"
          ]
        },
        {
          "name": "stdout",
          "output_type": "stream",
          "text": [
            "\n",
            "Epoch: 17 | Train Loss: 0.02015 | Train Acc: 58.33787% | Test loss: 0.02033549282117599 | Test Acc: 56.67090%\n"
          ]
        },
        {
          "name": "stderr",
          "output_type": "stream",
          "text": [
            " 38%|███▊      | 19/50 [00:06<00:11,  2.71it/s]"
          ]
        },
        {
          "name": "stdout",
          "output_type": "stream",
          "text": [
            "\n",
            "Epoch: 18 | Train Loss: 0.02008 | Train Acc: 59.80926% | Test loss: 0.020502332053614694 | Test Acc: 54.00254%\n"
          ]
        },
        {
          "name": "stderr",
          "output_type": "stream",
          "text": [
            " 40%|████      | 20/50 [00:07<00:11,  2.70it/s]"
          ]
        },
        {
          "name": "stdout",
          "output_type": "stream",
          "text": [
            "\n",
            "Epoch: 19 | Train Loss: 0.02013 | Train Acc: 58.80109% | Test loss: 0.020628351268501717 | Test Acc: 53.49428%\n"
          ]
        },
        {
          "name": "stderr",
          "output_type": "stream",
          "text": [
            " 44%|████▍     | 22/50 [00:07<00:10,  2.71it/s]"
          ]
        },
        {
          "name": "stdout",
          "output_type": "stream",
          "text": [
            "\n",
            "Epoch: 21 | Train Loss: 0.02009 | Train Acc: 60.02725% | Test loss: 0.02038488825818635 | Test Acc: 59.21220%\n"
          ]
        },
        {
          "name": "stderr",
          "output_type": "stream",
          "text": [
            " 46%|████▌     | 23/50 [00:08<00:09,  2.71it/s]"
          ]
        },
        {
          "name": "stdout",
          "output_type": "stream",
          "text": [
            "\n",
            "Epoch: 22 | Train Loss: 0.02006 | Train Acc: 59.59128% | Test loss: 0.020410981384287038 | Test Acc: 57.17916%\n"
          ]
        },
        {
          "name": "stderr",
          "output_type": "stream",
          "text": [
            " 48%|████▊     | 24/50 [00:08<00:09,  2.68it/s]"
          ]
        },
        {
          "name": "stdout",
          "output_type": "stream",
          "text": [
            "\n",
            "Epoch: 23 | Train Loss: 0.02001 | Train Acc: 60.05450% | Test loss: 0.020381068032154438 | Test Acc: 59.97459%\n"
          ]
        },
        {
          "name": "stderr",
          "output_type": "stream",
          "text": [
            " 50%|█████     | 25/50 [00:08<00:09,  2.70it/s]"
          ]
        },
        {
          "name": "stdout",
          "output_type": "stream",
          "text": [
            "\n",
            "Epoch: 24 | Train Loss: 0.02007 | Train Acc: 60.79019% | Test loss: 0.020359840144650605 | Test Acc: 57.30623%\n"
          ]
        },
        {
          "name": "stderr",
          "output_type": "stream",
          "text": [
            " 54%|█████▍    | 27/50 [00:09<00:08,  2.59it/s]"
          ]
        },
        {
          "name": "stdout",
          "output_type": "stream",
          "text": [
            "\n",
            "Epoch: 26 | Train Loss: 0.02007 | Train Acc: 60.10899% | Test loss: 0.02033094181341925 | Test Acc: 57.30623%\n"
          ]
        },
        {
          "name": "stderr",
          "output_type": "stream",
          "text": [
            " 56%|█████▌    | 28/50 [00:10<00:08,  2.64it/s]"
          ]
        },
        {
          "name": "stdout",
          "output_type": "stream",
          "text": [
            "\n",
            "Epoch: 27 | Train Loss: 0.02000 | Train Acc: 60.08174% | Test loss: 0.020338613393194642 | Test Acc: 58.57687%\n"
          ]
        },
        {
          "name": "stderr",
          "output_type": "stream",
          "text": [
            " 58%|█████▊    | 29/50 [00:10<00:07,  2.65it/s]"
          ]
        },
        {
          "name": "stdout",
          "output_type": "stream",
          "text": [
            "\n",
            "Epoch: 28 | Train Loss: 0.02000 | Train Acc: 61.25341% | Test loss: 0.02065957024258004 | Test Acc: 52.22363%\n"
          ]
        },
        {
          "name": "stderr",
          "output_type": "stream",
          "text": [
            " 60%|██████    | 30/50 [00:10<00:07,  2.66it/s]"
          ]
        },
        {
          "name": "stdout",
          "output_type": "stream",
          "text": [
            "\n",
            "Epoch: 29 | Train Loss: 0.02000 | Train Acc: 60.81744% | Test loss: 0.02044267439327216 | Test Acc: 55.14612%\n"
          ]
        },
        {
          "name": "stderr",
          "output_type": "stream",
          "text": [
            " 64%|██████▍   | 32/50 [00:11<00:06,  2.73it/s]"
          ]
        },
        {
          "name": "stdout",
          "output_type": "stream",
          "text": [
            "\n",
            "Epoch: 31 | Train Loss: 0.02000 | Train Acc: 60.27248% | Test loss: 0.02032361332009981 | Test Acc: 59.21220%\n"
          ]
        },
        {
          "name": "stderr",
          "output_type": "stream",
          "text": [
            " 66%|██████▌   | 33/50 [00:11<00:06,  2.73it/s]"
          ]
        },
        {
          "name": "stdout",
          "output_type": "stream",
          "text": [
            "\n",
            "Epoch: 32 | Train Loss: 0.01998 | Train Acc: 60.38147% | Test loss: 0.020490136504021806 | Test Acc: 56.28971%\n"
          ]
        },
        {
          "name": "stderr",
          "output_type": "stream",
          "text": [
            " 68%|██████▊   | 34/50 [00:12<00:05,  2.74it/s]"
          ]
        },
        {
          "name": "stdout",
          "output_type": "stream",
          "text": [
            "\n",
            "Epoch: 33 | Train Loss: 0.01997 | Train Acc: 60.81744% | Test loss: 0.02036326033036015 | Test Acc: 57.05210%\n"
          ]
        },
        {
          "name": "stderr",
          "output_type": "stream",
          "text": [
            " 70%|███████   | 35/50 [00:12<00:05,  2.73it/s]"
          ]
        },
        {
          "name": "stdout",
          "output_type": "stream",
          "text": [
            "\n",
            "Epoch: 34 | Train Loss: 0.01994 | Train Acc: 60.81744% | Test loss: 0.0207034063914831 | Test Acc: 59.72046%\n"
          ]
        },
        {
          "name": "stderr",
          "output_type": "stream",
          "text": [
            " 74%|███████▍  | 37/50 [00:13<00:04,  2.74it/s]"
          ]
        },
        {
          "name": "stdout",
          "output_type": "stream",
          "text": [
            "\n",
            "Epoch: 36 | Train Loss: 0.01999 | Train Acc: 60.13624% | Test loss: 0.02031148972020519 | Test Acc: 56.79797%\n"
          ]
        },
        {
          "name": "stderr",
          "output_type": "stream",
          "text": [
            " 76%|███████▌  | 38/50 [00:13<00:04,  2.73it/s]"
          ]
        },
        {
          "name": "stdout",
          "output_type": "stream",
          "text": [
            "\n",
            "Epoch: 37 | Train Loss: 0.01991 | Train Acc: 61.36240% | Test loss: 0.02028929566185841 | Test Acc: 57.68742%\n"
          ]
        },
        {
          "name": "stderr",
          "output_type": "stream",
          "text": [
            " 78%|███████▊  | 39/50 [00:14<00:04,  2.72it/s]"
          ]
        },
        {
          "name": "stdout",
          "output_type": "stream",
          "text": [
            "\n",
            "Epoch: 38 | Train Loss: 0.01990 | Train Acc: 60.95368% | Test loss: 0.020311341276617184 | Test Acc: 56.92503%\n"
          ]
        },
        {
          "name": "stderr",
          "output_type": "stream",
          "text": [
            " 80%|████████  | 40/50 [00:14<00:03,  2.70it/s]"
          ]
        },
        {
          "name": "stdout",
          "output_type": "stream",
          "text": [
            "\n",
            "Epoch: 39 | Train Loss: 0.01997 | Train Acc: 60.38147% | Test loss: 0.020283238633312144 | Test Acc: 57.43329%\n"
          ]
        },
        {
          "name": "stderr",
          "output_type": "stream",
          "text": [
            " 84%|████████▍ | 42/50 [00:15<00:02,  2.75it/s]"
          ]
        },
        {
          "name": "stdout",
          "output_type": "stream",
          "text": [
            "\n",
            "Epoch: 41 | Train Loss: 0.01990 | Train Acc: 61.36240% | Test loss: 0.02027843413540793 | Test Acc: 56.54384%\n"
          ]
        },
        {
          "name": "stderr",
          "output_type": "stream",
          "text": [
            " 86%|████████▌ | 43/50 [00:15<00:02,  2.74it/s]"
          ]
        },
        {
          "name": "stdout",
          "output_type": "stream",
          "text": [
            "\n",
            "Epoch: 42 | Train Loss: 0.01992 | Train Acc: 60.79019% | Test loss: 0.020258764829841625 | Test Acc: 60.35578%\n"
          ]
        },
        {
          "name": "stderr",
          "output_type": "stream",
          "text": [
            " 88%|████████▊ | 44/50 [00:15<00:02,  2.67it/s]"
          ]
        },
        {
          "name": "stdout",
          "output_type": "stream",
          "text": [
            "\n",
            "Epoch: 43 | Train Loss: 0.01985 | Train Acc: 62.17984% | Test loss: 0.020215101284477885 | Test Acc: 56.79797%\n"
          ]
        },
        {
          "name": "stderr",
          "output_type": "stream",
          "text": [
            " 90%|█████████ | 45/50 [00:16<00:01,  2.67it/s]"
          ]
        },
        {
          "name": "stdout",
          "output_type": "stream",
          "text": [
            "\n",
            "Epoch: 44 | Train Loss: 0.01985 | Train Acc: 62.39782% | Test loss: 0.02017341915806791 | Test Acc: 56.79797%\n"
          ]
        },
        {
          "name": "stderr",
          "output_type": "stream",
          "text": [
            " 94%|█████████▍| 47/50 [00:17<00:01,  2.65it/s]"
          ]
        },
        {
          "name": "stdout",
          "output_type": "stream",
          "text": [
            "\n",
            "Epoch: 46 | Train Loss: 0.01987 | Train Acc: 61.47139% | Test loss: 0.020478645834262368 | Test Acc: 60.22872%\n"
          ]
        },
        {
          "name": "stderr",
          "output_type": "stream",
          "text": [
            " 96%|█████████▌| 48/50 [00:17<00:00,  2.66it/s]"
          ]
        },
        {
          "name": "stdout",
          "output_type": "stream",
          "text": [
            "\n",
            "Epoch: 47 | Train Loss: 0.01992 | Train Acc: 61.30790% | Test loss: 0.02018871301314125 | Test Acc: 56.54384%\n"
          ]
        },
        {
          "name": "stderr",
          "output_type": "stream",
          "text": [
            " 98%|█████████▊| 49/50 [00:17<00:00,  2.50it/s]"
          ]
        },
        {
          "name": "stdout",
          "output_type": "stream",
          "text": [
            "\n",
            "Epoch: 48 | Train Loss: 0.01982 | Train Acc: 62.15259% | Test loss: 0.020104242476908042 | Test Acc: 60.48285%\n"
          ]
        },
        {
          "name": "stderr",
          "output_type": "stream",
          "text": [
            "100%|██████████| 50/50 [00:18<00:00,  2.73it/s]"
          ]
        },
        {
          "name": "stdout",
          "output_type": "stream",
          "text": [
            "\n",
            "Epoch: 49 | Train Loss: 0.01975 | Train Acc: 62.86104% | Test loss: 0.020217645728754726 | Test Acc: 59.97459%\n",
            "\n",
            "Training was done in 49.00147 seconds\n"
          ]
        },
        {
          "name": "stderr",
          "output_type": "stream",
          "text": [
            "\n"
          ]
        }
      ],
      "source": [
        "model_3_loss_and_acc = train(model=flag_model_2_with_scaled_data,\n",
        "      train_data=train_dataloader_3,\n",
        "      test_data=val_dataloader_3,\n",
        "      loss_fn=loss_fn,\n",
        "      optimizer=optimizer,\n",
        "      # accuracy_fn=accuracy_fn,\n",
        "      epochs=EPOCHS)"
      ]
    },
    {
      "cell_type": "code",
      "execution_count": 262,
      "metadata": {},
      "outputs": [
        {
          "data": {
            "text/html": [
              "<div>\n",
              "<style scoped>\n",
              "    .dataframe tbody tr th:only-of-type {\n",
              "        vertical-align: middle;\n",
              "    }\n",
              "\n",
              "    .dataframe tbody tr th {\n",
              "        vertical-align: top;\n",
              "    }\n",
              "\n",
              "    .dataframe thead th {\n",
              "        text-align: right;\n",
              "    }\n",
              "</style>\n",
              "<table border=\"1\" class=\"dataframe\">\n",
              "  <thead>\n",
              "    <tr style=\"text-align: right;\">\n",
              "      <th></th>\n",
              "      <th>train_loss</th>\n",
              "      <th>train_acc</th>\n",
              "      <th>test_loss</th>\n",
              "      <th>test_acc</th>\n",
              "      <th>f1_score</th>\n",
              "    </tr>\n",
              "  </thead>\n",
              "  <tbody>\n",
              "    <tr>\n",
              "      <th>0</th>\n",
              "      <td>0.022454</td>\n",
              "      <td>59.618529</td>\n",
              "      <td>0.021907</td>\n",
              "      <td>62.261753</td>\n",
              "      <td>0.383712</td>\n",
              "    </tr>\n",
              "    <tr>\n",
              "      <th>1</th>\n",
              "      <td>0.022490</td>\n",
              "      <td>59.564033</td>\n",
              "      <td>0.021907</td>\n",
              "      <td>62.261753</td>\n",
              "      <td>0.383712</td>\n",
              "    </tr>\n",
              "    <tr>\n",
              "      <th>2</th>\n",
              "      <td>0.022486</td>\n",
              "      <td>59.564033</td>\n",
              "      <td>0.021962</td>\n",
              "      <td>62.261753</td>\n",
              "      <td>0.383712</td>\n",
              "    </tr>\n",
              "    <tr>\n",
              "      <th>3</th>\n",
              "      <td>0.022497</td>\n",
              "      <td>59.564033</td>\n",
              "      <td>0.022016</td>\n",
              "      <td>62.261753</td>\n",
              "      <td>0.383712</td>\n",
              "    </tr>\n",
              "    <tr>\n",
              "      <th>4</th>\n",
              "      <td>0.022474</td>\n",
              "      <td>59.564033</td>\n",
              "      <td>0.021907</td>\n",
              "      <td>62.261753</td>\n",
              "      <td>0.383712</td>\n",
              "    </tr>\n",
              "  </tbody>\n",
              "</table>\n",
              "</div>"
            ],
            "text/plain": [
              "   train_loss  train_acc  test_loss   test_acc  f1_score\n",
              "0    0.022454  59.618529   0.021907  62.261753  0.383712\n",
              "1    0.022490  59.564033   0.021907  62.261753  0.383712\n",
              "2    0.022486  59.564033   0.021962  62.261753  0.383712\n",
              "3    0.022497  59.564033   0.022016  62.261753  0.383712\n",
              "4    0.022474  59.564033   0.021907  62.261753  0.383712"
            ]
          },
          "execution_count": 262,
          "metadata": {},
          "output_type": "execute_result"
        }
      ],
      "source": [
        "model_1_loss_and_acc.head()"
      ]
    },
    {
      "cell_type": "code",
      "execution_count": 263,
      "metadata": {},
      "outputs": [
        {
          "data": {
            "text/html": [
              "<div>\n",
              "<style scoped>\n",
              "    .dataframe tbody tr th:only-of-type {\n",
              "        vertical-align: middle;\n",
              "    }\n",
              "\n",
              "    .dataframe tbody tr th {\n",
              "        vertical-align: top;\n",
              "    }\n",
              "\n",
              "    .dataframe thead th {\n",
              "        text-align: right;\n",
              "    }\n",
              "</style>\n",
              "<table border=\"1\" class=\"dataframe\">\n",
              "  <thead>\n",
              "    <tr style=\"text-align: right;\">\n",
              "      <th></th>\n",
              "      <th>train_loss</th>\n",
              "      <th>train_acc</th>\n",
              "      <th>test_loss</th>\n",
              "      <th>test_acc</th>\n",
              "      <th>f1_score</th>\n",
              "    </tr>\n",
              "  </thead>\n",
              "  <tbody>\n",
              "    <tr>\n",
              "      <th>0</th>\n",
              "      <td>0.020738</td>\n",
              "      <td>54.659401</td>\n",
              "      <td>0.020494</td>\n",
              "      <td>54.256671</td>\n",
              "      <td>0.541197</td>\n",
              "    </tr>\n",
              "    <tr>\n",
              "      <th>1</th>\n",
              "      <td>0.020507</td>\n",
              "      <td>55.803815</td>\n",
              "      <td>0.020443</td>\n",
              "      <td>55.146125</td>\n",
              "      <td>0.551435</td>\n",
              "    </tr>\n",
              "    <tr>\n",
              "      <th>2</th>\n",
              "      <td>0.020402</td>\n",
              "      <td>56.267030</td>\n",
              "      <td>0.020548</td>\n",
              "      <td>51.588310</td>\n",
              "      <td>0.507279</td>\n",
              "    </tr>\n",
              "    <tr>\n",
              "      <th>3</th>\n",
              "      <td>0.020346</td>\n",
              "      <td>56.566757</td>\n",
              "      <td>0.020489</td>\n",
              "      <td>53.621347</td>\n",
              "      <td>0.534759</td>\n",
              "    </tr>\n",
              "    <tr>\n",
              "      <th>4</th>\n",
              "      <td>0.020312</td>\n",
              "      <td>56.920981</td>\n",
              "      <td>0.020485</td>\n",
              "      <td>59.847522</td>\n",
              "      <td>0.585546</td>\n",
              "    </tr>\n",
              "  </tbody>\n",
              "</table>\n",
              "</div>"
            ],
            "text/plain": [
              "   train_loss  train_acc  test_loss   test_acc  f1_score\n",
              "0    0.020738  54.659401   0.020494  54.256671  0.541197\n",
              "1    0.020507  55.803815   0.020443  55.146125  0.551435\n",
              "2    0.020402  56.267030   0.020548  51.588310  0.507279\n",
              "3    0.020346  56.566757   0.020489  53.621347  0.534759\n",
              "4    0.020312  56.920981   0.020485  59.847522  0.585546"
            ]
          },
          "execution_count": 263,
          "metadata": {},
          "output_type": "execute_result"
        }
      ],
      "source": [
        "model_2_loss_and_acc.head()"
      ]
    },
    {
      "cell_type": "code",
      "execution_count": 264,
      "metadata": {},
      "outputs": [
        {
          "data": {
            "text/html": [
              "<div>\n",
              "<style scoped>\n",
              "    .dataframe tbody tr th:only-of-type {\n",
              "        vertical-align: middle;\n",
              "    }\n",
              "\n",
              "    .dataframe tbody tr th {\n",
              "        vertical-align: top;\n",
              "    }\n",
              "\n",
              "    .dataframe thead th {\n",
              "        text-align: right;\n",
              "    }\n",
              "</style>\n",
              "<table border=\"1\" class=\"dataframe\">\n",
              "  <thead>\n",
              "    <tr style=\"text-align: right;\">\n",
              "      <th></th>\n",
              "      <th>train_loss</th>\n",
              "      <th>train_acc</th>\n",
              "      <th>test_loss</th>\n",
              "      <th>test_acc</th>\n",
              "      <th>f1_score</th>\n",
              "    </tr>\n",
              "  </thead>\n",
              "  <tbody>\n",
              "    <tr>\n",
              "      <th>0</th>\n",
              "      <td>0.020611</td>\n",
              "      <td>53.732970</td>\n",
              "      <td>0.020674</td>\n",
              "      <td>58.831004</td>\n",
              "      <td>0.540860</td>\n",
              "    </tr>\n",
              "    <tr>\n",
              "      <th>1</th>\n",
              "      <td>0.020399</td>\n",
              "      <td>56.457766</td>\n",
              "      <td>0.020485</td>\n",
              "      <td>56.162643</td>\n",
              "      <td>0.558889</td>\n",
              "    </tr>\n",
              "    <tr>\n",
              "      <th>2</th>\n",
              "      <td>0.020382</td>\n",
              "      <td>56.376022</td>\n",
              "      <td>0.020544</td>\n",
              "      <td>57.687421</td>\n",
              "      <td>0.563451</td>\n",
              "    </tr>\n",
              "    <tr>\n",
              "      <th>3</th>\n",
              "      <td>0.020355</td>\n",
              "      <td>58.065395</td>\n",
              "      <td>0.020552</td>\n",
              "      <td>55.400254</td>\n",
              "      <td>0.553354</td>\n",
              "    </tr>\n",
              "    <tr>\n",
              "      <th>4</th>\n",
              "      <td>0.020291</td>\n",
              "      <td>57.275204</td>\n",
              "      <td>0.020540</td>\n",
              "      <td>53.240152</td>\n",
              "      <td>0.529575</td>\n",
              "    </tr>\n",
              "  </tbody>\n",
              "</table>\n",
              "</div>"
            ],
            "text/plain": [
              "   train_loss  train_acc  test_loss   test_acc  f1_score\n",
              "0    0.020611  53.732970   0.020674  58.831004  0.540860\n",
              "1    0.020399  56.457766   0.020485  56.162643  0.558889\n",
              "2    0.020382  56.376022   0.020544  57.687421  0.563451\n",
              "3    0.020355  58.065395   0.020552  55.400254  0.553354\n",
              "4    0.020291  57.275204   0.020540  53.240152  0.529575"
            ]
          },
          "execution_count": 264,
          "metadata": {},
          "output_type": "execute_result"
        }
      ],
      "source": [
        "model_3_loss_and_acc.head()"
      ]
    },
    {
      "cell_type": "code",
      "execution_count": 265,
      "metadata": {},
      "outputs": [],
      "source": [
        "import plotly.graph_objects as go\n",
        "from plotly.subplots import make_subplots\n",
        "\n",
        "def plot_metrics(metrics, model_name):\n",
        "   x_plot = list(range(len(metrics)))\n",
        "\n",
        "   fig = make_subplots(rows=3, cols=1)\n",
        "\n",
        "   fig.add_trace(go.Scatter(y=metrics['train_loss'], mode='lines', name='train loss'), row=1, col=1)\n",
        "   fig.add_trace(go.Scatter(y=metrics['test_loss'], mode='lines', name='Validation loss'), row=1, col=1)\n",
        "   fig.update_layout(height=600, width=600, title_text=\"Loss Value\")\n",
        "\n",
        "   fig.add_trace(go.Scatter(y=metrics['train_acc'], mode='lines', name='train accuracy'), row=2, col=1)\n",
        "   fig.add_trace(go.Scatter(y=metrics['test_acc'], mode='lines', name='Validation accuracy'), row=2, col=1)\n",
        "   fig.update_layout(height=600, width=600, title_text=model_name)\n",
        "   \n",
        "   fig.add_trace(go.Scatter(y=metrics['f1_score'], mode='lines', name='f1 score'), row=3, col=1)\n",
        "\n",
        "\n",
        "   fig.show()\n"
      ]
    },
    {
      "cell_type": "code",
      "execution_count": 266,
      "metadata": {},
      "outputs": [
        {
          "data": {
            "application/vnd.plotly.v1+json": {
              "config": {
                "plotlyServerURL": "https://plot.ly"
              },
              "data": [
                {
                  "mode": "lines",
                  "name": "train loss",
                  "type": "scatter",
                  "xaxis": "x",
                  "y": [
                    0.022453943674505893,
                    0.022489633774562492,
                    0.022485763313659854,
                    0.022497374793814053,
                    0.022474151995916132,
                    0.02249350434103194,
                    0.02248963368523673,
                    0.022493504292308796,
                    0.022485763484190856,
                    0.022462540751257126,
                    0.022481892868998266,
                    0.02248576332178038,
                    0.022489633774562492,
                    0.022478022481180342,
                    0.022485763208093045,
                    0.022485763289298282,
                    0.022485763370503523,
                    0.022485763394865094,
                    0.02249737487501929,
                    0.022485763419226666,
                    0.022485763305539332,
                    0.022478022481180342,
                    0.022474151995916132,
                    0.022474151914710895,
                    0.022470281526892972,
                    0.02247802252178296,
                    0.022478022578626626,
                    0.022481893039529265,
                    0.022485763500431903,
                    0.022489633823285636,
                    0.02247415209336242,
                    0.02247802262734977,
                    0.022474152109603466,
                    0.022489633969455063,
                    0.022481892868998266,
                    0.022478022635470295,
                    0.022485763435467713,
                    0.02248189291772141,
                    0.022478022416216152,
                    0.022485763273057235,
                    0.022481892950203503,
                    0.022485763500431903,
                    0.0224780224324572,
                    0.022485763549155047,
                    0.022485763402985616,
                    0.022466410927941428,
                    0.02247415202839823,
                    0.022489633969455063,
                    0.02247028144568773,
                    0.022490269254273873
                  ],
                  "yaxis": "y"
                },
                {
                  "mode": "lines",
                  "name": "Validation loss",
                  "type": "scatter",
                  "xaxis": "x",
                  "y": [
                    0.021907344100738874,
                    0.02190734372205625,
                    0.021961680967289732,
                    0.022016018061050163,
                    0.0219073441764754,
                    0.021934512609750826,
                    0.02188017574319997,
                    0.022043185774828607,
                    0.021961680891553207,
                    0.021907344100738874,
                    0.021825838725176065,
                    0.021880175591726923,
                    0.021961681194499306,
                    0.02201601783384059,
                    0.021988849362696898,
                    0.021934512231068206,
                    0.02193451245827778,
                    0.021907343797792776,
                    0.021880175818936493,
                    0.02193451245827778,
                    0.021988849400565162,
                    0.022070354548918397,
                    0.021934512534014305,
                    0.021934512534014305,
                    0.02193451245827778,
                    0.021988849249092113,
                    0.022043186342852544,
                    0.021907343949265825,
                    0.021880175894673018,
                    0.021988849324828637,
                    0.02179867017829585,
                    0.0219345128369604,
                    0.021934512382541255,
                    0.02190734402500235,
                    0.021961680740080158,
                    0.021961680967289732,
                    0.021988849552038208,
                    0.022043186342852544,
                    0.02193451245827778,
                    0.02193451245827778,
                    0.0219073441764754,
                    0.02193451245827778,
                    0.021880175137307774,
                    0.021961680815816682,
                    0.021880175667463447,
                    0.021961680815816682,
                    0.021907343797792776,
                    0.021907344100738874,
                    0.02188017536451735,
                    0.021961680891553207
                  ],
                  "yaxis": "y"
                },
                {
                  "mode": "lines",
                  "name": "train accuracy",
                  "type": "scatter",
                  "xaxis": "x2",
                  "y": [
                    59.618528610354225,
                    59.56403269754769,
                    59.56403269754769,
                    59.56403269754769,
                    59.56403269754769,
                    59.56403269754769,
                    59.56403269754769,
                    59.56403269754769,
                    59.56403269754769,
                    59.56403269754769,
                    59.56403269754769,
                    59.56403269754769,
                    59.56403269754769,
                    59.56403269754769,
                    59.56403269754769,
                    59.56403269754769,
                    59.56403269754769,
                    59.56403269754769,
                    59.56403269754769,
                    59.56403269754769,
                    59.56403269754769,
                    59.56403269754769,
                    59.56403269754769,
                    59.56403269754769,
                    59.56403269754769,
                    59.56403269754769,
                    59.56403269754769,
                    59.56403269754769,
                    59.56403269754769,
                    59.56403269754769,
                    59.56403269754769,
                    59.56403269754769,
                    59.56403269754769,
                    59.56403269754769,
                    59.56403269754769,
                    59.56403269754769,
                    59.56403269754769,
                    59.56403269754769,
                    59.56403269754769,
                    59.56403269754769,
                    59.56403269754769,
                    59.56403269754769,
                    59.56403269754769,
                    59.56403269754769,
                    59.56403269754769,
                    59.56403269754769,
                    59.56403269754769,
                    59.56403269754769,
                    59.56403269754769,
                    59.59128065395095
                  ],
                  "yaxis": "y2"
                },
                {
                  "mode": "lines",
                  "name": "Validation accuracy",
                  "type": "scatter",
                  "xaxis": "x2",
                  "y": [
                    62.26175349428208,
                    62.26175349428208,
                    62.26175349428208,
                    62.26175349428208,
                    62.26175349428208,
                    62.26175349428208,
                    62.26175349428208,
                    62.26175349428208,
                    62.26175349428208,
                    62.26175349428208,
                    62.26175349428208,
                    62.26175349428208,
                    62.26175349428208,
                    62.26175349428208,
                    62.26175349428208,
                    62.26175349428208,
                    62.26175349428208,
                    62.26175349428208,
                    62.26175349428208,
                    62.26175349428208,
                    62.26175349428208,
                    62.26175349428208,
                    62.26175349428208,
                    62.26175349428208,
                    62.26175349428208,
                    62.26175349428208,
                    62.26175349428208,
                    62.26175349428208,
                    62.26175349428208,
                    62.26175349428208,
                    62.26175349428208,
                    62.26175349428208,
                    62.26175349428208,
                    62.26175349428208,
                    62.26175349428208,
                    62.26175349428208,
                    62.26175349428208,
                    62.26175349428208,
                    62.26175349428208,
                    62.26175349428208,
                    62.26175349428208,
                    62.26175349428208,
                    62.26175349428208,
                    62.26175349428208,
                    62.26175349428208,
                    62.26175349428208,
                    62.26175349428208,
                    62.26175349428208,
                    62.26175349428208,
                    62.26175349428208
                  ],
                  "yaxis": "y2"
                },
                {
                  "mode": "lines",
                  "name": "f1 score",
                  "type": "scatter",
                  "xaxis": "x3",
                  "y": [
                    0.3837118245888802,
                    0.3837118245888802,
                    0.3837118245888802,
                    0.3837118245888802,
                    0.3837118245888802,
                    0.3837118245888802,
                    0.3837118245888802,
                    0.3837118245888802,
                    0.3837118245888802,
                    0.3837118245888802,
                    0.3837118245888802,
                    0.3837118245888802,
                    0.3837118245888802,
                    0.3837118245888802,
                    0.3837118245888802,
                    0.3837118245888802,
                    0.3837118245888802,
                    0.3837118245888802,
                    0.3837118245888802,
                    0.3837118245888802,
                    0.3837118245888802,
                    0.3837118245888802,
                    0.3837118245888802,
                    0.3837118245888802,
                    0.3837118245888802,
                    0.3837118245888802,
                    0.3837118245888802,
                    0.3837118245888802,
                    0.3837118245888802,
                    0.3837118245888802,
                    0.3837118245888802,
                    0.3837118245888802,
                    0.3837118245888802,
                    0.3837118245888802,
                    0.3837118245888802,
                    0.3837118245888802,
                    0.3837118245888802,
                    0.3837118245888802,
                    0.3837118245888802,
                    0.3837118245888802,
                    0.3837118245888802,
                    0.3837118245888802,
                    0.3837118245888802,
                    0.3837118245888802,
                    0.3837118245888802,
                    0.3837118245888802,
                    0.3837118245888802,
                    0.3837118245888802,
                    0.3837118245888802,
                    0.3837118245888802
                  ],
                  "yaxis": "y3"
                }
              ],
              "layout": {
                "height": 600,
                "template": {
                  "data": {
                    "bar": [
                      {
                        "error_x": {
                          "color": "#2a3f5f"
                        },
                        "error_y": {
                          "color": "#2a3f5f"
                        },
                        "marker": {
                          "line": {
                            "color": "#E5ECF6",
                            "width": 0.5
                          },
                          "pattern": {
                            "fillmode": "overlay",
                            "size": 10,
                            "solidity": 0.2
                          }
                        },
                        "type": "bar"
                      }
                    ],
                    "barpolar": [
                      {
                        "marker": {
                          "line": {
                            "color": "#E5ECF6",
                            "width": 0.5
                          },
                          "pattern": {
                            "fillmode": "overlay",
                            "size": 10,
                            "solidity": 0.2
                          }
                        },
                        "type": "barpolar"
                      }
                    ],
                    "carpet": [
                      {
                        "aaxis": {
                          "endlinecolor": "#2a3f5f",
                          "gridcolor": "white",
                          "linecolor": "white",
                          "minorgridcolor": "white",
                          "startlinecolor": "#2a3f5f"
                        },
                        "baxis": {
                          "endlinecolor": "#2a3f5f",
                          "gridcolor": "white",
                          "linecolor": "white",
                          "minorgridcolor": "white",
                          "startlinecolor": "#2a3f5f"
                        },
                        "type": "carpet"
                      }
                    ],
                    "choropleth": [
                      {
                        "colorbar": {
                          "outlinewidth": 0,
                          "ticks": ""
                        },
                        "type": "choropleth"
                      }
                    ],
                    "contour": [
                      {
                        "colorbar": {
                          "outlinewidth": 0,
                          "ticks": ""
                        },
                        "colorscale": [
                          [
                            0,
                            "#0d0887"
                          ],
                          [
                            0.1111111111111111,
                            "#46039f"
                          ],
                          [
                            0.2222222222222222,
                            "#7201a8"
                          ],
                          [
                            0.3333333333333333,
                            "#9c179e"
                          ],
                          [
                            0.4444444444444444,
                            "#bd3786"
                          ],
                          [
                            0.5555555555555556,
                            "#d8576b"
                          ],
                          [
                            0.6666666666666666,
                            "#ed7953"
                          ],
                          [
                            0.7777777777777778,
                            "#fb9f3a"
                          ],
                          [
                            0.8888888888888888,
                            "#fdca26"
                          ],
                          [
                            1,
                            "#f0f921"
                          ]
                        ],
                        "type": "contour"
                      }
                    ],
                    "contourcarpet": [
                      {
                        "colorbar": {
                          "outlinewidth": 0,
                          "ticks": ""
                        },
                        "type": "contourcarpet"
                      }
                    ],
                    "heatmap": [
                      {
                        "colorbar": {
                          "outlinewidth": 0,
                          "ticks": ""
                        },
                        "colorscale": [
                          [
                            0,
                            "#0d0887"
                          ],
                          [
                            0.1111111111111111,
                            "#46039f"
                          ],
                          [
                            0.2222222222222222,
                            "#7201a8"
                          ],
                          [
                            0.3333333333333333,
                            "#9c179e"
                          ],
                          [
                            0.4444444444444444,
                            "#bd3786"
                          ],
                          [
                            0.5555555555555556,
                            "#d8576b"
                          ],
                          [
                            0.6666666666666666,
                            "#ed7953"
                          ],
                          [
                            0.7777777777777778,
                            "#fb9f3a"
                          ],
                          [
                            0.8888888888888888,
                            "#fdca26"
                          ],
                          [
                            1,
                            "#f0f921"
                          ]
                        ],
                        "type": "heatmap"
                      }
                    ],
                    "heatmapgl": [
                      {
                        "colorbar": {
                          "outlinewidth": 0,
                          "ticks": ""
                        },
                        "colorscale": [
                          [
                            0,
                            "#0d0887"
                          ],
                          [
                            0.1111111111111111,
                            "#46039f"
                          ],
                          [
                            0.2222222222222222,
                            "#7201a8"
                          ],
                          [
                            0.3333333333333333,
                            "#9c179e"
                          ],
                          [
                            0.4444444444444444,
                            "#bd3786"
                          ],
                          [
                            0.5555555555555556,
                            "#d8576b"
                          ],
                          [
                            0.6666666666666666,
                            "#ed7953"
                          ],
                          [
                            0.7777777777777778,
                            "#fb9f3a"
                          ],
                          [
                            0.8888888888888888,
                            "#fdca26"
                          ],
                          [
                            1,
                            "#f0f921"
                          ]
                        ],
                        "type": "heatmapgl"
                      }
                    ],
                    "histogram": [
                      {
                        "marker": {
                          "pattern": {
                            "fillmode": "overlay",
                            "size": 10,
                            "solidity": 0.2
                          }
                        },
                        "type": "histogram"
                      }
                    ],
                    "histogram2d": [
                      {
                        "colorbar": {
                          "outlinewidth": 0,
                          "ticks": ""
                        },
                        "colorscale": [
                          [
                            0,
                            "#0d0887"
                          ],
                          [
                            0.1111111111111111,
                            "#46039f"
                          ],
                          [
                            0.2222222222222222,
                            "#7201a8"
                          ],
                          [
                            0.3333333333333333,
                            "#9c179e"
                          ],
                          [
                            0.4444444444444444,
                            "#bd3786"
                          ],
                          [
                            0.5555555555555556,
                            "#d8576b"
                          ],
                          [
                            0.6666666666666666,
                            "#ed7953"
                          ],
                          [
                            0.7777777777777778,
                            "#fb9f3a"
                          ],
                          [
                            0.8888888888888888,
                            "#fdca26"
                          ],
                          [
                            1,
                            "#f0f921"
                          ]
                        ],
                        "type": "histogram2d"
                      }
                    ],
                    "histogram2dcontour": [
                      {
                        "colorbar": {
                          "outlinewidth": 0,
                          "ticks": ""
                        },
                        "colorscale": [
                          [
                            0,
                            "#0d0887"
                          ],
                          [
                            0.1111111111111111,
                            "#46039f"
                          ],
                          [
                            0.2222222222222222,
                            "#7201a8"
                          ],
                          [
                            0.3333333333333333,
                            "#9c179e"
                          ],
                          [
                            0.4444444444444444,
                            "#bd3786"
                          ],
                          [
                            0.5555555555555556,
                            "#d8576b"
                          ],
                          [
                            0.6666666666666666,
                            "#ed7953"
                          ],
                          [
                            0.7777777777777778,
                            "#fb9f3a"
                          ],
                          [
                            0.8888888888888888,
                            "#fdca26"
                          ],
                          [
                            1,
                            "#f0f921"
                          ]
                        ],
                        "type": "histogram2dcontour"
                      }
                    ],
                    "mesh3d": [
                      {
                        "colorbar": {
                          "outlinewidth": 0,
                          "ticks": ""
                        },
                        "type": "mesh3d"
                      }
                    ],
                    "parcoords": [
                      {
                        "line": {
                          "colorbar": {
                            "outlinewidth": 0,
                            "ticks": ""
                          }
                        },
                        "type": "parcoords"
                      }
                    ],
                    "pie": [
                      {
                        "automargin": true,
                        "type": "pie"
                      }
                    ],
                    "scatter": [
                      {
                        "fillpattern": {
                          "fillmode": "overlay",
                          "size": 10,
                          "solidity": 0.2
                        },
                        "type": "scatter"
                      }
                    ],
                    "scatter3d": [
                      {
                        "line": {
                          "colorbar": {
                            "outlinewidth": 0,
                            "ticks": ""
                          }
                        },
                        "marker": {
                          "colorbar": {
                            "outlinewidth": 0,
                            "ticks": ""
                          }
                        },
                        "type": "scatter3d"
                      }
                    ],
                    "scattercarpet": [
                      {
                        "marker": {
                          "colorbar": {
                            "outlinewidth": 0,
                            "ticks": ""
                          }
                        },
                        "type": "scattercarpet"
                      }
                    ],
                    "scattergeo": [
                      {
                        "marker": {
                          "colorbar": {
                            "outlinewidth": 0,
                            "ticks": ""
                          }
                        },
                        "type": "scattergeo"
                      }
                    ],
                    "scattergl": [
                      {
                        "marker": {
                          "colorbar": {
                            "outlinewidth": 0,
                            "ticks": ""
                          }
                        },
                        "type": "scattergl"
                      }
                    ],
                    "scattermapbox": [
                      {
                        "marker": {
                          "colorbar": {
                            "outlinewidth": 0,
                            "ticks": ""
                          }
                        },
                        "type": "scattermapbox"
                      }
                    ],
                    "scatterpolar": [
                      {
                        "marker": {
                          "colorbar": {
                            "outlinewidth": 0,
                            "ticks": ""
                          }
                        },
                        "type": "scatterpolar"
                      }
                    ],
                    "scatterpolargl": [
                      {
                        "marker": {
                          "colorbar": {
                            "outlinewidth": 0,
                            "ticks": ""
                          }
                        },
                        "type": "scatterpolargl"
                      }
                    ],
                    "scatterternary": [
                      {
                        "marker": {
                          "colorbar": {
                            "outlinewidth": 0,
                            "ticks": ""
                          }
                        },
                        "type": "scatterternary"
                      }
                    ],
                    "surface": [
                      {
                        "colorbar": {
                          "outlinewidth": 0,
                          "ticks": ""
                        },
                        "colorscale": [
                          [
                            0,
                            "#0d0887"
                          ],
                          [
                            0.1111111111111111,
                            "#46039f"
                          ],
                          [
                            0.2222222222222222,
                            "#7201a8"
                          ],
                          [
                            0.3333333333333333,
                            "#9c179e"
                          ],
                          [
                            0.4444444444444444,
                            "#bd3786"
                          ],
                          [
                            0.5555555555555556,
                            "#d8576b"
                          ],
                          [
                            0.6666666666666666,
                            "#ed7953"
                          ],
                          [
                            0.7777777777777778,
                            "#fb9f3a"
                          ],
                          [
                            0.8888888888888888,
                            "#fdca26"
                          ],
                          [
                            1,
                            "#f0f921"
                          ]
                        ],
                        "type": "surface"
                      }
                    ],
                    "table": [
                      {
                        "cells": {
                          "fill": {
                            "color": "#EBF0F8"
                          },
                          "line": {
                            "color": "white"
                          }
                        },
                        "header": {
                          "fill": {
                            "color": "#C8D4E3"
                          },
                          "line": {
                            "color": "white"
                          }
                        },
                        "type": "table"
                      }
                    ]
                  },
                  "layout": {
                    "annotationdefaults": {
                      "arrowcolor": "#2a3f5f",
                      "arrowhead": 0,
                      "arrowwidth": 1
                    },
                    "autotypenumbers": "strict",
                    "coloraxis": {
                      "colorbar": {
                        "outlinewidth": 0,
                        "ticks": ""
                      }
                    },
                    "colorscale": {
                      "diverging": [
                        [
                          0,
                          "#8e0152"
                        ],
                        [
                          0.1,
                          "#c51b7d"
                        ],
                        [
                          0.2,
                          "#de77ae"
                        ],
                        [
                          0.3,
                          "#f1b6da"
                        ],
                        [
                          0.4,
                          "#fde0ef"
                        ],
                        [
                          0.5,
                          "#f7f7f7"
                        ],
                        [
                          0.6,
                          "#e6f5d0"
                        ],
                        [
                          0.7,
                          "#b8e186"
                        ],
                        [
                          0.8,
                          "#7fbc41"
                        ],
                        [
                          0.9,
                          "#4d9221"
                        ],
                        [
                          1,
                          "#276419"
                        ]
                      ],
                      "sequential": [
                        [
                          0,
                          "#0d0887"
                        ],
                        [
                          0.1111111111111111,
                          "#46039f"
                        ],
                        [
                          0.2222222222222222,
                          "#7201a8"
                        ],
                        [
                          0.3333333333333333,
                          "#9c179e"
                        ],
                        [
                          0.4444444444444444,
                          "#bd3786"
                        ],
                        [
                          0.5555555555555556,
                          "#d8576b"
                        ],
                        [
                          0.6666666666666666,
                          "#ed7953"
                        ],
                        [
                          0.7777777777777778,
                          "#fb9f3a"
                        ],
                        [
                          0.8888888888888888,
                          "#fdca26"
                        ],
                        [
                          1,
                          "#f0f921"
                        ]
                      ],
                      "sequentialminus": [
                        [
                          0,
                          "#0d0887"
                        ],
                        [
                          0.1111111111111111,
                          "#46039f"
                        ],
                        [
                          0.2222222222222222,
                          "#7201a8"
                        ],
                        [
                          0.3333333333333333,
                          "#9c179e"
                        ],
                        [
                          0.4444444444444444,
                          "#bd3786"
                        ],
                        [
                          0.5555555555555556,
                          "#d8576b"
                        ],
                        [
                          0.6666666666666666,
                          "#ed7953"
                        ],
                        [
                          0.7777777777777778,
                          "#fb9f3a"
                        ],
                        [
                          0.8888888888888888,
                          "#fdca26"
                        ],
                        [
                          1,
                          "#f0f921"
                        ]
                      ]
                    },
                    "colorway": [
                      "#636efa",
                      "#EF553B",
                      "#00cc96",
                      "#ab63fa",
                      "#FFA15A",
                      "#19d3f3",
                      "#FF6692",
                      "#B6E880",
                      "#FF97FF",
                      "#FECB52"
                    ],
                    "font": {
                      "color": "#2a3f5f"
                    },
                    "geo": {
                      "bgcolor": "white",
                      "lakecolor": "white",
                      "landcolor": "#E5ECF6",
                      "showlakes": true,
                      "showland": true,
                      "subunitcolor": "white"
                    },
                    "hoverlabel": {
                      "align": "left"
                    },
                    "hovermode": "closest",
                    "mapbox": {
                      "style": "light"
                    },
                    "paper_bgcolor": "white",
                    "plot_bgcolor": "#E5ECF6",
                    "polar": {
                      "angularaxis": {
                        "gridcolor": "white",
                        "linecolor": "white",
                        "ticks": ""
                      },
                      "bgcolor": "#E5ECF6",
                      "radialaxis": {
                        "gridcolor": "white",
                        "linecolor": "white",
                        "ticks": ""
                      }
                    },
                    "scene": {
                      "xaxis": {
                        "backgroundcolor": "#E5ECF6",
                        "gridcolor": "white",
                        "gridwidth": 2,
                        "linecolor": "white",
                        "showbackground": true,
                        "ticks": "",
                        "zerolinecolor": "white"
                      },
                      "yaxis": {
                        "backgroundcolor": "#E5ECF6",
                        "gridcolor": "white",
                        "gridwidth": 2,
                        "linecolor": "white",
                        "showbackground": true,
                        "ticks": "",
                        "zerolinecolor": "white"
                      },
                      "zaxis": {
                        "backgroundcolor": "#E5ECF6",
                        "gridcolor": "white",
                        "gridwidth": 2,
                        "linecolor": "white",
                        "showbackground": true,
                        "ticks": "",
                        "zerolinecolor": "white"
                      }
                    },
                    "shapedefaults": {
                      "line": {
                        "color": "#2a3f5f"
                      }
                    },
                    "ternary": {
                      "aaxis": {
                        "gridcolor": "white",
                        "linecolor": "white",
                        "ticks": ""
                      },
                      "baxis": {
                        "gridcolor": "white",
                        "linecolor": "white",
                        "ticks": ""
                      },
                      "bgcolor": "#E5ECF6",
                      "caxis": {
                        "gridcolor": "white",
                        "linecolor": "white",
                        "ticks": ""
                      }
                    },
                    "title": {
                      "x": 0.05
                    },
                    "xaxis": {
                      "automargin": true,
                      "gridcolor": "white",
                      "linecolor": "white",
                      "ticks": "",
                      "title": {
                        "standoff": 15
                      },
                      "zerolinecolor": "white",
                      "zerolinewidth": 2
                    },
                    "yaxis": {
                      "automargin": true,
                      "gridcolor": "white",
                      "linecolor": "white",
                      "ticks": "",
                      "title": {
                        "standoff": 15
                      },
                      "zerolinecolor": "white",
                      "zerolinewidth": 2
                    }
                  }
                },
                "title": {
                  "text": "Model 1"
                },
                "width": 600,
                "xaxis": {
                  "anchor": "y",
                  "domain": [
                    0,
                    1
                  ]
                },
                "xaxis2": {
                  "anchor": "y2",
                  "domain": [
                    0,
                    1
                  ]
                },
                "xaxis3": {
                  "anchor": "y3",
                  "domain": [
                    0,
                    1
                  ]
                },
                "yaxis": {
                  "anchor": "x",
                  "domain": [
                    0.7333333333333333,
                    1
                  ]
                },
                "yaxis2": {
                  "anchor": "x2",
                  "domain": [
                    0.36666666666666664,
                    0.6333333333333333
                  ]
                },
                "yaxis3": {
                  "anchor": "x3",
                  "domain": [
                    0,
                    0.26666666666666666
                  ]
                }
              }
            }
          },
          "metadata": {},
          "output_type": "display_data"
        }
      ],
      "source": [
        "plot_metrics(model_1_loss_and_acc, \"Model 1\")"
      ]
    },
    {
      "cell_type": "code",
      "execution_count": 267,
      "metadata": {},
      "outputs": [
        {
          "data": {
            "application/vnd.plotly.v1+json": {
              "config": {
                "plotlyServerURL": "https://plot.ly"
              },
              "data": [
                {
                  "mode": "lines",
                  "name": "train loss",
                  "type": "scatter",
                  "xaxis": "x",
                  "y": [
                    0.020737933950138353,
                    0.020507066223861736,
                    0.020402198493967915,
                    0.020345537392904713,
                    0.0203119544794514,
                    0.020288247958191084,
                    0.020281184921472534,
                    0.020282841394642717,
                    0.02024836553215006,
                    0.020231165109603218,
                    0.02020540809111634,
                    0.020174660848336908,
                    0.02012717127799988,
                    0.02017204850830889,
                    0.02014554834820594,
                    0.020125045519758637,
                    0.020131363612104828,
                    0.020114712786609534,
                    0.02013468669285891,
                    0.02009072691933011,
                    0.02007215695420143,
                    0.02005483927129075,
                    0.020060325432213515,
                    0.020082977519697974,
                    0.020127759918529917,
                    0.02003754508917598,
                    0.020078642686641182,
                    0.020017839420069142,
                    0.02000446847414126,
                    0.01999795355653893,
                    0.01996938745397313,
                    0.019948662236860728,
                    0.01996900168036895,
                    0.019959642581783784,
                    0.019955724948758326,
                    0.01993892131124595,
                    0.019965626384646756,
                    0.019936817023669666,
                    0.01998964533494019,
                    0.019892198188428332,
                    0.019841042380241997,
                    0.019968017375436724,
                    0.019860318262505595,
                    0.019896632205562956,
                    0.01986514031075002,
                    0.019862844947248454,
                    0.019934160378063732,
                    0.019837630899465702,
                    0.019831588888688047,
                    0.01987937747295286
                  ],
                  "yaxis": "y"
                },
                {
                  "mode": "lines",
                  "name": "Validation loss",
                  "type": "scatter",
                  "xaxis": "x",
                  "y": [
                    0.02049400474701025,
                    0.02044320295847659,
                    0.020548221646906308,
                    0.02048904286860814,
                    0.020484784961201184,
                    0.02037549738356846,
                    0.020481941660598697,
                    0.020445464451097926,
                    0.020403505734900507,
                    0.020425974792567716,
                    0.020441391189337684,
                    0.020471164428899975,
                    0.02044408233526247,
                    0.020429012508828576,
                    0.020384337577916765,
                    0.020383565519786092,
                    0.02048655121268887,
                    0.020327116058621048,
                    0.020411522521754533,
                    0.02041313979949854,
                    0.020330567069096063,
                    0.020487349021237868,
                    0.020419522116417503,
                    0.02031115557065913,
                    0.020427325932164658,
                    0.020386155481714154,
                    0.020323728136670938,
                    0.020307327240819094,
                    0.02039711440533513,
                    0.020177226660363708,
                    0.020280452665258696,
                    0.020293391265893378,
                    0.0202762122529889,
                    0.0203147959981819,
                    0.020277572783914878,
                    0.020382840948456275,
                    0.02019210684254027,
                    0.020110834583999846,
                    0.02030485270135436,
                    0.02017521737036893,
                    0.020243515432108162,
                    0.020340117823517155,
                    0.02025627514307199,
                    0.020138801431716473,
                    0.020212182095877853,
                    0.020143919781778184,
                    0.02015001392122145,
                    0.02009241992969828,
                    0.02009181418897539,
                    0.02020270026169405
                  ],
                  "yaxis": "y"
                },
                {
                  "mode": "lines",
                  "name": "train accuracy",
                  "type": "scatter",
                  "xaxis": "x2",
                  "y": [
                    54.65940054495913,
                    55.80381471389646,
                    56.26702997275205,
                    56.566757493188014,
                    56.920980926430516,
                    58.41961852861035,
                    57.54768392370572,
                    58.58310626702997,
                    58.147138964577664,
                    58.746594005449595,
                    58.474114441416894,
                    58.91008174386921,
                    60.217983651226156,
                    58.61035422343325,
                    59.42779291553133,
                    59.91825613079019,
                    59.59128065395095,
                    59.72752043596731,
                    59.59128065395095,
                    61.00817438692098,
                    59.700272479564035,
                    61.33514986376022,
                    60.217983651226156,
                    60.217983651226156,
                    59.972752043596735,
                    60.65395095367847,
                    59.836512261580374,
                    61.03542234332425,
                    61.198910081743875,
                    60.844686648501366,
                    61.30790190735694,
                    62.01634877384197,
                    60.76294277929155,
                    61.60762942779292,
                    61.33514986376022,
                    61.36239782016348,
                    61.525885558583106,
                    61.71662125340599,
                    61.11716621253406,
                    61.47138964577656,
                    62.752043596730246,
                    61.22615803814714,
                    62.17983651226157,
                    62.125340599455036,
                    62.26158038147139,
                    62.23433242506812,
                    62.316076294277934,
                    62.643051771117165,
                    62.58855585831063,
                    61.93460490463215
                  ],
                  "yaxis": "y2"
                },
                {
                  "mode": "lines",
                  "name": "Validation accuracy",
                  "type": "scatter",
                  "xaxis": "x2",
                  "y": [
                    54.256670902160096,
                    55.14612452350699,
                    51.588310038119445,
                    53.62134688691233,
                    59.84752223634053,
                    56.416772554002534,
                    57.560355781448536,
                    58.57687420584497,
                    55.65438373570522,
                    56.5438373570521,
                    53.87547649301143,
                    54.637865311308765,
                    59.339263024142305,
                    54.510800508259216,
                    56.797966963151204,
                    58.32274459974587,
                    53.748411689961884,
                    59.84752223634053,
                    59.339263024142305,
                    55.01905972045743,
                    57.941550190597205,
                    54.129606099110546,
                    55.4002541296061,
                    56.797966963151204,
                    58.95806861499364,
                    57.941550190597205,
                    57.68742058449809,
                    57.941550190597205,
                    56.670902160101654,
                    58.19567979669632,
                    57.560355781448536,
                    58.57687420584497,
                    57.30622617534943,
                    56.5438373570521,
                    57.941550190597205,
                    55.27318932655655,
                    58.06861499364676,
                    58.32274459974587,
                    57.433290978398986,
                    58.449809402795424,
                    57.814485387547656,
                    55.781448538754766,
                    58.57687420584497,
                    58.83100381194409,
                    59.593392630241425,
                    61.753494282083864,
                    61.11817026683609,
                    59.84752223634053,
                    58.19567979669632,
                    56.5438373570521
                  ],
                  "yaxis": "y2"
                },
                {
                  "mode": "lines",
                  "name": "f1 score",
                  "type": "scatter",
                  "xaxis": "x3",
                  "y": [
                    0.5411970462495141,
                    0.5514351730006313,
                    0.5072787415393565,
                    0.5347592370346257,
                    0.5855464896141642,
                    0.5626736524569341,
                    0.569593266963584,
                    0.5811095872518286,
                    0.5562572600566426,
                    0.5644757281553399,
                    0.5375601559806336,
                    0.5462731640356898,
                    0.5863065904461529,
                    0.5442065279287673,
                    0.5677277191894128,
                    0.5775796611944597,
                    0.5359669811320755,
                    0.5897146552634358,
                    0.5894627021387584,
                    0.5491941747572815,
                    0.5779736996012981,
                    0.5405364319271604,
                    0.553956451183181,
                    0.5661577773165922,
                    0.5859196961033926,
                    0.5756638371833527,
                    0.5751593936475978,
                    0.5779736996012981,
                    0.5665718627911747,
                    0.5818244658601069,
                    0.5748560522740506,
                    0.5838815362657324,
                    0.5730560578661844,
                    0.5654320588995092,
                    0.5794127856756517,
                    0.5522801029181696,
                    0.5806800568328597,
                    0.5829843879239041,
                    0.5736279908465339,
                    0.5833113397721845,
                    0.5781441727696619,
                    0.5568349514563107,
                    0.5821737997524591,
                    0.5854824236276384,
                    0.5918209574509727,
                    0.6042867666834271,
                    0.597125936830835,
                    0.594594418362024,
                    0.581824465860107,
                    0.5638829476958973
                  ],
                  "yaxis": "y3"
                }
              ],
              "layout": {
                "height": 600,
                "template": {
                  "data": {
                    "bar": [
                      {
                        "error_x": {
                          "color": "#2a3f5f"
                        },
                        "error_y": {
                          "color": "#2a3f5f"
                        },
                        "marker": {
                          "line": {
                            "color": "#E5ECF6",
                            "width": 0.5
                          },
                          "pattern": {
                            "fillmode": "overlay",
                            "size": 10,
                            "solidity": 0.2
                          }
                        },
                        "type": "bar"
                      }
                    ],
                    "barpolar": [
                      {
                        "marker": {
                          "line": {
                            "color": "#E5ECF6",
                            "width": 0.5
                          },
                          "pattern": {
                            "fillmode": "overlay",
                            "size": 10,
                            "solidity": 0.2
                          }
                        },
                        "type": "barpolar"
                      }
                    ],
                    "carpet": [
                      {
                        "aaxis": {
                          "endlinecolor": "#2a3f5f",
                          "gridcolor": "white",
                          "linecolor": "white",
                          "minorgridcolor": "white",
                          "startlinecolor": "#2a3f5f"
                        },
                        "baxis": {
                          "endlinecolor": "#2a3f5f",
                          "gridcolor": "white",
                          "linecolor": "white",
                          "minorgridcolor": "white",
                          "startlinecolor": "#2a3f5f"
                        },
                        "type": "carpet"
                      }
                    ],
                    "choropleth": [
                      {
                        "colorbar": {
                          "outlinewidth": 0,
                          "ticks": ""
                        },
                        "type": "choropleth"
                      }
                    ],
                    "contour": [
                      {
                        "colorbar": {
                          "outlinewidth": 0,
                          "ticks": ""
                        },
                        "colorscale": [
                          [
                            0,
                            "#0d0887"
                          ],
                          [
                            0.1111111111111111,
                            "#46039f"
                          ],
                          [
                            0.2222222222222222,
                            "#7201a8"
                          ],
                          [
                            0.3333333333333333,
                            "#9c179e"
                          ],
                          [
                            0.4444444444444444,
                            "#bd3786"
                          ],
                          [
                            0.5555555555555556,
                            "#d8576b"
                          ],
                          [
                            0.6666666666666666,
                            "#ed7953"
                          ],
                          [
                            0.7777777777777778,
                            "#fb9f3a"
                          ],
                          [
                            0.8888888888888888,
                            "#fdca26"
                          ],
                          [
                            1,
                            "#f0f921"
                          ]
                        ],
                        "type": "contour"
                      }
                    ],
                    "contourcarpet": [
                      {
                        "colorbar": {
                          "outlinewidth": 0,
                          "ticks": ""
                        },
                        "type": "contourcarpet"
                      }
                    ],
                    "heatmap": [
                      {
                        "colorbar": {
                          "outlinewidth": 0,
                          "ticks": ""
                        },
                        "colorscale": [
                          [
                            0,
                            "#0d0887"
                          ],
                          [
                            0.1111111111111111,
                            "#46039f"
                          ],
                          [
                            0.2222222222222222,
                            "#7201a8"
                          ],
                          [
                            0.3333333333333333,
                            "#9c179e"
                          ],
                          [
                            0.4444444444444444,
                            "#bd3786"
                          ],
                          [
                            0.5555555555555556,
                            "#d8576b"
                          ],
                          [
                            0.6666666666666666,
                            "#ed7953"
                          ],
                          [
                            0.7777777777777778,
                            "#fb9f3a"
                          ],
                          [
                            0.8888888888888888,
                            "#fdca26"
                          ],
                          [
                            1,
                            "#f0f921"
                          ]
                        ],
                        "type": "heatmap"
                      }
                    ],
                    "heatmapgl": [
                      {
                        "colorbar": {
                          "outlinewidth": 0,
                          "ticks": ""
                        },
                        "colorscale": [
                          [
                            0,
                            "#0d0887"
                          ],
                          [
                            0.1111111111111111,
                            "#46039f"
                          ],
                          [
                            0.2222222222222222,
                            "#7201a8"
                          ],
                          [
                            0.3333333333333333,
                            "#9c179e"
                          ],
                          [
                            0.4444444444444444,
                            "#bd3786"
                          ],
                          [
                            0.5555555555555556,
                            "#d8576b"
                          ],
                          [
                            0.6666666666666666,
                            "#ed7953"
                          ],
                          [
                            0.7777777777777778,
                            "#fb9f3a"
                          ],
                          [
                            0.8888888888888888,
                            "#fdca26"
                          ],
                          [
                            1,
                            "#f0f921"
                          ]
                        ],
                        "type": "heatmapgl"
                      }
                    ],
                    "histogram": [
                      {
                        "marker": {
                          "pattern": {
                            "fillmode": "overlay",
                            "size": 10,
                            "solidity": 0.2
                          }
                        },
                        "type": "histogram"
                      }
                    ],
                    "histogram2d": [
                      {
                        "colorbar": {
                          "outlinewidth": 0,
                          "ticks": ""
                        },
                        "colorscale": [
                          [
                            0,
                            "#0d0887"
                          ],
                          [
                            0.1111111111111111,
                            "#46039f"
                          ],
                          [
                            0.2222222222222222,
                            "#7201a8"
                          ],
                          [
                            0.3333333333333333,
                            "#9c179e"
                          ],
                          [
                            0.4444444444444444,
                            "#bd3786"
                          ],
                          [
                            0.5555555555555556,
                            "#d8576b"
                          ],
                          [
                            0.6666666666666666,
                            "#ed7953"
                          ],
                          [
                            0.7777777777777778,
                            "#fb9f3a"
                          ],
                          [
                            0.8888888888888888,
                            "#fdca26"
                          ],
                          [
                            1,
                            "#f0f921"
                          ]
                        ],
                        "type": "histogram2d"
                      }
                    ],
                    "histogram2dcontour": [
                      {
                        "colorbar": {
                          "outlinewidth": 0,
                          "ticks": ""
                        },
                        "colorscale": [
                          [
                            0,
                            "#0d0887"
                          ],
                          [
                            0.1111111111111111,
                            "#46039f"
                          ],
                          [
                            0.2222222222222222,
                            "#7201a8"
                          ],
                          [
                            0.3333333333333333,
                            "#9c179e"
                          ],
                          [
                            0.4444444444444444,
                            "#bd3786"
                          ],
                          [
                            0.5555555555555556,
                            "#d8576b"
                          ],
                          [
                            0.6666666666666666,
                            "#ed7953"
                          ],
                          [
                            0.7777777777777778,
                            "#fb9f3a"
                          ],
                          [
                            0.8888888888888888,
                            "#fdca26"
                          ],
                          [
                            1,
                            "#f0f921"
                          ]
                        ],
                        "type": "histogram2dcontour"
                      }
                    ],
                    "mesh3d": [
                      {
                        "colorbar": {
                          "outlinewidth": 0,
                          "ticks": ""
                        },
                        "type": "mesh3d"
                      }
                    ],
                    "parcoords": [
                      {
                        "line": {
                          "colorbar": {
                            "outlinewidth": 0,
                            "ticks": ""
                          }
                        },
                        "type": "parcoords"
                      }
                    ],
                    "pie": [
                      {
                        "automargin": true,
                        "type": "pie"
                      }
                    ],
                    "scatter": [
                      {
                        "fillpattern": {
                          "fillmode": "overlay",
                          "size": 10,
                          "solidity": 0.2
                        },
                        "type": "scatter"
                      }
                    ],
                    "scatter3d": [
                      {
                        "line": {
                          "colorbar": {
                            "outlinewidth": 0,
                            "ticks": ""
                          }
                        },
                        "marker": {
                          "colorbar": {
                            "outlinewidth": 0,
                            "ticks": ""
                          }
                        },
                        "type": "scatter3d"
                      }
                    ],
                    "scattercarpet": [
                      {
                        "marker": {
                          "colorbar": {
                            "outlinewidth": 0,
                            "ticks": ""
                          }
                        },
                        "type": "scattercarpet"
                      }
                    ],
                    "scattergeo": [
                      {
                        "marker": {
                          "colorbar": {
                            "outlinewidth": 0,
                            "ticks": ""
                          }
                        },
                        "type": "scattergeo"
                      }
                    ],
                    "scattergl": [
                      {
                        "marker": {
                          "colorbar": {
                            "outlinewidth": 0,
                            "ticks": ""
                          }
                        },
                        "type": "scattergl"
                      }
                    ],
                    "scattermapbox": [
                      {
                        "marker": {
                          "colorbar": {
                            "outlinewidth": 0,
                            "ticks": ""
                          }
                        },
                        "type": "scattermapbox"
                      }
                    ],
                    "scatterpolar": [
                      {
                        "marker": {
                          "colorbar": {
                            "outlinewidth": 0,
                            "ticks": ""
                          }
                        },
                        "type": "scatterpolar"
                      }
                    ],
                    "scatterpolargl": [
                      {
                        "marker": {
                          "colorbar": {
                            "outlinewidth": 0,
                            "ticks": ""
                          }
                        },
                        "type": "scatterpolargl"
                      }
                    ],
                    "scatterternary": [
                      {
                        "marker": {
                          "colorbar": {
                            "outlinewidth": 0,
                            "ticks": ""
                          }
                        },
                        "type": "scatterternary"
                      }
                    ],
                    "surface": [
                      {
                        "colorbar": {
                          "outlinewidth": 0,
                          "ticks": ""
                        },
                        "colorscale": [
                          [
                            0,
                            "#0d0887"
                          ],
                          [
                            0.1111111111111111,
                            "#46039f"
                          ],
                          [
                            0.2222222222222222,
                            "#7201a8"
                          ],
                          [
                            0.3333333333333333,
                            "#9c179e"
                          ],
                          [
                            0.4444444444444444,
                            "#bd3786"
                          ],
                          [
                            0.5555555555555556,
                            "#d8576b"
                          ],
                          [
                            0.6666666666666666,
                            "#ed7953"
                          ],
                          [
                            0.7777777777777778,
                            "#fb9f3a"
                          ],
                          [
                            0.8888888888888888,
                            "#fdca26"
                          ],
                          [
                            1,
                            "#f0f921"
                          ]
                        ],
                        "type": "surface"
                      }
                    ],
                    "table": [
                      {
                        "cells": {
                          "fill": {
                            "color": "#EBF0F8"
                          },
                          "line": {
                            "color": "white"
                          }
                        },
                        "header": {
                          "fill": {
                            "color": "#C8D4E3"
                          },
                          "line": {
                            "color": "white"
                          }
                        },
                        "type": "table"
                      }
                    ]
                  },
                  "layout": {
                    "annotationdefaults": {
                      "arrowcolor": "#2a3f5f",
                      "arrowhead": 0,
                      "arrowwidth": 1
                    },
                    "autotypenumbers": "strict",
                    "coloraxis": {
                      "colorbar": {
                        "outlinewidth": 0,
                        "ticks": ""
                      }
                    },
                    "colorscale": {
                      "diverging": [
                        [
                          0,
                          "#8e0152"
                        ],
                        [
                          0.1,
                          "#c51b7d"
                        ],
                        [
                          0.2,
                          "#de77ae"
                        ],
                        [
                          0.3,
                          "#f1b6da"
                        ],
                        [
                          0.4,
                          "#fde0ef"
                        ],
                        [
                          0.5,
                          "#f7f7f7"
                        ],
                        [
                          0.6,
                          "#e6f5d0"
                        ],
                        [
                          0.7,
                          "#b8e186"
                        ],
                        [
                          0.8,
                          "#7fbc41"
                        ],
                        [
                          0.9,
                          "#4d9221"
                        ],
                        [
                          1,
                          "#276419"
                        ]
                      ],
                      "sequential": [
                        [
                          0,
                          "#0d0887"
                        ],
                        [
                          0.1111111111111111,
                          "#46039f"
                        ],
                        [
                          0.2222222222222222,
                          "#7201a8"
                        ],
                        [
                          0.3333333333333333,
                          "#9c179e"
                        ],
                        [
                          0.4444444444444444,
                          "#bd3786"
                        ],
                        [
                          0.5555555555555556,
                          "#d8576b"
                        ],
                        [
                          0.6666666666666666,
                          "#ed7953"
                        ],
                        [
                          0.7777777777777778,
                          "#fb9f3a"
                        ],
                        [
                          0.8888888888888888,
                          "#fdca26"
                        ],
                        [
                          1,
                          "#f0f921"
                        ]
                      ],
                      "sequentialminus": [
                        [
                          0,
                          "#0d0887"
                        ],
                        [
                          0.1111111111111111,
                          "#46039f"
                        ],
                        [
                          0.2222222222222222,
                          "#7201a8"
                        ],
                        [
                          0.3333333333333333,
                          "#9c179e"
                        ],
                        [
                          0.4444444444444444,
                          "#bd3786"
                        ],
                        [
                          0.5555555555555556,
                          "#d8576b"
                        ],
                        [
                          0.6666666666666666,
                          "#ed7953"
                        ],
                        [
                          0.7777777777777778,
                          "#fb9f3a"
                        ],
                        [
                          0.8888888888888888,
                          "#fdca26"
                        ],
                        [
                          1,
                          "#f0f921"
                        ]
                      ]
                    },
                    "colorway": [
                      "#636efa",
                      "#EF553B",
                      "#00cc96",
                      "#ab63fa",
                      "#FFA15A",
                      "#19d3f3",
                      "#FF6692",
                      "#B6E880",
                      "#FF97FF",
                      "#FECB52"
                    ],
                    "font": {
                      "color": "#2a3f5f"
                    },
                    "geo": {
                      "bgcolor": "white",
                      "lakecolor": "white",
                      "landcolor": "#E5ECF6",
                      "showlakes": true,
                      "showland": true,
                      "subunitcolor": "white"
                    },
                    "hoverlabel": {
                      "align": "left"
                    },
                    "hovermode": "closest",
                    "mapbox": {
                      "style": "light"
                    },
                    "paper_bgcolor": "white",
                    "plot_bgcolor": "#E5ECF6",
                    "polar": {
                      "angularaxis": {
                        "gridcolor": "white",
                        "linecolor": "white",
                        "ticks": ""
                      },
                      "bgcolor": "#E5ECF6",
                      "radialaxis": {
                        "gridcolor": "white",
                        "linecolor": "white",
                        "ticks": ""
                      }
                    },
                    "scene": {
                      "xaxis": {
                        "backgroundcolor": "#E5ECF6",
                        "gridcolor": "white",
                        "gridwidth": 2,
                        "linecolor": "white",
                        "showbackground": true,
                        "ticks": "",
                        "zerolinecolor": "white"
                      },
                      "yaxis": {
                        "backgroundcolor": "#E5ECF6",
                        "gridcolor": "white",
                        "gridwidth": 2,
                        "linecolor": "white",
                        "showbackground": true,
                        "ticks": "",
                        "zerolinecolor": "white"
                      },
                      "zaxis": {
                        "backgroundcolor": "#E5ECF6",
                        "gridcolor": "white",
                        "gridwidth": 2,
                        "linecolor": "white",
                        "showbackground": true,
                        "ticks": "",
                        "zerolinecolor": "white"
                      }
                    },
                    "shapedefaults": {
                      "line": {
                        "color": "#2a3f5f"
                      }
                    },
                    "ternary": {
                      "aaxis": {
                        "gridcolor": "white",
                        "linecolor": "white",
                        "ticks": ""
                      },
                      "baxis": {
                        "gridcolor": "white",
                        "linecolor": "white",
                        "ticks": ""
                      },
                      "bgcolor": "#E5ECF6",
                      "caxis": {
                        "gridcolor": "white",
                        "linecolor": "white",
                        "ticks": ""
                      }
                    },
                    "title": {
                      "x": 0.05
                    },
                    "xaxis": {
                      "automargin": true,
                      "gridcolor": "white",
                      "linecolor": "white",
                      "ticks": "",
                      "title": {
                        "standoff": 15
                      },
                      "zerolinecolor": "white",
                      "zerolinewidth": 2
                    },
                    "yaxis": {
                      "automargin": true,
                      "gridcolor": "white",
                      "linecolor": "white",
                      "ticks": "",
                      "title": {
                        "standoff": 15
                      },
                      "zerolinecolor": "white",
                      "zerolinewidth": 2
                    }
                  }
                },
                "title": {
                  "text": "Model 2"
                },
                "width": 600,
                "xaxis": {
                  "anchor": "y",
                  "domain": [
                    0,
                    1
                  ]
                },
                "xaxis2": {
                  "anchor": "y2",
                  "domain": [
                    0,
                    1
                  ]
                },
                "xaxis3": {
                  "anchor": "y3",
                  "domain": [
                    0,
                    1
                  ]
                },
                "yaxis": {
                  "anchor": "x",
                  "domain": [
                    0.7333333333333333,
                    1
                  ]
                },
                "yaxis2": {
                  "anchor": "x2",
                  "domain": [
                    0.36666666666666664,
                    0.6333333333333333
                  ]
                },
                "yaxis3": {
                  "anchor": "x3",
                  "domain": [
                    0,
                    0.26666666666666666
                  ]
                }
              }
            }
          },
          "metadata": {},
          "output_type": "display_data"
        }
      ],
      "source": [
        "plot_metrics(model_2_loss_and_acc, \"Model 2\")"
      ]
    },
    {
      "cell_type": "code",
      "execution_count": 268,
      "metadata": {},
      "outputs": [
        {
          "data": {
            "application/vnd.plotly.v1+json": {
              "config": {
                "plotlyServerURL": "https://plot.ly"
              },
              "data": [
                {
                  "mode": "lines",
                  "name": "train loss",
                  "type": "scatter",
                  "xaxis": "x",
                  "y": [
                    0.020611127683187375,
                    0.020399499735325493,
                    0.020381525280689997,
                    0.02035463475076639,
                    0.02029144772067057,
                    0.020278556811387273,
                    0.020268327631157816,
                    0.020230910726074303,
                    0.02023965693624533,
                    0.020215722212024865,
                    0.020226487038245967,
                    0.02021796839763423,
                    0.020195312071236343,
                    0.02019608954642709,
                    0.02021731528014513,
                    0.02017269826390113,
                    0.020137521356587838,
                    0.020148786049772674,
                    0.02008119009496081,
                    0.02012588515755916,
                    0.020099561480800204,
                    0.02008909924153736,
                    0.020056892464531215,
                    0.020007333313736667,
                    0.0200720061723153,
                    0.020050147378801973,
                    0.020068194512125583,
                    0.019998919297953718,
                    0.02000476925834323,
                    0.020003084363339706,
                    0.019997721894235636,
                    0.02000230141491591,
                    0.019983943963895377,
                    0.019970785629521922,
                    0.019944448334644534,
                    0.019993881893417817,
                    0.019992296020081648,
                    0.019913100757780775,
                    0.019898042740548988,
                    0.01996510839267388,
                    0.01993924679808136,
                    0.019901434894478612,
                    0.019916663767531394,
                    0.019851935137195225,
                    0.0198453858454156,
                    0.019855159098835666,
                    0.01986583604474808,
                    0.019922031985966322,
                    0.019817716500414813,
                    0.019751824621283717
                  ],
                  "yaxis": "y"
                },
                {
                  "mode": "lines",
                  "name": "Validation loss",
                  "type": "scatter",
                  "xaxis": "x",
                  "y": [
                    0.020674038796745987,
                    0.020484895687999993,
                    0.020544224727562756,
                    0.0205523995765434,
                    0.020540024682860515,
                    0.020552084285391937,
                    0.02046273290883783,
                    0.02059368393472674,
                    0.020588495452643348,
                    0.0205763018722001,
                    0.02050098068680818,
                    0.020591108589947907,
                    0.02047983679111001,
                    0.020493011841174153,
                    0.020459792892693566,
                    0.02056723121160776,
                    0.020535654382451213,
                    0.02033549282117599,
                    0.020502332053614694,
                    0.020628351268501717,
                    0.020380822039922888,
                    0.02038488825818635,
                    0.020410981384287038,
                    0.020381068032154438,
                    0.020359840144650605,
                    0.02052318883214851,
                    0.02033094181341925,
                    0.020338613393194642,
                    0.02065957024258004,
                    0.02044267439327216,
                    0.020460810564373166,
                    0.02032361332009981,
                    0.020490136504021806,
                    0.02036326033036015,
                    0.0207034063914831,
                    0.02025762052669307,
                    0.02031148972020519,
                    0.02028929566185841,
                    0.020311341276617184,
                    0.020283238633312144,
                    0.02020517828503891,
                    0.02027843413540793,
                    0.020258764829841625,
                    0.020215101284477885,
                    0.02017341915806791,
                    0.020153838085552638,
                    0.020478645834262368,
                    0.02018871301314125,
                    0.020104242476908042,
                    0.020217645728754726
                  ],
                  "yaxis": "y"
                },
                {
                  "mode": "lines",
                  "name": "train accuracy",
                  "type": "scatter",
                  "xaxis": "x2",
                  "y": [
                    53.73297002724796,
                    56.45776566757493,
                    56.37602179836513,
                    58.06539509536785,
                    57.275204359673026,
                    57.275204359673026,
                    57.35694822888283,
                    58.09264305177112,
                    58.06539509536785,
                    58.746594005449595,
                    56.920980926430516,
                    57.73841961852861,
                    58.0108991825613,
                    58.8283378746594,
                    57.46594005449591,
                    58.0108991825613,
                    58.63760217983651,
                    58.33787465940055,
                    59.80926430517711,
                    58.80108991825613,
                    59.04632152588556,
                    60.02724795640327,
                    59.59128065395095,
                    60.05449591280654,
                    60.79019073569483,
                    59.945504087193456,
                    60.10899182561308,
                    60.08174386920982,
                    61.25340599455041,
                    60.817438692098094,
                    60.735694822888284,
                    60.2724795640327,
                    60.38147138964578,
                    60.817438692098094,
                    60.817438692098094,
                    60.926430517711175,
                    60.136239782016354,
                    61.36239782016348,
                    60.95367847411444,
                    60.38147138964578,
                    61.089918256130794,
                    61.36239782016348,
                    60.79019073569483,
                    62.17983651226157,
                    62.39782016348774,
                    61.88010899182561,
                    61.47138964577656,
                    61.30790190735694,
                    62.152588555858316,
                    62.86103542234333
                  ],
                  "yaxis": "y2"
                },
                {
                  "mode": "lines",
                  "name": "Validation accuracy",
                  "type": "scatter",
                  "xaxis": "x2",
                  "y": [
                    58.83100381194409,
                    56.16264294790343,
                    57.68742058449809,
                    55.4002541296061,
                    53.24015247776366,
                    55.90851334180432,
                    54.637865311308765,
                    56.92503176620076,
                    53.494282083862764,
                    51.334180432020325,
                    56.797966963151204,
                    52.60482846251588,
                    56.797966963151204,
                    59.593392630241425,
                    52.60482846251588,
                    58.95806861499364,
                    54.256670902160096,
                    56.670902160101654,
                    54.00254129606099,
                    53.494282083862764,
                    56.797966963151204,
                    59.21219822109276,
                    57.179161372299866,
                    59.974587039390094,
                    57.30622617534943,
                    53.87547649301143,
                    57.30622617534943,
                    58.57687420584497,
                    52.22363405336722,
                    55.14612452350699,
                    57.179161372299866,
                    59.21219822109276,
                    56.289707750952985,
                    57.052096569250324,
                    59.720457433290974,
                    57.68742058449809,
                    56.797966963151204,
                    57.68742058449809,
                    56.92503176620076,
                    57.433290978398986,
                    57.30622617534943,
                    56.5438373570521,
                    60.35578144853876,
                    56.797966963151204,
                    56.797966963151204,
                    59.0851334180432,
                    60.2287166454892,
                    56.5438373570521,
                    60.482846251588306,
                    59.974587039390094
                  ],
                  "yaxis": "y2"
                },
                {
                  "mode": "lines",
                  "name": "f1 score",
                  "type": "scatter",
                  "xaxis": "x3",
                  "y": [
                    0.5408599827139153,
                    0.5588887535031071,
                    0.5634514637904469,
                    0.5533535229736657,
                    0.5295753417537294,
                    0.5569994792790367,
                    0.5462350586992649,
                    0.5656145949510326,
                    0.5343948015000647,
                    0.5085139861565178,
                    0.5650124198561638,
                    0.5244235345960246,
                    0.5666860992356523,
                    0.5821378481266279,
                    0.5230884204540839,
                    0.5801418791137098,
                    0.542477327338966,
                    0.5652236603143281,
                    0.5385166131038772,
                    0.5349240486708517,
                    0.5670226537216828,
                    0.5824133137400429,
                    0.5705685672881535,
                    0.5846576049350862,
                    0.5677803203661327,
                    0.5378922798452961,
                    0.5725591620328463,
                    0.5837357060342925,
                    0.5187483736664065,
                    0.5500548237622542,
                    0.5694531700229706,
                    0.5882824608494556,
                    0.5609056701699753,
                    0.5701538362096826,
                    0.5681909051099692,
                    0.5763379325395863,
                    0.5675432812277776,
                    0.576805879189819,
                    0.5668979959578251,
                    0.5737134763423875,
                    0.5730615724415856,
                    0.5653197674418604,
                    0.5955113928387871,
                    0.5673083142520795,
                    0.5673083142520795,
                    0.5900405083605116,
                    0.5813495401882756,
                    0.5649994181761762,
                    0.5995919963224048,
                    0.5963675439810481
                  ],
                  "yaxis": "y3"
                }
              ],
              "layout": {
                "height": 600,
                "template": {
                  "data": {
                    "bar": [
                      {
                        "error_x": {
                          "color": "#2a3f5f"
                        },
                        "error_y": {
                          "color": "#2a3f5f"
                        },
                        "marker": {
                          "line": {
                            "color": "#E5ECF6",
                            "width": 0.5
                          },
                          "pattern": {
                            "fillmode": "overlay",
                            "size": 10,
                            "solidity": 0.2
                          }
                        },
                        "type": "bar"
                      }
                    ],
                    "barpolar": [
                      {
                        "marker": {
                          "line": {
                            "color": "#E5ECF6",
                            "width": 0.5
                          },
                          "pattern": {
                            "fillmode": "overlay",
                            "size": 10,
                            "solidity": 0.2
                          }
                        },
                        "type": "barpolar"
                      }
                    ],
                    "carpet": [
                      {
                        "aaxis": {
                          "endlinecolor": "#2a3f5f",
                          "gridcolor": "white",
                          "linecolor": "white",
                          "minorgridcolor": "white",
                          "startlinecolor": "#2a3f5f"
                        },
                        "baxis": {
                          "endlinecolor": "#2a3f5f",
                          "gridcolor": "white",
                          "linecolor": "white",
                          "minorgridcolor": "white",
                          "startlinecolor": "#2a3f5f"
                        },
                        "type": "carpet"
                      }
                    ],
                    "choropleth": [
                      {
                        "colorbar": {
                          "outlinewidth": 0,
                          "ticks": ""
                        },
                        "type": "choropleth"
                      }
                    ],
                    "contour": [
                      {
                        "colorbar": {
                          "outlinewidth": 0,
                          "ticks": ""
                        },
                        "colorscale": [
                          [
                            0,
                            "#0d0887"
                          ],
                          [
                            0.1111111111111111,
                            "#46039f"
                          ],
                          [
                            0.2222222222222222,
                            "#7201a8"
                          ],
                          [
                            0.3333333333333333,
                            "#9c179e"
                          ],
                          [
                            0.4444444444444444,
                            "#bd3786"
                          ],
                          [
                            0.5555555555555556,
                            "#d8576b"
                          ],
                          [
                            0.6666666666666666,
                            "#ed7953"
                          ],
                          [
                            0.7777777777777778,
                            "#fb9f3a"
                          ],
                          [
                            0.8888888888888888,
                            "#fdca26"
                          ],
                          [
                            1,
                            "#f0f921"
                          ]
                        ],
                        "type": "contour"
                      }
                    ],
                    "contourcarpet": [
                      {
                        "colorbar": {
                          "outlinewidth": 0,
                          "ticks": ""
                        },
                        "type": "contourcarpet"
                      }
                    ],
                    "heatmap": [
                      {
                        "colorbar": {
                          "outlinewidth": 0,
                          "ticks": ""
                        },
                        "colorscale": [
                          [
                            0,
                            "#0d0887"
                          ],
                          [
                            0.1111111111111111,
                            "#46039f"
                          ],
                          [
                            0.2222222222222222,
                            "#7201a8"
                          ],
                          [
                            0.3333333333333333,
                            "#9c179e"
                          ],
                          [
                            0.4444444444444444,
                            "#bd3786"
                          ],
                          [
                            0.5555555555555556,
                            "#d8576b"
                          ],
                          [
                            0.6666666666666666,
                            "#ed7953"
                          ],
                          [
                            0.7777777777777778,
                            "#fb9f3a"
                          ],
                          [
                            0.8888888888888888,
                            "#fdca26"
                          ],
                          [
                            1,
                            "#f0f921"
                          ]
                        ],
                        "type": "heatmap"
                      }
                    ],
                    "heatmapgl": [
                      {
                        "colorbar": {
                          "outlinewidth": 0,
                          "ticks": ""
                        },
                        "colorscale": [
                          [
                            0,
                            "#0d0887"
                          ],
                          [
                            0.1111111111111111,
                            "#46039f"
                          ],
                          [
                            0.2222222222222222,
                            "#7201a8"
                          ],
                          [
                            0.3333333333333333,
                            "#9c179e"
                          ],
                          [
                            0.4444444444444444,
                            "#bd3786"
                          ],
                          [
                            0.5555555555555556,
                            "#d8576b"
                          ],
                          [
                            0.6666666666666666,
                            "#ed7953"
                          ],
                          [
                            0.7777777777777778,
                            "#fb9f3a"
                          ],
                          [
                            0.8888888888888888,
                            "#fdca26"
                          ],
                          [
                            1,
                            "#f0f921"
                          ]
                        ],
                        "type": "heatmapgl"
                      }
                    ],
                    "histogram": [
                      {
                        "marker": {
                          "pattern": {
                            "fillmode": "overlay",
                            "size": 10,
                            "solidity": 0.2
                          }
                        },
                        "type": "histogram"
                      }
                    ],
                    "histogram2d": [
                      {
                        "colorbar": {
                          "outlinewidth": 0,
                          "ticks": ""
                        },
                        "colorscale": [
                          [
                            0,
                            "#0d0887"
                          ],
                          [
                            0.1111111111111111,
                            "#46039f"
                          ],
                          [
                            0.2222222222222222,
                            "#7201a8"
                          ],
                          [
                            0.3333333333333333,
                            "#9c179e"
                          ],
                          [
                            0.4444444444444444,
                            "#bd3786"
                          ],
                          [
                            0.5555555555555556,
                            "#d8576b"
                          ],
                          [
                            0.6666666666666666,
                            "#ed7953"
                          ],
                          [
                            0.7777777777777778,
                            "#fb9f3a"
                          ],
                          [
                            0.8888888888888888,
                            "#fdca26"
                          ],
                          [
                            1,
                            "#f0f921"
                          ]
                        ],
                        "type": "histogram2d"
                      }
                    ],
                    "histogram2dcontour": [
                      {
                        "colorbar": {
                          "outlinewidth": 0,
                          "ticks": ""
                        },
                        "colorscale": [
                          [
                            0,
                            "#0d0887"
                          ],
                          [
                            0.1111111111111111,
                            "#46039f"
                          ],
                          [
                            0.2222222222222222,
                            "#7201a8"
                          ],
                          [
                            0.3333333333333333,
                            "#9c179e"
                          ],
                          [
                            0.4444444444444444,
                            "#bd3786"
                          ],
                          [
                            0.5555555555555556,
                            "#d8576b"
                          ],
                          [
                            0.6666666666666666,
                            "#ed7953"
                          ],
                          [
                            0.7777777777777778,
                            "#fb9f3a"
                          ],
                          [
                            0.8888888888888888,
                            "#fdca26"
                          ],
                          [
                            1,
                            "#f0f921"
                          ]
                        ],
                        "type": "histogram2dcontour"
                      }
                    ],
                    "mesh3d": [
                      {
                        "colorbar": {
                          "outlinewidth": 0,
                          "ticks": ""
                        },
                        "type": "mesh3d"
                      }
                    ],
                    "parcoords": [
                      {
                        "line": {
                          "colorbar": {
                            "outlinewidth": 0,
                            "ticks": ""
                          }
                        },
                        "type": "parcoords"
                      }
                    ],
                    "pie": [
                      {
                        "automargin": true,
                        "type": "pie"
                      }
                    ],
                    "scatter": [
                      {
                        "fillpattern": {
                          "fillmode": "overlay",
                          "size": 10,
                          "solidity": 0.2
                        },
                        "type": "scatter"
                      }
                    ],
                    "scatter3d": [
                      {
                        "line": {
                          "colorbar": {
                            "outlinewidth": 0,
                            "ticks": ""
                          }
                        },
                        "marker": {
                          "colorbar": {
                            "outlinewidth": 0,
                            "ticks": ""
                          }
                        },
                        "type": "scatter3d"
                      }
                    ],
                    "scattercarpet": [
                      {
                        "marker": {
                          "colorbar": {
                            "outlinewidth": 0,
                            "ticks": ""
                          }
                        },
                        "type": "scattercarpet"
                      }
                    ],
                    "scattergeo": [
                      {
                        "marker": {
                          "colorbar": {
                            "outlinewidth": 0,
                            "ticks": ""
                          }
                        },
                        "type": "scattergeo"
                      }
                    ],
                    "scattergl": [
                      {
                        "marker": {
                          "colorbar": {
                            "outlinewidth": 0,
                            "ticks": ""
                          }
                        },
                        "type": "scattergl"
                      }
                    ],
                    "scattermapbox": [
                      {
                        "marker": {
                          "colorbar": {
                            "outlinewidth": 0,
                            "ticks": ""
                          }
                        },
                        "type": "scattermapbox"
                      }
                    ],
                    "scatterpolar": [
                      {
                        "marker": {
                          "colorbar": {
                            "outlinewidth": 0,
                            "ticks": ""
                          }
                        },
                        "type": "scatterpolar"
                      }
                    ],
                    "scatterpolargl": [
                      {
                        "marker": {
                          "colorbar": {
                            "outlinewidth": 0,
                            "ticks": ""
                          }
                        },
                        "type": "scatterpolargl"
                      }
                    ],
                    "scatterternary": [
                      {
                        "marker": {
                          "colorbar": {
                            "outlinewidth": 0,
                            "ticks": ""
                          }
                        },
                        "type": "scatterternary"
                      }
                    ],
                    "surface": [
                      {
                        "colorbar": {
                          "outlinewidth": 0,
                          "ticks": ""
                        },
                        "colorscale": [
                          [
                            0,
                            "#0d0887"
                          ],
                          [
                            0.1111111111111111,
                            "#46039f"
                          ],
                          [
                            0.2222222222222222,
                            "#7201a8"
                          ],
                          [
                            0.3333333333333333,
                            "#9c179e"
                          ],
                          [
                            0.4444444444444444,
                            "#bd3786"
                          ],
                          [
                            0.5555555555555556,
                            "#d8576b"
                          ],
                          [
                            0.6666666666666666,
                            "#ed7953"
                          ],
                          [
                            0.7777777777777778,
                            "#fb9f3a"
                          ],
                          [
                            0.8888888888888888,
                            "#fdca26"
                          ],
                          [
                            1,
                            "#f0f921"
                          ]
                        ],
                        "type": "surface"
                      }
                    ],
                    "table": [
                      {
                        "cells": {
                          "fill": {
                            "color": "#EBF0F8"
                          },
                          "line": {
                            "color": "white"
                          }
                        },
                        "header": {
                          "fill": {
                            "color": "#C8D4E3"
                          },
                          "line": {
                            "color": "white"
                          }
                        },
                        "type": "table"
                      }
                    ]
                  },
                  "layout": {
                    "annotationdefaults": {
                      "arrowcolor": "#2a3f5f",
                      "arrowhead": 0,
                      "arrowwidth": 1
                    },
                    "autotypenumbers": "strict",
                    "coloraxis": {
                      "colorbar": {
                        "outlinewidth": 0,
                        "ticks": ""
                      }
                    },
                    "colorscale": {
                      "diverging": [
                        [
                          0,
                          "#8e0152"
                        ],
                        [
                          0.1,
                          "#c51b7d"
                        ],
                        [
                          0.2,
                          "#de77ae"
                        ],
                        [
                          0.3,
                          "#f1b6da"
                        ],
                        [
                          0.4,
                          "#fde0ef"
                        ],
                        [
                          0.5,
                          "#f7f7f7"
                        ],
                        [
                          0.6,
                          "#e6f5d0"
                        ],
                        [
                          0.7,
                          "#b8e186"
                        ],
                        [
                          0.8,
                          "#7fbc41"
                        ],
                        [
                          0.9,
                          "#4d9221"
                        ],
                        [
                          1,
                          "#276419"
                        ]
                      ],
                      "sequential": [
                        [
                          0,
                          "#0d0887"
                        ],
                        [
                          0.1111111111111111,
                          "#46039f"
                        ],
                        [
                          0.2222222222222222,
                          "#7201a8"
                        ],
                        [
                          0.3333333333333333,
                          "#9c179e"
                        ],
                        [
                          0.4444444444444444,
                          "#bd3786"
                        ],
                        [
                          0.5555555555555556,
                          "#d8576b"
                        ],
                        [
                          0.6666666666666666,
                          "#ed7953"
                        ],
                        [
                          0.7777777777777778,
                          "#fb9f3a"
                        ],
                        [
                          0.8888888888888888,
                          "#fdca26"
                        ],
                        [
                          1,
                          "#f0f921"
                        ]
                      ],
                      "sequentialminus": [
                        [
                          0,
                          "#0d0887"
                        ],
                        [
                          0.1111111111111111,
                          "#46039f"
                        ],
                        [
                          0.2222222222222222,
                          "#7201a8"
                        ],
                        [
                          0.3333333333333333,
                          "#9c179e"
                        ],
                        [
                          0.4444444444444444,
                          "#bd3786"
                        ],
                        [
                          0.5555555555555556,
                          "#d8576b"
                        ],
                        [
                          0.6666666666666666,
                          "#ed7953"
                        ],
                        [
                          0.7777777777777778,
                          "#fb9f3a"
                        ],
                        [
                          0.8888888888888888,
                          "#fdca26"
                        ],
                        [
                          1,
                          "#f0f921"
                        ]
                      ]
                    },
                    "colorway": [
                      "#636efa",
                      "#EF553B",
                      "#00cc96",
                      "#ab63fa",
                      "#FFA15A",
                      "#19d3f3",
                      "#FF6692",
                      "#B6E880",
                      "#FF97FF",
                      "#FECB52"
                    ],
                    "font": {
                      "color": "#2a3f5f"
                    },
                    "geo": {
                      "bgcolor": "white",
                      "lakecolor": "white",
                      "landcolor": "#E5ECF6",
                      "showlakes": true,
                      "showland": true,
                      "subunitcolor": "white"
                    },
                    "hoverlabel": {
                      "align": "left"
                    },
                    "hovermode": "closest",
                    "mapbox": {
                      "style": "light"
                    },
                    "paper_bgcolor": "white",
                    "plot_bgcolor": "#E5ECF6",
                    "polar": {
                      "angularaxis": {
                        "gridcolor": "white",
                        "linecolor": "white",
                        "ticks": ""
                      },
                      "bgcolor": "#E5ECF6",
                      "radialaxis": {
                        "gridcolor": "white",
                        "linecolor": "white",
                        "ticks": ""
                      }
                    },
                    "scene": {
                      "xaxis": {
                        "backgroundcolor": "#E5ECF6",
                        "gridcolor": "white",
                        "gridwidth": 2,
                        "linecolor": "white",
                        "showbackground": true,
                        "ticks": "",
                        "zerolinecolor": "white"
                      },
                      "yaxis": {
                        "backgroundcolor": "#E5ECF6",
                        "gridcolor": "white",
                        "gridwidth": 2,
                        "linecolor": "white",
                        "showbackground": true,
                        "ticks": "",
                        "zerolinecolor": "white"
                      },
                      "zaxis": {
                        "backgroundcolor": "#E5ECF6",
                        "gridcolor": "white",
                        "gridwidth": 2,
                        "linecolor": "white",
                        "showbackground": true,
                        "ticks": "",
                        "zerolinecolor": "white"
                      }
                    },
                    "shapedefaults": {
                      "line": {
                        "color": "#2a3f5f"
                      }
                    },
                    "ternary": {
                      "aaxis": {
                        "gridcolor": "white",
                        "linecolor": "white",
                        "ticks": ""
                      },
                      "baxis": {
                        "gridcolor": "white",
                        "linecolor": "white",
                        "ticks": ""
                      },
                      "bgcolor": "#E5ECF6",
                      "caxis": {
                        "gridcolor": "white",
                        "linecolor": "white",
                        "ticks": ""
                      }
                    },
                    "title": {
                      "x": 0.05
                    },
                    "xaxis": {
                      "automargin": true,
                      "gridcolor": "white",
                      "linecolor": "white",
                      "ticks": "",
                      "title": {
                        "standoff": 15
                      },
                      "zerolinecolor": "white",
                      "zerolinewidth": 2
                    },
                    "yaxis": {
                      "automargin": true,
                      "gridcolor": "white",
                      "linecolor": "white",
                      "ticks": "",
                      "title": {
                        "standoff": 15
                      },
                      "zerolinecolor": "white",
                      "zerolinewidth": 2
                    }
                  }
                },
                "title": {
                  "text": "Model 3"
                },
                "width": 600,
                "xaxis": {
                  "anchor": "y",
                  "domain": [
                    0,
                    1
                  ]
                },
                "xaxis2": {
                  "anchor": "y2",
                  "domain": [
                    0,
                    1
                  ]
                },
                "xaxis3": {
                  "anchor": "y3",
                  "domain": [
                    0,
                    1
                  ]
                },
                "yaxis": {
                  "anchor": "x",
                  "domain": [
                    0.7333333333333333,
                    1
                  ]
                },
                "yaxis2": {
                  "anchor": "x2",
                  "domain": [
                    0.36666666666666664,
                    0.6333333333333333
                  ]
                },
                "yaxis3": {
                  "anchor": "x3",
                  "domain": [
                    0,
                    0.26666666666666666
                  ]
                }
              }
            }
          },
          "metadata": {},
          "output_type": "display_data"
        }
      ],
      "source": [
        "plot_metrics(model_3_loss_and_acc, \"Model 3\")"
      ]
    },
    {
      "cell_type": "code",
      "execution_count": 269,
      "metadata": {},
      "outputs": [],
      "source": [
        "# def make_predictions(model: torch.nn.Module, data: list, device: torch.device = device):\n",
        "#     preds = []\n",
        "#     model.eval()\n",
        "#     with torch.inference_mode():\n",
        "#         for sample in data:\n",
        "#             # sample = sample.unsqueeze(dim=1).to(device) # Add an extra dimension and send sample to device\n",
        "\n",
        "#             # Forward pass (model outputs raw logit)\n",
        "#             logits = model(sample)\n",
        "#             pred = torch.round(torch.sigmoid(logits))\n",
        "\n",
        "#             # Get pred_prob off GPU for further calculations\n",
        "#             preds.append(pred.cpu())\n",
        "            \n",
        "#     # Stack the preds to turn list into a tensor\n",
        "#     return torch.stack(preds)"
      ]
    },
    {
      "cell_type": "code",
      "execution_count": 270,
      "metadata": {},
      "outputs": [],
      "source": [
        "# print(make_predictions())\n",
        "def test_predict(model, test_data):\n",
        "    model.eval()\n",
        "    with torch.inference_mode():\n",
        "        model_preds = torch.round(model(test_data))\n",
        "    return model_preds\n",
        "\n",
        "\n",
        "def predictions_to_dataframe(preds):\n",
        "    results = preds.argmax(dim=1).cpu().numpy()\n",
        "\n",
        "    sample_submission = pd.DataFrame(results, columns=['class'])\n",
        "    sample_submission.index.name = \"index\"\n",
        "    # print(sample_submission)\n",
        "    return sample_submission"
      ]
    },
    {
      "cell_type": "code",
      "execution_count": 271,
      "metadata": {},
      "outputs": [
        {
          "name": "stderr",
          "output_type": "stream",
          "text": [
            "/tmp/ipykernel_24794/3058219584.py:1: UserWarning:\n",
            "\n",
            "To copy construct from a tensor, it is recommended to use sourceTensor.clone().detach() or sourceTensor.clone().detach().requires_grad_(True), rather than torch.tensor(sourceTensor).\n",
            "\n"
          ]
        }
      ],
      "source": [
        "model_1_preds, model_2_preds, model_3_preds = test_predict(flag_model_1, torch.tensor(X_test).type(torch.float32)), test_predict(flag_model_2, torch.tensor(X_test).type(torch.float32)), test_predict(flag_model_2_with_scaled_data, torch.tensor(X_test).type(torch.float32))"
      ]
    },
    {
      "cell_type": "code",
      "execution_count": 272,
      "metadata": {},
      "outputs": [
        {
          "name": "stdout",
          "output_type": "stream",
          "text": [
            "787 0\n",
            "tensor([[1.],\n",
            "        [1.],\n",
            "        [1.],\n",
            "        [1.],\n",
            "        [1.],\n",
            "        [1.],\n",
            "        [1.],\n",
            "        [1.],\n",
            "        [1.],\n",
            "        [1.],\n",
            "        [1.],\n",
            "        [1.],\n",
            "        [1.],\n",
            "        [1.],\n",
            "        [1.],\n",
            "        [1.],\n",
            "        [1.],\n",
            "        [1.],\n",
            "        [1.],\n",
            "        [1.],\n",
            "        [1.],\n",
            "        [1.],\n",
            "        [1.],\n",
            "        [1.],\n",
            "        [1.],\n",
            "        [1.],\n",
            "        [1.],\n",
            "        [1.],\n",
            "        [1.],\n",
            "        [1.],\n",
            "        [1.],\n",
            "        [1.],\n",
            "        [1.],\n",
            "        [1.],\n",
            "        [1.],\n",
            "        [1.],\n",
            "        [1.],\n",
            "        [1.],\n",
            "        [1.],\n",
            "        [1.],\n",
            "        [1.],\n",
            "        [1.],\n",
            "        [1.],\n",
            "        [1.],\n",
            "        [1.],\n",
            "        [1.],\n",
            "        [1.],\n",
            "        [1.],\n",
            "        [1.],\n",
            "        [1.],\n",
            "        [1.],\n",
            "        [1.],\n",
            "        [1.],\n",
            "        [1.],\n",
            "        [1.],\n",
            "        [1.],\n",
            "        [1.],\n",
            "        [1.],\n",
            "        [1.],\n",
            "        [1.],\n",
            "        [1.],\n",
            "        [1.],\n",
            "        [1.],\n",
            "        [1.],\n",
            "        [1.],\n",
            "        [1.],\n",
            "        [1.],\n",
            "        [1.],\n",
            "        [1.],\n",
            "        [1.],\n",
            "        [1.],\n",
            "        [1.],\n",
            "        [1.],\n",
            "        [1.],\n",
            "        [1.],\n",
            "        [1.],\n",
            "        [1.],\n",
            "        [1.],\n",
            "        [1.],\n",
            "        [1.],\n",
            "        [1.],\n",
            "        [1.],\n",
            "        [1.],\n",
            "        [1.],\n",
            "        [1.],\n",
            "        [1.],\n",
            "        [1.],\n",
            "        [1.],\n",
            "        [1.],\n",
            "        [1.],\n",
            "        [1.],\n",
            "        [1.],\n",
            "        [1.],\n",
            "        [1.],\n",
            "        [1.],\n",
            "        [1.],\n",
            "        [1.],\n",
            "        [1.],\n",
            "        [1.],\n",
            "        [1.],\n",
            "        [1.],\n",
            "        [1.],\n",
            "        [1.],\n",
            "        [1.],\n",
            "        [1.],\n",
            "        [1.],\n",
            "        [1.],\n",
            "        [1.],\n",
            "        [1.],\n",
            "        [1.],\n",
            "        [1.],\n",
            "        [1.],\n",
            "        [1.],\n",
            "        [1.],\n",
            "        [1.],\n",
            "        [1.],\n",
            "        [1.],\n",
            "        [1.],\n",
            "        [1.],\n",
            "        [1.],\n",
            "        [1.],\n",
            "        [1.],\n",
            "        [1.],\n",
            "        [1.],\n",
            "        [1.],\n",
            "        [1.],\n",
            "        [1.],\n",
            "        [1.],\n",
            "        [1.],\n",
            "        [1.],\n",
            "        [1.],\n",
            "        [1.],\n",
            "        [1.],\n",
            "        [1.],\n",
            "        [1.],\n",
            "        [1.],\n",
            "        [1.],\n",
            "        [1.],\n",
            "        [1.],\n",
            "        [1.],\n",
            "        [1.],\n",
            "        [1.],\n",
            "        [1.],\n",
            "        [1.],\n",
            "        [1.],\n",
            "        [1.],\n",
            "        [1.],\n",
            "        [1.],\n",
            "        [1.],\n",
            "        [1.],\n",
            "        [1.],\n",
            "        [1.],\n",
            "        [1.],\n",
            "        [1.],\n",
            "        [1.],\n",
            "        [1.],\n",
            "        [1.],\n",
            "        [1.],\n",
            "        [1.],\n",
            "        [1.],\n",
            "        [1.],\n",
            "        [1.],\n",
            "        [1.],\n",
            "        [1.],\n",
            "        [1.],\n",
            "        [1.],\n",
            "        [1.],\n",
            "        [1.],\n",
            "        [1.],\n",
            "        [1.],\n",
            "        [1.],\n",
            "        [1.],\n",
            "        [1.],\n",
            "        [1.],\n",
            "        [1.],\n",
            "        [1.],\n",
            "        [1.],\n",
            "        [1.],\n",
            "        [1.],\n",
            "        [1.],\n",
            "        [1.],\n",
            "        [1.],\n",
            "        [1.],\n",
            "        [1.],\n",
            "        [1.],\n",
            "        [1.],\n",
            "        [1.],\n",
            "        [1.],\n",
            "        [1.],\n",
            "        [1.],\n",
            "        [1.],\n",
            "        [1.],\n",
            "        [1.],\n",
            "        [1.],\n",
            "        [1.],\n",
            "        [1.],\n",
            "        [1.],\n",
            "        [1.],\n",
            "        [1.],\n",
            "        [1.],\n",
            "        [1.],\n",
            "        [1.],\n",
            "        [1.],\n",
            "        [1.],\n",
            "        [1.],\n",
            "        [1.],\n",
            "        [1.],\n",
            "        [1.],\n",
            "        [1.],\n",
            "        [1.],\n",
            "        [1.],\n",
            "        [1.],\n",
            "        [1.],\n",
            "        [1.],\n",
            "        [1.],\n",
            "        [1.],\n",
            "        [1.],\n",
            "        [1.],\n",
            "        [1.],\n",
            "        [1.],\n",
            "        [1.],\n",
            "        [1.],\n",
            "        [1.],\n",
            "        [1.],\n",
            "        [1.],\n",
            "        [1.],\n",
            "        [1.],\n",
            "        [1.],\n",
            "        [1.],\n",
            "        [1.],\n",
            "        [1.],\n",
            "        [1.],\n",
            "        [1.],\n",
            "        [1.],\n",
            "        [1.],\n",
            "        [1.],\n",
            "        [1.],\n",
            "        [1.],\n",
            "        [1.],\n",
            "        [1.],\n",
            "        [1.],\n",
            "        [1.],\n",
            "        [1.],\n",
            "        [1.],\n",
            "        [1.],\n",
            "        [1.],\n",
            "        [1.],\n",
            "        [1.],\n",
            "        [1.],\n",
            "        [1.],\n",
            "        [1.],\n",
            "        [1.],\n",
            "        [1.],\n",
            "        [1.],\n",
            "        [1.],\n",
            "        [1.],\n",
            "        [1.],\n",
            "        [1.],\n",
            "        [1.],\n",
            "        [1.],\n",
            "        [1.],\n",
            "        [1.],\n",
            "        [1.],\n",
            "        [1.],\n",
            "        [1.],\n",
            "        [1.],\n",
            "        [1.],\n",
            "        [1.],\n",
            "        [1.],\n",
            "        [1.],\n",
            "        [1.],\n",
            "        [1.],\n",
            "        [1.],\n",
            "        [1.],\n",
            "        [1.],\n",
            "        [1.],\n",
            "        [1.],\n",
            "        [1.],\n",
            "        [1.],\n",
            "        [1.],\n",
            "        [1.],\n",
            "        [1.],\n",
            "        [1.],\n",
            "        [1.],\n",
            "        [1.],\n",
            "        [1.],\n",
            "        [1.],\n",
            "        [1.],\n",
            "        [1.],\n",
            "        [1.],\n",
            "        [1.],\n",
            "        [1.],\n",
            "        [1.],\n",
            "        [1.],\n",
            "        [1.],\n",
            "        [1.],\n",
            "        [1.],\n",
            "        [1.],\n",
            "        [1.],\n",
            "        [1.],\n",
            "        [1.],\n",
            "        [1.],\n",
            "        [1.],\n",
            "        [1.],\n",
            "        [1.],\n",
            "        [1.],\n",
            "        [1.],\n",
            "        [1.],\n",
            "        [1.],\n",
            "        [1.],\n",
            "        [1.],\n",
            "        [1.],\n",
            "        [1.],\n",
            "        [1.],\n",
            "        [1.],\n",
            "        [1.],\n",
            "        [1.],\n",
            "        [1.],\n",
            "        [1.],\n",
            "        [1.],\n",
            "        [1.],\n",
            "        [1.],\n",
            "        [1.],\n",
            "        [1.],\n",
            "        [1.],\n",
            "        [1.],\n",
            "        [1.],\n",
            "        [1.],\n",
            "        [1.],\n",
            "        [1.],\n",
            "        [1.],\n",
            "        [1.],\n",
            "        [1.],\n",
            "        [1.],\n",
            "        [1.],\n",
            "        [1.],\n",
            "        [1.],\n",
            "        [1.],\n",
            "        [1.],\n",
            "        [1.],\n",
            "        [1.],\n",
            "        [1.],\n",
            "        [1.],\n",
            "        [1.],\n",
            "        [1.],\n",
            "        [1.],\n",
            "        [1.],\n",
            "        [1.],\n",
            "        [1.],\n",
            "        [1.],\n",
            "        [1.],\n",
            "        [1.],\n",
            "        [1.],\n",
            "        [1.],\n",
            "        [1.],\n",
            "        [1.],\n",
            "        [1.],\n",
            "        [1.],\n",
            "        [1.],\n",
            "        [1.],\n",
            "        [1.],\n",
            "        [1.],\n",
            "        [1.],\n",
            "        [1.],\n",
            "        [1.],\n",
            "        [1.],\n",
            "        [1.],\n",
            "        [1.],\n",
            "        [1.],\n",
            "        [1.],\n",
            "        [1.],\n",
            "        [1.],\n",
            "        [1.],\n",
            "        [1.],\n",
            "        [1.],\n",
            "        [1.],\n",
            "        [1.],\n",
            "        [1.],\n",
            "        [1.],\n",
            "        [1.],\n",
            "        [1.],\n",
            "        [1.],\n",
            "        [1.],\n",
            "        [1.],\n",
            "        [1.],\n",
            "        [1.],\n",
            "        [1.],\n",
            "        [1.],\n",
            "        [1.],\n",
            "        [1.],\n",
            "        [1.],\n",
            "        [1.],\n",
            "        [1.],\n",
            "        [1.],\n",
            "        [1.],\n",
            "        [1.],\n",
            "        [1.],\n",
            "        [1.],\n",
            "        [1.],\n",
            "        [1.],\n",
            "        [1.],\n",
            "        [1.],\n",
            "        [1.],\n",
            "        [1.],\n",
            "        [1.],\n",
            "        [1.],\n",
            "        [1.],\n",
            "        [1.],\n",
            "        [1.],\n",
            "        [1.],\n",
            "        [1.],\n",
            "        [1.],\n",
            "        [1.],\n",
            "        [1.],\n",
            "        [1.],\n",
            "        [1.],\n",
            "        [1.],\n",
            "        [1.],\n",
            "        [1.],\n",
            "        [1.],\n",
            "        [1.],\n",
            "        [1.],\n",
            "        [1.],\n",
            "        [1.],\n",
            "        [1.],\n",
            "        [1.],\n",
            "        [1.],\n",
            "        [1.],\n",
            "        [1.],\n",
            "        [1.],\n",
            "        [1.],\n",
            "        [1.],\n",
            "        [1.],\n",
            "        [1.],\n",
            "        [1.],\n",
            "        [1.],\n",
            "        [1.],\n",
            "        [1.],\n",
            "        [1.],\n",
            "        [1.],\n",
            "        [1.],\n",
            "        [1.],\n",
            "        [1.],\n",
            "        [1.],\n",
            "        [1.],\n",
            "        [1.],\n",
            "        [1.],\n",
            "        [1.],\n",
            "        [1.],\n",
            "        [1.],\n",
            "        [1.],\n",
            "        [1.],\n",
            "        [1.],\n",
            "        [1.],\n",
            "        [1.],\n",
            "        [1.],\n",
            "        [1.],\n",
            "        [1.],\n",
            "        [1.],\n",
            "        [1.],\n",
            "        [1.],\n",
            "        [1.],\n",
            "        [1.],\n",
            "        [1.],\n",
            "        [1.],\n",
            "        [1.],\n",
            "        [1.],\n",
            "        [1.],\n",
            "        [1.],\n",
            "        [1.],\n",
            "        [1.],\n",
            "        [1.],\n",
            "        [1.],\n",
            "        [1.],\n",
            "        [1.],\n",
            "        [1.],\n",
            "        [1.],\n",
            "        [1.],\n",
            "        [1.],\n",
            "        [1.],\n",
            "        [1.],\n",
            "        [1.],\n",
            "        [1.],\n",
            "        [1.],\n",
            "        [1.],\n",
            "        [1.],\n",
            "        [1.],\n",
            "        [1.],\n",
            "        [1.],\n",
            "        [1.],\n",
            "        [1.],\n",
            "        [1.],\n",
            "        [1.],\n",
            "        [1.],\n",
            "        [1.],\n",
            "        [1.],\n",
            "        [1.],\n",
            "        [1.],\n",
            "        [1.],\n",
            "        [1.],\n",
            "        [1.],\n",
            "        [1.],\n",
            "        [1.],\n",
            "        [1.],\n",
            "        [1.],\n",
            "        [1.],\n",
            "        [1.],\n",
            "        [1.],\n",
            "        [1.],\n",
            "        [1.],\n",
            "        [1.],\n",
            "        [1.],\n",
            "        [1.],\n",
            "        [1.],\n",
            "        [1.],\n",
            "        [1.],\n",
            "        [1.],\n",
            "        [1.],\n",
            "        [1.],\n",
            "        [1.],\n",
            "        [1.],\n",
            "        [1.],\n",
            "        [1.],\n",
            "        [1.],\n",
            "        [1.],\n",
            "        [1.],\n",
            "        [1.],\n",
            "        [1.],\n",
            "        [1.],\n",
            "        [1.],\n",
            "        [1.],\n",
            "        [1.],\n",
            "        [1.],\n",
            "        [1.],\n",
            "        [1.],\n",
            "        [1.],\n",
            "        [1.],\n",
            "        [1.],\n",
            "        [1.],\n",
            "        [1.],\n",
            "        [1.],\n",
            "        [1.],\n",
            "        [1.],\n",
            "        [1.],\n",
            "        [1.],\n",
            "        [1.],\n",
            "        [1.],\n",
            "        [1.],\n",
            "        [1.],\n",
            "        [1.],\n",
            "        [1.],\n",
            "        [1.],\n",
            "        [1.],\n",
            "        [1.],\n",
            "        [1.],\n",
            "        [1.],\n",
            "        [1.],\n",
            "        [1.],\n",
            "        [1.],\n",
            "        [1.],\n",
            "        [1.],\n",
            "        [1.],\n",
            "        [1.],\n",
            "        [1.],\n",
            "        [1.],\n",
            "        [1.],\n",
            "        [1.],\n",
            "        [1.],\n",
            "        [1.],\n",
            "        [1.],\n",
            "        [1.],\n",
            "        [1.],\n",
            "        [1.],\n",
            "        [1.],\n",
            "        [1.],\n",
            "        [1.],\n",
            "        [1.],\n",
            "        [1.],\n",
            "        [1.],\n",
            "        [1.],\n",
            "        [1.],\n",
            "        [1.],\n",
            "        [1.],\n",
            "        [1.],\n",
            "        [1.],\n",
            "        [1.],\n",
            "        [1.],\n",
            "        [1.],\n",
            "        [1.],\n",
            "        [1.],\n",
            "        [1.],\n",
            "        [1.],\n",
            "        [1.],\n",
            "        [1.],\n",
            "        [1.],\n",
            "        [1.],\n",
            "        [1.],\n",
            "        [1.],\n",
            "        [1.],\n",
            "        [1.],\n",
            "        [1.],\n",
            "        [1.],\n",
            "        [1.],\n",
            "        [1.],\n",
            "        [1.],\n",
            "        [1.],\n",
            "        [1.],\n",
            "        [1.],\n",
            "        [1.],\n",
            "        [1.],\n",
            "        [1.],\n",
            "        [1.],\n",
            "        [1.],\n",
            "        [1.],\n",
            "        [1.],\n",
            "        [1.],\n",
            "        [1.],\n",
            "        [1.],\n",
            "        [1.],\n",
            "        [1.],\n",
            "        [1.],\n",
            "        [1.],\n",
            "        [1.],\n",
            "        [1.],\n",
            "        [1.],\n",
            "        [1.],\n",
            "        [1.],\n",
            "        [1.],\n",
            "        [1.],\n",
            "        [1.],\n",
            "        [1.],\n",
            "        [1.],\n",
            "        [1.],\n",
            "        [1.],\n",
            "        [1.],\n",
            "        [1.],\n",
            "        [1.],\n",
            "        [1.],\n",
            "        [1.],\n",
            "        [1.],\n",
            "        [1.],\n",
            "        [1.],\n",
            "        [1.],\n",
            "        [1.],\n",
            "        [1.],\n",
            "        [1.],\n",
            "        [1.],\n",
            "        [0.],\n",
            "        [1.],\n",
            "        [1.],\n",
            "        [1.],\n",
            "        [1.],\n",
            "        [1.],\n",
            "        [1.],\n",
            "        [1.],\n",
            "        [1.],\n",
            "        [1.],\n",
            "        [1.],\n",
            "        [1.],\n",
            "        [1.],\n",
            "        [1.],\n",
            "        [1.],\n",
            "        [1.],\n",
            "        [1.],\n",
            "        [1.],\n",
            "        [1.],\n",
            "        [1.],\n",
            "        [1.],\n",
            "        [1.],\n",
            "        [1.],\n",
            "        [1.],\n",
            "        [1.],\n",
            "        [1.],\n",
            "        [1.],\n",
            "        [1.],\n",
            "        [1.],\n",
            "        [1.],\n",
            "        [1.],\n",
            "        [1.],\n",
            "        [1.],\n",
            "        [1.],\n",
            "        [1.],\n",
            "        [1.],\n",
            "        [1.],\n",
            "        [1.],\n",
            "        [1.],\n",
            "        [1.],\n",
            "        [1.],\n",
            "        [1.],\n",
            "        [1.],\n",
            "        [1.],\n",
            "        [1.],\n",
            "        [1.],\n",
            "        [1.],\n",
            "        [1.],\n",
            "        [1.],\n",
            "        [1.],\n",
            "        [1.],\n",
            "        [1.],\n",
            "        [1.],\n",
            "        [1.],\n",
            "        [1.],\n",
            "        [1.],\n",
            "        [1.],\n",
            "        [1.],\n",
            "        [1.],\n",
            "        [1.],\n",
            "        [1.],\n",
            "        [1.],\n",
            "        [1.],\n",
            "        [1.],\n",
            "        [1.],\n",
            "        [1.],\n",
            "        [1.],\n",
            "        [1.],\n",
            "        [1.],\n",
            "        [1.],\n",
            "        [1.],\n",
            "        [1.],\n",
            "        [1.],\n",
            "        [1.],\n",
            "        [1.],\n",
            "        [1.],\n",
            "        [1.],\n",
            "        [1.],\n",
            "        [1.],\n",
            "        [1.],\n",
            "        [1.],\n",
            "        [1.],\n",
            "        [1.],\n",
            "        [1.],\n",
            "        [1.],\n",
            "        [1.],\n",
            "        [1.],\n",
            "        [1.],\n",
            "        [1.],\n",
            "        [1.],\n",
            "        [1.],\n",
            "        [1.],\n",
            "        [1.],\n",
            "        [1.],\n",
            "        [1.],\n",
            "        [1.],\n",
            "        [1.],\n",
            "        [1.],\n",
            "        [1.],\n",
            "        [1.],\n",
            "        [1.],\n",
            "        [1.],\n",
            "        [1.],\n",
            "        [1.],\n",
            "        [1.],\n",
            "        [1.],\n",
            "        [1.],\n",
            "        [1.],\n",
            "        [1.],\n",
            "        [1.],\n",
            "        [1.],\n",
            "        [1.],\n",
            "        [1.],\n",
            "        [1.],\n",
            "        [1.],\n",
            "        [1.],\n",
            "        [1.],\n",
            "        [1.],\n",
            "        [1.],\n",
            "        [1.],\n",
            "        [1.],\n",
            "        [1.],\n",
            "        [1.],\n",
            "        [1.],\n",
            "        [1.],\n",
            "        [1.],\n",
            "        [1.],\n",
            "        [1.],\n",
            "        [1.],\n",
            "        [1.],\n",
            "        [1.],\n",
            "        [1.],\n",
            "        [1.],\n",
            "        [1.],\n",
            "        [1.],\n",
            "        [1.],\n",
            "        [1.],\n",
            "        [1.],\n",
            "        [1.],\n",
            "        [1.]])\n"
          ]
        }
      ],
      "source": [
        "zeros = 0\n",
        "non_zeros = 0\n",
        "for i in model_3_preds:\n",
        "    if i == 0:\n",
        "        zeros += 1\n",
        "    elif i==1:\n",
        "        non_zeros += 1        \n",
        "\n",
        "print(zeros, non_zeros)\n",
        "print(model_1_preds)"
      ]
    },
    {
      "cell_type": "code",
      "execution_count": 273,
      "metadata": {},
      "outputs": [
        {
          "name": "stdout",
          "output_type": "stream",
          "text": [
            "Model 1 acc: 60.482846251588306\n",
            "Model 2 acc: 43.58322744599746\n",
            "Model 2 with data scaling acc: 39.64421855146124\n"
          ]
        }
      ],
      "source": [
        "print(f\"Model 1 acc: {accuracy_fn(y_test, model_1_preds)}\")\n",
        "print(f\"Model 2 acc: {accuracy_fn(y_test, model_2_preds)}\")\n",
        "print(f\"Model 2 with data scaling acc: {accuracy_fn(y_test, model_3_preds)}\")"
      ]
    },
    {
      "cell_type": "code",
      "execution_count": null,
      "metadata": {},
      "outputs": [],
      "source": []
    },
    {
      "cell_type": "markdown",
      "metadata": {},
      "source": [
        "# using standard scaler"
      ]
    },
    {
      "cell_type": "code",
      "execution_count": 274,
      "metadata": {},
      "outputs": [],
      "source": [
        "from sklearn.preprocessing import StandardScaler\n",
        "scaler = StandardScaler()\n",
        "features = dataset.drop(columns=[\"Flag\"])\n",
        "# scaled_features = scaler.fit_transform(normal_features)"
      ]
    },
    {
      "cell_type": "code",
      "execution_count": 275,
      "metadata": {},
      "outputs": [],
      "source": [
        "features_np = features.values\n",
        "X = torch.tensor(features_np, dtype=torch.float32)\n",
        "y = torch.tensor(dataset[\"Flag\"].values, dtype=torch.float32)"
      ]
    },
    {
      "cell_type": "code",
      "execution_count": 276,
      "metadata": {},
      "outputs": [],
      "source": [
        "model_1_scaled_loss_and_acc = pd.DataFrame()\n",
        "model_1_scaled_loss_and_acc['train_loss'] = []\n",
        "model_1_scaled_loss_and_acc['train_acc'] = []\n",
        "model_1_scaled_loss_and_acc['test_loss'] = []\n",
        "model_1_scaled_loss_and_acc['test_acc'] = []\n",
        "model_1_scaled_loss_and_acc['f1_score'] = []"
      ]
    },
    {
      "cell_type": "code",
      "execution_count": 277,
      "metadata": {},
      "outputs": [
        {
          "data": {
            "text/plain": [
              "(3670, 11)"
            ]
          },
          "execution_count": 277,
          "metadata": {},
          "output_type": "execute_result"
        }
      ],
      "source": [
        "X_train_scaled, X_val_scaled, X_test_scaled, y_train_4, y_val_4, y_test_4 = split_data(X, y, 0.4, 1)\n",
        "X_train_scaled = scaler.fit_transform(X_train_scaled)\n",
        "X_test_scaled = scaler.fit_transform(X_test_scaled)\n",
        "X_val_scaled = scaler.fit_transform(X_val_scaled)\n",
        "\n",
        "X_train_scaled.shape"
      ]
    },
    {
      "cell_type": "code",
      "execution_count": 278,
      "metadata": {},
      "outputs": [
        {
          "data": {
            "text/plain": [
              "(torch.Size([3670, 1]), torch.Size([787, 1]), torch.Size([787, 1]))"
            ]
          },
          "execution_count": 278,
          "metadata": {},
          "output_type": "execute_result"
        }
      ],
      "source": [
        "y_train_4 = y_train_4.unsqueeze(1)\n",
        "y_val_4 = y_val_4.unsqueeze(1)\n",
        "y_test_4 = y_test_4.unsqueeze(1)\n",
        "\n",
        "y_train.shape, y_test.shape, y_val.shape"
      ]
    },
    {
      "cell_type": "code",
      "execution_count": 279,
      "metadata": {},
      "outputs": [],
      "source": [
        "X_train_scaled = torch.from_numpy(X_train_scaled).float()\n",
        "X_val_scaled = torch.from_numpy(X_val_scaled).float()\n",
        "X_test_scaled = torch.from_numpy(X_test_scaled).float()"
      ]
    },
    {
      "cell_type": "code",
      "execution_count": 280,
      "metadata": {},
      "outputs": [
        {
          "name": "stdout",
          "output_type": "stream",
          "text": [
            "DataLoader length: 115 | Batch Size: 32\n",
            "DataLoader length: 25 | Batch Size: 32\n",
            "DataLoader length: 25 | Batch Size: 32\n"
          ]
        }
      ],
      "source": [
        "train_dataloader = create_dataloader(X_train_scaled, y_train_4)\n",
        "test_dataloader = create_dataloader(X_test_scaled, y_test_4)\n",
        "val_dataloader = create_dataloader(X_val_scaled, y_val_4)"
      ]
    },
    {
      "cell_type": "code",
      "execution_count": 281,
      "metadata": {},
      "outputs": [
        {
          "name": "stderr",
          "output_type": "stream",
          "text": [
            "  2%|▏         | 1/50 [00:00<00:20,  2.41it/s]"
          ]
        },
        {
          "name": "stderr",
          "output_type": "stream",
          "text": [
            "  4%|▍         | 2/50 [00:00<00:23,  2.04it/s]"
          ]
        },
        {
          "name": "stdout",
          "output_type": "stream",
          "text": [
            "\n",
            "Epoch: 1 | Train Loss: 0.01945 | Train Acc: 63.48774% | Test loss: 0.019405648093362926 | Test Acc: 68.86912%\n"
          ]
        },
        {
          "name": "stderr",
          "output_type": "stream",
          "text": [
            "  6%|▌         | 3/50 [00:01<00:22,  2.08it/s]"
          ]
        },
        {
          "name": "stdout",
          "output_type": "stream",
          "text": [
            "\n",
            "Epoch: 2 | Train Loss: 0.01911 | Train Acc: 68.36512% | Test loss: 0.01918060821983987 | Test Acc: 67.59848%\n"
          ]
        },
        {
          "name": "stderr",
          "output_type": "stream",
          "text": [
            "  8%|▊         | 4/50 [00:01<00:20,  2.20it/s]"
          ]
        },
        {
          "name": "stdout",
          "output_type": "stream",
          "text": [
            "\n",
            "Epoch: 3 | Train Loss: 0.01889 | Train Acc: 70.00000% | Test loss: 0.018983472938610305 | Test Acc: 68.61499%\n"
          ]
        },
        {
          "name": "stderr",
          "output_type": "stream",
          "text": [
            " 10%|█         | 5/50 [00:02<00:18,  2.41it/s]"
          ]
        },
        {
          "name": "stdout",
          "output_type": "stream",
          "text": [
            "\n",
            "Epoch: 4 | Train Loss: 0.01876 | Train Acc: 70.27248% | Test loss: 0.01902468655887977 | Test Acc: 69.12325%\n"
          ]
        },
        {
          "name": "stderr",
          "output_type": "stream",
          "text": [
            " 14%|█▍        | 7/50 [00:02<00:16,  2.64it/s]"
          ]
        },
        {
          "name": "stdout",
          "output_type": "stream",
          "text": [
            "\n",
            "Epoch: 6 | Train Loss: 0.01866 | Train Acc: 71.17166% | Test loss: 0.018844460592790966 | Test Acc: 70.39390%\n"
          ]
        },
        {
          "name": "stderr",
          "output_type": "stream",
          "text": [
            " 16%|█▌        | 8/50 [00:03<00:15,  2.66it/s]"
          ]
        },
        {
          "name": "stdout",
          "output_type": "stream",
          "text": [
            "\n",
            "Epoch: 7 | Train Loss: 0.01864 | Train Acc: 71.52589% | Test loss: 0.018884492117386156 | Test Acc: 69.25032%\n"
          ]
        },
        {
          "name": "stderr",
          "output_type": "stream",
          "text": [
            " 18%|█▊        | 9/50 [00:03<00:15,  2.64it/s]"
          ]
        },
        {
          "name": "stdout",
          "output_type": "stream",
          "text": [
            "\n",
            "Epoch: 8 | Train Loss: 0.01858 | Train Acc: 71.66213% | Test loss: 0.01891085528206492 | Test Acc: 70.77510%\n"
          ]
        },
        {
          "name": "stderr",
          "output_type": "stream",
          "text": [
            " 20%|██        | 10/50 [00:04<00:15,  2.57it/s]"
          ]
        },
        {
          "name": "stdout",
          "output_type": "stream",
          "text": [
            "\n",
            "Epoch: 9 | Train Loss: 0.01857 | Train Acc: 71.82561% | Test loss: 0.01886748790438021 | Test Acc: 70.13977%\n"
          ]
        },
        {
          "name": "stderr",
          "output_type": "stream",
          "text": [
            " 24%|██▍       | 12/50 [00:05<00:16,  2.28it/s]"
          ]
        },
        {
          "name": "stdout",
          "output_type": "stream",
          "text": [
            "\n",
            "Epoch: 11 | Train Loss: 0.01848 | Train Acc: 72.91553% | Test loss: 0.01883258487854101 | Test Acc: 70.13977%\n"
          ]
        },
        {
          "name": "stderr",
          "output_type": "stream",
          "text": [
            " 26%|██▌       | 13/50 [00:05<00:16,  2.21it/s]"
          ]
        },
        {
          "name": "stdout",
          "output_type": "stream",
          "text": [
            "\n",
            "Epoch: 12 | Train Loss: 0.01851 | Train Acc: 72.17984% | Test loss: 0.01890082424447376 | Test Acc: 69.88564%\n"
          ]
        },
        {
          "name": "stderr",
          "output_type": "stream",
          "text": [
            " 28%|██▊       | 14/50 [00:05<00:15,  2.27it/s]"
          ]
        },
        {
          "name": "stdout",
          "output_type": "stream",
          "text": [
            "\n",
            "Epoch: 13 | Train Loss: 0.01847 | Train Acc: 72.61580% | Test loss: 0.018906814549141948 | Test Acc: 72.42694%\n"
          ]
        },
        {
          "name": "stderr",
          "output_type": "stream",
          "text": [
            " 30%|███       | 15/50 [00:06<00:14,  2.39it/s]"
          ]
        },
        {
          "name": "stdout",
          "output_type": "stream",
          "text": [
            "\n",
            "Epoch: 14 | Train Loss: 0.01842 | Train Acc: 73.18801% | Test loss: 0.01884291496179913 | Test Acc: 69.37738%\n"
          ]
        },
        {
          "name": "stderr",
          "output_type": "stream",
          "text": [
            " 34%|███▍      | 17/50 [00:07<00:13,  2.48it/s]"
          ]
        },
        {
          "name": "stdout",
          "output_type": "stream",
          "text": [
            "\n",
            "Epoch: 16 | Train Loss: 0.01840 | Train Acc: 73.02452% | Test loss: 0.018821107538409883 | Test Acc: 69.63151%\n"
          ]
        },
        {
          "name": "stderr",
          "output_type": "stream",
          "text": [
            " 36%|███▌      | 18/50 [00:07<00:12,  2.55it/s]"
          ]
        },
        {
          "name": "stdout",
          "output_type": "stream",
          "text": [
            "\n",
            "Epoch: 17 | Train Loss: 0.01836 | Train Acc: 73.62398% | Test loss: 0.018829965190027085 | Test Acc: 69.88564%\n"
          ]
        },
        {
          "name": "stderr",
          "output_type": "stream",
          "text": [
            " 38%|███▊      | 19/50 [00:07<00:12,  2.54it/s]"
          ]
        },
        {
          "name": "stdout",
          "output_type": "stream",
          "text": [
            "\n",
            "Epoch: 18 | Train Loss: 0.01831 | Train Acc: 73.70572% | Test loss: 0.018799535504138758 | Test Acc: 71.15629%\n"
          ]
        },
        {
          "name": "stderr",
          "output_type": "stream",
          "text": [
            " 40%|████      | 20/50 [00:08<00:11,  2.54it/s]"
          ]
        },
        {
          "name": "stdout",
          "output_type": "stream",
          "text": [
            "\n",
            "Epoch: 19 | Train Loss: 0.01829 | Train Acc: 73.97820% | Test loss: 0.018761621118349222 | Test Acc: 71.02922%\n"
          ]
        },
        {
          "name": "stderr",
          "output_type": "stream",
          "text": [
            " 44%|████▍     | 22/50 [00:09<00:10,  2.58it/s]"
          ]
        },
        {
          "name": "stdout",
          "output_type": "stream",
          "text": [
            "\n",
            "Epoch: 21 | Train Loss: 0.01830 | Train Acc: 73.84196% | Test loss: 0.018916775227501854 | Test Acc: 68.86912%\n"
          ]
        },
        {
          "name": "stderr",
          "output_type": "stream",
          "text": [
            " 46%|████▌     | 23/50 [00:09<00:10,  2.62it/s]"
          ]
        },
        {
          "name": "stdout",
          "output_type": "stream",
          "text": [
            "\n",
            "Epoch: 22 | Train Loss: 0.01825 | Train Acc: 74.33243% | Test loss: 0.01877736829438991 | Test Acc: 70.39390%\n"
          ]
        },
        {
          "name": "stderr",
          "output_type": "stream",
          "text": [
            " 48%|████▊     | 24/50 [00:09<00:09,  2.62it/s]"
          ]
        },
        {
          "name": "stdout",
          "output_type": "stream",
          "text": [
            "\n",
            "Epoch: 23 | Train Loss: 0.01821 | Train Acc: 74.85014% | Test loss: 0.018706880424649772 | Test Acc: 72.29987%\n"
          ]
        },
        {
          "name": "stderr",
          "output_type": "stream",
          "text": [
            " 50%|█████     | 25/50 [00:10<00:09,  2.62it/s]"
          ]
        },
        {
          "name": "stdout",
          "output_type": "stream",
          "text": [
            "\n",
            "Epoch: 24 | Train Loss: 0.01823 | Train Acc: 74.65940% | Test loss: 0.01873435074371183 | Test Acc: 71.53748%\n"
          ]
        },
        {
          "name": "stderr",
          "output_type": "stream",
          "text": [
            " 54%|█████▍    | 27/50 [00:10<00:08,  2.59it/s]"
          ]
        },
        {
          "name": "stdout",
          "output_type": "stream",
          "text": [
            "\n",
            "Epoch: 26 | Train Loss: 0.01819 | Train Acc: 75.17711% | Test loss: 0.018818924660300967 | Test Acc: 72.42694%\n"
          ]
        },
        {
          "name": "stderr",
          "output_type": "stream",
          "text": [
            " 56%|█████▌    | 28/50 [00:11<00:08,  2.65it/s]"
          ]
        },
        {
          "name": "stdout",
          "output_type": "stream",
          "text": [
            "\n",
            "Epoch: 27 | Train Loss: 0.01821 | Train Acc: 74.63215% | Test loss: 0.018824026802746436 | Test Acc: 70.01271%\n"
          ]
        },
        {
          "name": "stderr",
          "output_type": "stream",
          "text": [
            " 58%|█████▊    | 29/50 [00:11<00:08,  2.62it/s]"
          ]
        },
        {
          "name": "stdout",
          "output_type": "stream",
          "text": [
            "\n",
            "Epoch: 28 | Train Loss: 0.01815 | Train Acc: 75.23161% | Test loss: 0.01876797404949668 | Test Acc: 72.55400%\n"
          ]
        },
        {
          "name": "stderr",
          "output_type": "stream",
          "text": [
            " 60%|██████    | 30/50 [00:12<00:07,  2.60it/s]"
          ]
        },
        {
          "name": "stdout",
          "output_type": "stream",
          "text": [
            "\n",
            "Epoch: 29 | Train Loss: 0.01813 | Train Acc: 75.55858% | Test loss: 0.01892682633527201 | Test Acc: 71.79161%\n"
          ]
        },
        {
          "name": "stderr",
          "output_type": "stream",
          "text": [
            " 64%|██████▍   | 32/50 [00:12<00:06,  2.67it/s]"
          ]
        },
        {
          "name": "stdout",
          "output_type": "stream",
          "text": [
            "\n",
            "Epoch: 31 | Train Loss: 0.01809 | Train Acc: 75.91281% | Test loss: 0.01882014432129139 | Test Acc: 71.91868%\n"
          ]
        },
        {
          "name": "stderr",
          "output_type": "stream",
          "text": [
            " 66%|██████▌   | 33/50 [00:13<00:07,  2.41it/s]"
          ]
        },
        {
          "name": "stdout",
          "output_type": "stream",
          "text": [
            "\n",
            "Epoch: 32 | Train Loss: 0.01807 | Train Acc: 75.85831% | Test loss: 0.01886240348428147 | Test Acc: 72.17281%\n"
          ]
        },
        {
          "name": "stderr",
          "output_type": "stream",
          "text": [
            " 68%|██████▊   | 34/50 [00:13<00:06,  2.45it/s]"
          ]
        },
        {
          "name": "stdout",
          "output_type": "stream",
          "text": [
            "\n",
            "Epoch: 33 | Train Loss: 0.01814 | Train Acc: 75.14986% | Test loss: 0.01882970143758054 | Test Acc: 70.90216%\n"
          ]
        },
        {
          "name": "stderr",
          "output_type": "stream",
          "text": [
            " 70%|███████   | 35/50 [00:14<00:06,  2.47it/s]"
          ]
        },
        {
          "name": "stdout",
          "output_type": "stream",
          "text": [
            "\n",
            "Epoch: 34 | Train Loss: 0.01813 | Train Acc: 75.36785% | Test loss: 0.018721109462057014 | Test Acc: 72.29987%\n"
          ]
        },
        {
          "name": "stderr",
          "output_type": "stream",
          "text": [
            " 74%|███████▍  | 37/50 [00:14<00:04,  2.60it/s]"
          ]
        },
        {
          "name": "stdout",
          "output_type": "stream",
          "text": [
            "\n",
            "Epoch: 36 | Train Loss: 0.01809 | Train Acc: 75.50409% | Test loss: 0.018648045793118895 | Test Acc: 72.42694%\n"
          ]
        },
        {
          "name": "stderr",
          "output_type": "stream",
          "text": [
            " 76%|███████▌  | 38/50 [00:15<00:04,  2.66it/s]"
          ]
        },
        {
          "name": "stdout",
          "output_type": "stream",
          "text": [
            "\n",
            "Epoch: 37 | Train Loss: 0.01804 | Train Acc: 76.37602% | Test loss: 0.018779535229960422 | Test Acc: 71.66455%\n"
          ]
        },
        {
          "name": "stderr",
          "output_type": "stream",
          "text": [
            " 78%|███████▊  | 39/50 [00:15<00:04,  2.62it/s]"
          ]
        },
        {
          "name": "stdout",
          "output_type": "stream",
          "text": [
            "\n",
            "Epoch: 38 | Train Loss: 0.01801 | Train Acc: 76.21253% | Test loss: 0.01873055467763123 | Test Acc: 71.53748%\n"
          ]
        },
        {
          "name": "stderr",
          "output_type": "stream",
          "text": [
            " 80%|████████  | 40/50 [00:15<00:03,  2.62it/s]"
          ]
        },
        {
          "name": "stdout",
          "output_type": "stream",
          "text": [
            "\n",
            "Epoch: 39 | Train Loss: 0.01806 | Train Acc: 76.43052% | Test loss: 0.018737952318397533 | Test Acc: 73.06226%\n"
          ]
        },
        {
          "name": "stderr",
          "output_type": "stream",
          "text": [
            " 84%|████████▍ | 42/50 [00:16<00:02,  2.69it/s]"
          ]
        },
        {
          "name": "stdout",
          "output_type": "stream",
          "text": [
            "\n",
            "Epoch: 41 | Train Loss: 0.01796 | Train Acc: 76.94823% | Test loss: 0.018768024490021993 | Test Acc: 72.04574%\n"
          ]
        },
        {
          "name": "stderr",
          "output_type": "stream",
          "text": [
            " 86%|████████▌ | 43/50 [00:17<00:02,  2.64it/s]"
          ]
        },
        {
          "name": "stdout",
          "output_type": "stream",
          "text": [
            "\n",
            "Epoch: 42 | Train Loss: 0.01799 | Train Acc: 76.64850% | Test loss: 0.018811688186858782 | Test Acc: 71.66455%\n"
          ]
        },
        {
          "name": "stderr",
          "output_type": "stream",
          "text": [
            " 88%|████████▊ | 44/50 [00:17<00:02,  2.63it/s]"
          ]
        },
        {
          "name": "stdout",
          "output_type": "stream",
          "text": [
            "\n",
            "Epoch: 43 | Train Loss: 0.01798 | Train Acc: 76.56676% | Test loss: 0.01859306512824159 | Test Acc: 73.06226%\n"
          ]
        },
        {
          "name": "stderr",
          "output_type": "stream",
          "text": [
            " 90%|█████████ | 45/50 [00:17<00:01,  2.64it/s]"
          ]
        },
        {
          "name": "stdout",
          "output_type": "stream",
          "text": [
            "\n",
            "Epoch: 44 | Train Loss: 0.01799 | Train Acc: 76.67575% | Test loss: 0.018674986941084323 | Test Acc: 73.31639%\n"
          ]
        },
        {
          "name": "stderr",
          "output_type": "stream",
          "text": [
            " 94%|█████████▍| 47/50 [00:18<00:01,  2.68it/s]"
          ]
        },
        {
          "name": "stdout",
          "output_type": "stream",
          "text": [
            "\n",
            "Epoch: 46 | Train Loss: 0.01792 | Train Acc: 76.89373% | Test loss: 0.018634395079812675 | Test Acc: 72.80813%\n"
          ]
        },
        {
          "name": "stderr",
          "output_type": "stream",
          "text": [
            " 96%|█████████▌| 48/50 [00:18<00:00,  2.76it/s]"
          ]
        },
        {
          "name": "stdout",
          "output_type": "stream",
          "text": [
            "\n",
            "Epoch: 47 | Train Loss: 0.01788 | Train Acc: 77.13896% | Test loss: 0.01884906294991131 | Test Acc: 71.79161%\n"
          ]
        },
        {
          "name": "stderr",
          "output_type": "stream",
          "text": [
            " 98%|█████████▊| 49/50 [00:19<00:00,  2.57it/s]"
          ]
        },
        {
          "name": "stdout",
          "output_type": "stream",
          "text": [
            "\n",
            "Epoch: 48 | Train Loss: 0.01786 | Train Acc: 77.38420% | Test loss: 0.01865637007026236 | Test Acc: 73.06226%\n"
          ]
        },
        {
          "name": "stderr",
          "output_type": "stream",
          "text": [
            "100%|██████████| 50/50 [00:19<00:00,  2.53it/s]"
          ]
        },
        {
          "name": "stdout",
          "output_type": "stream",
          "text": [
            "\n",
            "Epoch: 49 | Train Loss: 0.01792 | Train Acc: 77.02997% | Test loss: 0.018733385708916746 | Test Acc: 72.42694%\n",
            "\n",
            "Training was done in 69.53777 seconds\n"
          ]
        },
        {
          "name": "stderr",
          "output_type": "stream",
          "text": [
            "\n"
          ]
        }
      ],
      "source": [
        "flag_model_1_2 = FlagModel(11, 32, 1)\n",
        "optimizer = torch.optim.Adam(params=flag_model_1_2.parameters(), lr=0.003)\n",
        "model_1_scaled_loss_and_acc = train(model=flag_model_1_2,\n",
        "                                    train_data=train_dataloader,\n",
        "                                    test_data=val_dataloader,\n",
        "                                    loss_fn=loss_fn,\n",
        "                                    optimizer=optimizer,\n",
        "                                    # accuracy_fn=accuracy_fn,\n",
        "                                    epochs=EPOCHS)"
      ]
    },
    {
      "cell_type": "code",
      "execution_count": 282,
      "metadata": {},
      "outputs": [
        {
          "name": "stderr",
          "output_type": "stream",
          "text": [
            "/tmp/ipykernel_24794/3878065201.py:1: UserWarning:\n",
            "\n",
            "To copy construct from a tensor, it is recommended to use sourceTensor.clone().detach() or sourceTensor.clone().detach().requires_grad_(True), rather than torch.tensor(sourceTensor).\n",
            "\n"
          ]
        }
      ],
      "source": [
        "model_4_preds = test_predict(flag_model_1_2, torch.tensor(X_test_scaled).type(torch.float32))"
      ]
    },
    {
      "cell_type": "code",
      "execution_count": 283,
      "metadata": {},
      "outputs": [
        {
          "name": "stdout",
          "output_type": "stream",
          "text": [
            "405 382\n"
          ]
        }
      ],
      "source": [
        "zeros, non_zeros = 0, 0\n",
        "for i in model_4_preds:\n",
        "    if i == 0:\n",
        "        zeros += 1\n",
        "    elif i==1:\n",
        "        non_zeros += 1      \n",
        "        \n",
        "print(zeros, non_zeros)"
      ]
    },
    {
      "cell_type": "code",
      "execution_count": 286,
      "metadata": {},
      "outputs": [
        {
          "name": "stdout",
          "output_type": "stream",
          "text": [
            "Model 1 with data standard scaling acc: 70.01270648030496\n"
          ]
        }
      ],
      "source": [
        "print(f\"Model 1 with data standard scaling acc: {accuracy_fn(y_test_4, model_4_preds)}\")"
      ]
    },
    {
      "cell_type": "code",
      "execution_count": 285,
      "metadata": {},
      "outputs": [
        {
          "data": {
            "application/vnd.plotly.v1+json": {
              "config": {
                "plotlyServerURL": "https://plot.ly"
              },
              "data": [
                {
                  "mode": "lines",
                  "name": "train loss",
                  "type": "scatter",
                  "xaxis": "x",
                  "y": [
                    0.02019951432862139,
                    0.019452174141881252,
                    0.019110631406794452,
                    0.018887807952610608,
                    0.018764460606536033,
                    0.01870127704390388,
                    0.018659633982733743,
                    0.018643489017148757,
                    0.018580907729406123,
                    0.01857078376680369,
                    0.018557712760543302,
                    0.018483227678150832,
                    0.018514750812618868,
                    0.018465934779078826,
                    0.01841729151780339,
                    0.018388212019481192,
                    0.018395771707436046,
                    0.018360715779686492,
                    0.018306792050356437,
                    0.01828773569021303,
                    0.01834510982199001,
                    0.018299615383148192,
                    0.018251842081709192,
                    0.018208219188110705,
                    0.018228328154912113,
                    0.01822285540097416,
                    0.01818754647018474,
                    0.018206501965301887,
                    0.018154157068813855,
                    0.018129247232094123,
                    0.018137778833061863,
                    0.018090689766959208,
                    0.018074184591178998,
                    0.018141746074367283,
                    0.018128201000047316,
                    0.018081301864876085,
                    0.018089576418783098,
                    0.018039317936598444,
                    0.018009342776981945,
                    0.01806341114096161,
                    0.01800960843179791,
                    0.017961207072806292,
                    0.017993755577695468,
                    0.017979927957870005,
                    0.017993533140307227,
                    0.017903583072511636,
                    0.017924065453479986,
                    0.01788467576458279,
                    0.017859104137654524,
                    0.017919595559871163
                  ],
                  "yaxis": "y"
                },
                {
                  "mode": "lines",
                  "name": "Validation loss",
                  "type": "scatter",
                  "xaxis": "x",
                  "y": [
                    0.019890539755209276,
                    0.019405648093362926,
                    0.01918060821983987,
                    0.018983472938610305,
                    0.01902468655887977,
                    0.01905784514535034,
                    0.018844460592790966,
                    0.018884492117386156,
                    0.01891085528206492,
                    0.01886748790438021,
                    0.018819712358023946,
                    0.01883258487854101,
                    0.01890082424447376,
                    0.018906814549141948,
                    0.01884291496179913,
                    0.018777314635062308,
                    0.018821107538409883,
                    0.018829965190027085,
                    0.018799535504138758,
                    0.018761621118349222,
                    0.01899350287802186,
                    0.018916775227501854,
                    0.01877736829438991,
                    0.018706880424649772,
                    0.01873435074371183,
                    0.018862571960180204,
                    0.018818924660300967,
                    0.018824026802746436,
                    0.01876797404949668,
                    0.01892682633527201,
                    0.018889392194784277,
                    0.01882014432129139,
                    0.01886240348428147,
                    0.01882970143758054,
                    0.018721109462057014,
                    0.018864951942594108,
                    0.018648045793118895,
                    0.018779535229960422,
                    0.01873055467763123,
                    0.018737952318397533,
                    0.018602412719435735,
                    0.018768024490021993,
                    0.018811688186858782,
                    0.01859306512824159,
                    0.018674986941084323,
                    0.01871203126568049,
                    0.018634395079812675,
                    0.01884906294991131,
                    0.01865637007026236,
                    0.018733385708916746
                  ],
                  "yaxis": "y"
                },
                {
                  "mode": "lines",
                  "name": "train accuracy",
                  "type": "scatter",
                  "xaxis": "x2",
                  "y": [
                    58.228882833787466,
                    63.48773841961853,
                    68.36512261580381,
                    70,
                    70.2724795640327,
                    71.2534059945504,
                    71.17166212534059,
                    71.5258855585831,
                    71.66212534059946,
                    71.82561307901906,
                    71.7983651226158,
                    72.91553133514986,
                    72.17983651226159,
                    72.6158038147139,
                    73.18801089918256,
                    73.29700272479565,
                    73.02452316076294,
                    73.62397820163487,
                    73.70572207084469,
                    73.97820163487738,
                    73.65122615803816,
                    73.84196185286103,
                    74.33242506811989,
                    74.85013623978202,
                    74.65940054495913,
                    74.46866485013624,
                    75.17711171662125,
                    74.63215258855585,
                    75.23160762942778,
                    75.55858310626704,
                    75.01362397820164,
                    75.91280653950953,
                    75.858310626703,
                    75.14986376021798,
                    75.36784741144415,
                    76.04904632152588,
                    75.50408719346049,
                    76.37602179836513,
                    76.2125340599455,
                    76.43051771117166,
                    76.18528610354224,
                    76.94822888283379,
                    76.64850136239782,
                    76.566757493188,
                    76.6757493188011,
                    77.54768392370572,
                    76.89373297002724,
                    77.13896457765668,
                    77.3841961852861,
                    77.02997275204359
                  ],
                  "yaxis": "y2"
                },
                {
                  "mode": "lines",
                  "name": "Validation accuracy",
                  "type": "scatter",
                  "xaxis": "x2",
                  "y": [
                    60.101651842439644,
                    68.86912325285896,
                    67.5984752223634,
                    68.61499364675984,
                    69.12325285895807,
                    69.50444726810674,
                    70.39390088945362,
                    69.25031766200762,
                    70.77509529860228,
                    70.13977128335452,
                    69.8856416772554,
                    70.13977128335452,
                    69.8856416772554,
                    72.42693773824651,
                    69.37738246505718,
                    70.01270648030496,
                    69.6315120711563,
                    69.8856416772554,
                    71.15628970775096,
                    71.0292249047014,
                    68.23379923761118,
                    68.86912325285896,
                    70.39390088945362,
                    72.29987293519696,
                    71.53748411689962,
                    71.15628970775096,
                    72.42693773824651,
                    70.01270648030496,
                    72.55400254129606,
                    71.79161372299873,
                    73.44345616264295,
                    71.91867852604828,
                    72.1728081321474,
                    70.90216010165184,
                    72.29987293519696,
                    72.80813214739517,
                    72.42693773824651,
                    71.66454891994918,
                    71.53748411689962,
                    73.06226175349428,
                    73.06226175349428,
                    72.04574332909785,
                    71.66454891994918,
                    73.06226175349428,
                    73.3163913595934,
                    72.55400254129606,
                    72.80813214739517,
                    71.79161372299873,
                    73.06226175349428,
                    72.42693773824651
                  ],
                  "yaxis": "y2"
                },
                {
                  "mode": "lines",
                  "name": "f1 score",
                  "type": "scatter",
                  "xaxis": "x3",
                  "y": [
                    0.5991987803295705,
                    0.6841857852073516,
                    0.6756831444441032,
                    0.6861316932893935,
                    0.689304252467406,
                    0.6912716574043805,
                    0.7023222214105405,
                    0.6918937982088316,
                    0.7046220023237295,
                    0.6992827793884032,
                    0.6974319210061432,
                    0.7004614265839371,
                    0.6982249669537417,
                    0.7172500343547028,
                    0.693328202383628,
                    0.6990537299889817,
                    0.6959833067450254,
                    0.6963146283285981,
                    0.7077407818816266,
                    0.708654820356948,
                    0.6821527346980976,
                    0.6886188380637086,
                    0.702833575069077,
                    0.7197293447293449,
                    0.7123275153065887,
                    0.7085513296757259,
                    0.7185696040868454,
                    0.6984321824747357,
                    0.7213063151682078,
                    0.7119782393669634,
                    0.7252356619163995,
                    0.7152961589772551,
                    0.7159757755530838,
                    0.7080241003283905,
                    0.720033028289448,
                    0.722148532361947,
                    0.7212431342784157,
                    0.7135355711709064,
                    0.7132969034608379,
                    0.724100752735114,
                    0.7264673093317595,
                    0.7184166016133229,
                    0.7135355711709064,
                    0.7280190401669275,
                    0.7292182769061382,
                    0.7223006351446719,
                    0.7253134745110319,
                    0.7145867638986905,
                    0.7271329696065731,
                    0.7218098267939201
                  ],
                  "yaxis": "y3"
                }
              ],
              "layout": {
                "height": 600,
                "template": {
                  "data": {
                    "bar": [
                      {
                        "error_x": {
                          "color": "#2a3f5f"
                        },
                        "error_y": {
                          "color": "#2a3f5f"
                        },
                        "marker": {
                          "line": {
                            "color": "#E5ECF6",
                            "width": 0.5
                          },
                          "pattern": {
                            "fillmode": "overlay",
                            "size": 10,
                            "solidity": 0.2
                          }
                        },
                        "type": "bar"
                      }
                    ],
                    "barpolar": [
                      {
                        "marker": {
                          "line": {
                            "color": "#E5ECF6",
                            "width": 0.5
                          },
                          "pattern": {
                            "fillmode": "overlay",
                            "size": 10,
                            "solidity": 0.2
                          }
                        },
                        "type": "barpolar"
                      }
                    ],
                    "carpet": [
                      {
                        "aaxis": {
                          "endlinecolor": "#2a3f5f",
                          "gridcolor": "white",
                          "linecolor": "white",
                          "minorgridcolor": "white",
                          "startlinecolor": "#2a3f5f"
                        },
                        "baxis": {
                          "endlinecolor": "#2a3f5f",
                          "gridcolor": "white",
                          "linecolor": "white",
                          "minorgridcolor": "white",
                          "startlinecolor": "#2a3f5f"
                        },
                        "type": "carpet"
                      }
                    ],
                    "choropleth": [
                      {
                        "colorbar": {
                          "outlinewidth": 0,
                          "ticks": ""
                        },
                        "type": "choropleth"
                      }
                    ],
                    "contour": [
                      {
                        "colorbar": {
                          "outlinewidth": 0,
                          "ticks": ""
                        },
                        "colorscale": [
                          [
                            0,
                            "#0d0887"
                          ],
                          [
                            0.1111111111111111,
                            "#46039f"
                          ],
                          [
                            0.2222222222222222,
                            "#7201a8"
                          ],
                          [
                            0.3333333333333333,
                            "#9c179e"
                          ],
                          [
                            0.4444444444444444,
                            "#bd3786"
                          ],
                          [
                            0.5555555555555556,
                            "#d8576b"
                          ],
                          [
                            0.6666666666666666,
                            "#ed7953"
                          ],
                          [
                            0.7777777777777778,
                            "#fb9f3a"
                          ],
                          [
                            0.8888888888888888,
                            "#fdca26"
                          ],
                          [
                            1,
                            "#f0f921"
                          ]
                        ],
                        "type": "contour"
                      }
                    ],
                    "contourcarpet": [
                      {
                        "colorbar": {
                          "outlinewidth": 0,
                          "ticks": ""
                        },
                        "type": "contourcarpet"
                      }
                    ],
                    "heatmap": [
                      {
                        "colorbar": {
                          "outlinewidth": 0,
                          "ticks": ""
                        },
                        "colorscale": [
                          [
                            0,
                            "#0d0887"
                          ],
                          [
                            0.1111111111111111,
                            "#46039f"
                          ],
                          [
                            0.2222222222222222,
                            "#7201a8"
                          ],
                          [
                            0.3333333333333333,
                            "#9c179e"
                          ],
                          [
                            0.4444444444444444,
                            "#bd3786"
                          ],
                          [
                            0.5555555555555556,
                            "#d8576b"
                          ],
                          [
                            0.6666666666666666,
                            "#ed7953"
                          ],
                          [
                            0.7777777777777778,
                            "#fb9f3a"
                          ],
                          [
                            0.8888888888888888,
                            "#fdca26"
                          ],
                          [
                            1,
                            "#f0f921"
                          ]
                        ],
                        "type": "heatmap"
                      }
                    ],
                    "heatmapgl": [
                      {
                        "colorbar": {
                          "outlinewidth": 0,
                          "ticks": ""
                        },
                        "colorscale": [
                          [
                            0,
                            "#0d0887"
                          ],
                          [
                            0.1111111111111111,
                            "#46039f"
                          ],
                          [
                            0.2222222222222222,
                            "#7201a8"
                          ],
                          [
                            0.3333333333333333,
                            "#9c179e"
                          ],
                          [
                            0.4444444444444444,
                            "#bd3786"
                          ],
                          [
                            0.5555555555555556,
                            "#d8576b"
                          ],
                          [
                            0.6666666666666666,
                            "#ed7953"
                          ],
                          [
                            0.7777777777777778,
                            "#fb9f3a"
                          ],
                          [
                            0.8888888888888888,
                            "#fdca26"
                          ],
                          [
                            1,
                            "#f0f921"
                          ]
                        ],
                        "type": "heatmapgl"
                      }
                    ],
                    "histogram": [
                      {
                        "marker": {
                          "pattern": {
                            "fillmode": "overlay",
                            "size": 10,
                            "solidity": 0.2
                          }
                        },
                        "type": "histogram"
                      }
                    ],
                    "histogram2d": [
                      {
                        "colorbar": {
                          "outlinewidth": 0,
                          "ticks": ""
                        },
                        "colorscale": [
                          [
                            0,
                            "#0d0887"
                          ],
                          [
                            0.1111111111111111,
                            "#46039f"
                          ],
                          [
                            0.2222222222222222,
                            "#7201a8"
                          ],
                          [
                            0.3333333333333333,
                            "#9c179e"
                          ],
                          [
                            0.4444444444444444,
                            "#bd3786"
                          ],
                          [
                            0.5555555555555556,
                            "#d8576b"
                          ],
                          [
                            0.6666666666666666,
                            "#ed7953"
                          ],
                          [
                            0.7777777777777778,
                            "#fb9f3a"
                          ],
                          [
                            0.8888888888888888,
                            "#fdca26"
                          ],
                          [
                            1,
                            "#f0f921"
                          ]
                        ],
                        "type": "histogram2d"
                      }
                    ],
                    "histogram2dcontour": [
                      {
                        "colorbar": {
                          "outlinewidth": 0,
                          "ticks": ""
                        },
                        "colorscale": [
                          [
                            0,
                            "#0d0887"
                          ],
                          [
                            0.1111111111111111,
                            "#46039f"
                          ],
                          [
                            0.2222222222222222,
                            "#7201a8"
                          ],
                          [
                            0.3333333333333333,
                            "#9c179e"
                          ],
                          [
                            0.4444444444444444,
                            "#bd3786"
                          ],
                          [
                            0.5555555555555556,
                            "#d8576b"
                          ],
                          [
                            0.6666666666666666,
                            "#ed7953"
                          ],
                          [
                            0.7777777777777778,
                            "#fb9f3a"
                          ],
                          [
                            0.8888888888888888,
                            "#fdca26"
                          ],
                          [
                            1,
                            "#f0f921"
                          ]
                        ],
                        "type": "histogram2dcontour"
                      }
                    ],
                    "mesh3d": [
                      {
                        "colorbar": {
                          "outlinewidth": 0,
                          "ticks": ""
                        },
                        "type": "mesh3d"
                      }
                    ],
                    "parcoords": [
                      {
                        "line": {
                          "colorbar": {
                            "outlinewidth": 0,
                            "ticks": ""
                          }
                        },
                        "type": "parcoords"
                      }
                    ],
                    "pie": [
                      {
                        "automargin": true,
                        "type": "pie"
                      }
                    ],
                    "scatter": [
                      {
                        "fillpattern": {
                          "fillmode": "overlay",
                          "size": 10,
                          "solidity": 0.2
                        },
                        "type": "scatter"
                      }
                    ],
                    "scatter3d": [
                      {
                        "line": {
                          "colorbar": {
                            "outlinewidth": 0,
                            "ticks": ""
                          }
                        },
                        "marker": {
                          "colorbar": {
                            "outlinewidth": 0,
                            "ticks": ""
                          }
                        },
                        "type": "scatter3d"
                      }
                    ],
                    "scattercarpet": [
                      {
                        "marker": {
                          "colorbar": {
                            "outlinewidth": 0,
                            "ticks": ""
                          }
                        },
                        "type": "scattercarpet"
                      }
                    ],
                    "scattergeo": [
                      {
                        "marker": {
                          "colorbar": {
                            "outlinewidth": 0,
                            "ticks": ""
                          }
                        },
                        "type": "scattergeo"
                      }
                    ],
                    "scattergl": [
                      {
                        "marker": {
                          "colorbar": {
                            "outlinewidth": 0,
                            "ticks": ""
                          }
                        },
                        "type": "scattergl"
                      }
                    ],
                    "scattermapbox": [
                      {
                        "marker": {
                          "colorbar": {
                            "outlinewidth": 0,
                            "ticks": ""
                          }
                        },
                        "type": "scattermapbox"
                      }
                    ],
                    "scatterpolar": [
                      {
                        "marker": {
                          "colorbar": {
                            "outlinewidth": 0,
                            "ticks": ""
                          }
                        },
                        "type": "scatterpolar"
                      }
                    ],
                    "scatterpolargl": [
                      {
                        "marker": {
                          "colorbar": {
                            "outlinewidth": 0,
                            "ticks": ""
                          }
                        },
                        "type": "scatterpolargl"
                      }
                    ],
                    "scatterternary": [
                      {
                        "marker": {
                          "colorbar": {
                            "outlinewidth": 0,
                            "ticks": ""
                          }
                        },
                        "type": "scatterternary"
                      }
                    ],
                    "surface": [
                      {
                        "colorbar": {
                          "outlinewidth": 0,
                          "ticks": ""
                        },
                        "colorscale": [
                          [
                            0,
                            "#0d0887"
                          ],
                          [
                            0.1111111111111111,
                            "#46039f"
                          ],
                          [
                            0.2222222222222222,
                            "#7201a8"
                          ],
                          [
                            0.3333333333333333,
                            "#9c179e"
                          ],
                          [
                            0.4444444444444444,
                            "#bd3786"
                          ],
                          [
                            0.5555555555555556,
                            "#d8576b"
                          ],
                          [
                            0.6666666666666666,
                            "#ed7953"
                          ],
                          [
                            0.7777777777777778,
                            "#fb9f3a"
                          ],
                          [
                            0.8888888888888888,
                            "#fdca26"
                          ],
                          [
                            1,
                            "#f0f921"
                          ]
                        ],
                        "type": "surface"
                      }
                    ],
                    "table": [
                      {
                        "cells": {
                          "fill": {
                            "color": "#EBF0F8"
                          },
                          "line": {
                            "color": "white"
                          }
                        },
                        "header": {
                          "fill": {
                            "color": "#C8D4E3"
                          },
                          "line": {
                            "color": "white"
                          }
                        },
                        "type": "table"
                      }
                    ]
                  },
                  "layout": {
                    "annotationdefaults": {
                      "arrowcolor": "#2a3f5f",
                      "arrowhead": 0,
                      "arrowwidth": 1
                    },
                    "autotypenumbers": "strict",
                    "coloraxis": {
                      "colorbar": {
                        "outlinewidth": 0,
                        "ticks": ""
                      }
                    },
                    "colorscale": {
                      "diverging": [
                        [
                          0,
                          "#8e0152"
                        ],
                        [
                          0.1,
                          "#c51b7d"
                        ],
                        [
                          0.2,
                          "#de77ae"
                        ],
                        [
                          0.3,
                          "#f1b6da"
                        ],
                        [
                          0.4,
                          "#fde0ef"
                        ],
                        [
                          0.5,
                          "#f7f7f7"
                        ],
                        [
                          0.6,
                          "#e6f5d0"
                        ],
                        [
                          0.7,
                          "#b8e186"
                        ],
                        [
                          0.8,
                          "#7fbc41"
                        ],
                        [
                          0.9,
                          "#4d9221"
                        ],
                        [
                          1,
                          "#276419"
                        ]
                      ],
                      "sequential": [
                        [
                          0,
                          "#0d0887"
                        ],
                        [
                          0.1111111111111111,
                          "#46039f"
                        ],
                        [
                          0.2222222222222222,
                          "#7201a8"
                        ],
                        [
                          0.3333333333333333,
                          "#9c179e"
                        ],
                        [
                          0.4444444444444444,
                          "#bd3786"
                        ],
                        [
                          0.5555555555555556,
                          "#d8576b"
                        ],
                        [
                          0.6666666666666666,
                          "#ed7953"
                        ],
                        [
                          0.7777777777777778,
                          "#fb9f3a"
                        ],
                        [
                          0.8888888888888888,
                          "#fdca26"
                        ],
                        [
                          1,
                          "#f0f921"
                        ]
                      ],
                      "sequentialminus": [
                        [
                          0,
                          "#0d0887"
                        ],
                        [
                          0.1111111111111111,
                          "#46039f"
                        ],
                        [
                          0.2222222222222222,
                          "#7201a8"
                        ],
                        [
                          0.3333333333333333,
                          "#9c179e"
                        ],
                        [
                          0.4444444444444444,
                          "#bd3786"
                        ],
                        [
                          0.5555555555555556,
                          "#d8576b"
                        ],
                        [
                          0.6666666666666666,
                          "#ed7953"
                        ],
                        [
                          0.7777777777777778,
                          "#fb9f3a"
                        ],
                        [
                          0.8888888888888888,
                          "#fdca26"
                        ],
                        [
                          1,
                          "#f0f921"
                        ]
                      ]
                    },
                    "colorway": [
                      "#636efa",
                      "#EF553B",
                      "#00cc96",
                      "#ab63fa",
                      "#FFA15A",
                      "#19d3f3",
                      "#FF6692",
                      "#B6E880",
                      "#FF97FF",
                      "#FECB52"
                    ],
                    "font": {
                      "color": "#2a3f5f"
                    },
                    "geo": {
                      "bgcolor": "white",
                      "lakecolor": "white",
                      "landcolor": "#E5ECF6",
                      "showlakes": true,
                      "showland": true,
                      "subunitcolor": "white"
                    },
                    "hoverlabel": {
                      "align": "left"
                    },
                    "hovermode": "closest",
                    "mapbox": {
                      "style": "light"
                    },
                    "paper_bgcolor": "white",
                    "plot_bgcolor": "#E5ECF6",
                    "polar": {
                      "angularaxis": {
                        "gridcolor": "white",
                        "linecolor": "white",
                        "ticks": ""
                      },
                      "bgcolor": "#E5ECF6",
                      "radialaxis": {
                        "gridcolor": "white",
                        "linecolor": "white",
                        "ticks": ""
                      }
                    },
                    "scene": {
                      "xaxis": {
                        "backgroundcolor": "#E5ECF6",
                        "gridcolor": "white",
                        "gridwidth": 2,
                        "linecolor": "white",
                        "showbackground": true,
                        "ticks": "",
                        "zerolinecolor": "white"
                      },
                      "yaxis": {
                        "backgroundcolor": "#E5ECF6",
                        "gridcolor": "white",
                        "gridwidth": 2,
                        "linecolor": "white",
                        "showbackground": true,
                        "ticks": "",
                        "zerolinecolor": "white"
                      },
                      "zaxis": {
                        "backgroundcolor": "#E5ECF6",
                        "gridcolor": "white",
                        "gridwidth": 2,
                        "linecolor": "white",
                        "showbackground": true,
                        "ticks": "",
                        "zerolinecolor": "white"
                      }
                    },
                    "shapedefaults": {
                      "line": {
                        "color": "#2a3f5f"
                      }
                    },
                    "ternary": {
                      "aaxis": {
                        "gridcolor": "white",
                        "linecolor": "white",
                        "ticks": ""
                      },
                      "baxis": {
                        "gridcolor": "white",
                        "linecolor": "white",
                        "ticks": ""
                      },
                      "bgcolor": "#E5ECF6",
                      "caxis": {
                        "gridcolor": "white",
                        "linecolor": "white",
                        "ticks": ""
                      }
                    },
                    "title": {
                      "x": 0.05
                    },
                    "xaxis": {
                      "automargin": true,
                      "gridcolor": "white",
                      "linecolor": "white",
                      "ticks": "",
                      "title": {
                        "standoff": 15
                      },
                      "zerolinecolor": "white",
                      "zerolinewidth": 2
                    },
                    "yaxis": {
                      "automargin": true,
                      "gridcolor": "white",
                      "linecolor": "white",
                      "ticks": "",
                      "title": {
                        "standoff": 15
                      },
                      "zerolinecolor": "white",
                      "zerolinewidth": 2
                    }
                  }
                },
                "title": {
                  "text": "Model 1 with standard scaled data"
                },
                "width": 600,
                "xaxis": {
                  "anchor": "y",
                  "domain": [
                    0,
                    1
                  ]
                },
                "xaxis2": {
                  "anchor": "y2",
                  "domain": [
                    0,
                    1
                  ]
                },
                "xaxis3": {
                  "anchor": "y3",
                  "domain": [
                    0,
                    1
                  ]
                },
                "yaxis": {
                  "anchor": "x",
                  "domain": [
                    0.7333333333333333,
                    1
                  ]
                },
                "yaxis2": {
                  "anchor": "x2",
                  "domain": [
                    0.36666666666666664,
                    0.6333333333333333
                  ]
                },
                "yaxis3": {
                  "anchor": "x3",
                  "domain": [
                    0,
                    0.26666666666666666
                  ]
                }
              }
            }
          },
          "metadata": {},
          "output_type": "display_data"
        }
      ],
      "source": [
        "plot_metrics(model_1_scaled_loss_and_acc, \"Model 1 with standard scaled data\")"
      ]
    },
    {
      "cell_type": "code",
      "execution_count": null,
      "metadata": {},
      "outputs": [],
      "source": []
    }
  ],
  "metadata": {
    "colab": {
      "provenance": []
    },
    "kernelspec": {
      "display_name": "Python 3",
      "name": "python3"
    },
    "language_info": {
      "codemirror_mode": {
        "name": "ipython",
        "version": 3
      },
      "file_extension": ".py",
      "mimetype": "text/x-python",
      "name": "python",
      "nbconvert_exporter": "python",
      "pygments_lexer": "ipython3",
      "version": "3.10.12"
    },
    "widgets": {
      "application/vnd.jupyter.widget-state+json": {
        "03d4b5b1656b4748ab4b11e9abb38bd4": {
          "model_module": "@jupyter-widgets/controls",
          "model_module_version": "1.5.0",
          "model_name": "HTMLModel",
          "state": {
            "_dom_classes": [],
            "_model_module": "@jupyter-widgets/controls",
            "_model_module_version": "1.5.0",
            "_model_name": "HTMLModel",
            "_view_count": null,
            "_view_module": "@jupyter-widgets/controls",
            "_view_module_version": "1.5.0",
            "_view_name": "HTMLView",
            "description": "",
            "description_tooltip": null,
            "layout": "IPY_MODEL_123010fb9b4747a6979342aed38d3a79",
            "placeholder": "​",
            "style": "IPY_MODEL_1fa7eb4654e3436c8d43091d368ed0a2",
            "value": "100%"
          }
        },
        "123010fb9b4747a6979342aed38d3a79": {
          "model_module": "@jupyter-widgets/base",
          "model_module_version": "1.2.0",
          "model_name": "LayoutModel",
          "state": {
            "_model_module": "@jupyter-widgets/base",
            "_model_module_version": "1.2.0",
            "_model_name": "LayoutModel",
            "_view_count": null,
            "_view_module": "@jupyter-widgets/base",
            "_view_module_version": "1.2.0",
            "_view_name": "LayoutView",
            "align_content": null,
            "align_items": null,
            "align_self": null,
            "border": null,
            "bottom": null,
            "display": null,
            "flex": null,
            "flex_flow": null,
            "grid_area": null,
            "grid_auto_columns": null,
            "grid_auto_flow": null,
            "grid_auto_rows": null,
            "grid_column": null,
            "grid_gap": null,
            "grid_row": null,
            "grid_template_areas": null,
            "grid_template_columns": null,
            "grid_template_rows": null,
            "height": null,
            "justify_content": null,
            "justify_items": null,
            "left": null,
            "margin": null,
            "max_height": null,
            "max_width": null,
            "min_height": null,
            "min_width": null,
            "object_fit": null,
            "object_position": null,
            "order": null,
            "overflow": null,
            "overflow_x": null,
            "overflow_y": null,
            "padding": null,
            "right": null,
            "top": null,
            "visibility": null,
            "width": null
          }
        },
        "1fa7eb4654e3436c8d43091d368ed0a2": {
          "model_module": "@jupyter-widgets/controls",
          "model_module_version": "1.5.0",
          "model_name": "DescriptionStyleModel",
          "state": {
            "_model_module": "@jupyter-widgets/controls",
            "_model_module_version": "1.5.0",
            "_model_name": "DescriptionStyleModel",
            "_view_count": null,
            "_view_module": "@jupyter-widgets/base",
            "_view_module_version": "1.2.0",
            "_view_name": "StyleView",
            "description_width": ""
          }
        },
        "204a6cad6bd842d4b881f6cc905eb67d": {
          "model_module": "@jupyter-widgets/base",
          "model_module_version": "1.2.0",
          "model_name": "LayoutModel",
          "state": {
            "_model_module": "@jupyter-widgets/base",
            "_model_module_version": "1.2.0",
            "_model_name": "LayoutModel",
            "_view_count": null,
            "_view_module": "@jupyter-widgets/base",
            "_view_module_version": "1.2.0",
            "_view_name": "LayoutView",
            "align_content": null,
            "align_items": null,
            "align_self": null,
            "border": null,
            "bottom": null,
            "display": null,
            "flex": null,
            "flex_flow": null,
            "grid_area": null,
            "grid_auto_columns": null,
            "grid_auto_flow": null,
            "grid_auto_rows": null,
            "grid_column": null,
            "grid_gap": null,
            "grid_row": null,
            "grid_template_areas": null,
            "grid_template_columns": null,
            "grid_template_rows": null,
            "height": null,
            "justify_content": null,
            "justify_items": null,
            "left": null,
            "margin": null,
            "max_height": null,
            "max_width": null,
            "min_height": null,
            "min_width": null,
            "object_fit": null,
            "object_position": null,
            "order": null,
            "overflow": null,
            "overflow_x": null,
            "overflow_y": null,
            "padding": null,
            "right": null,
            "top": null,
            "visibility": null,
            "width": null
          }
        },
        "377bb1f9a54e4e4491cc72845ebb3668": {
          "model_module": "@jupyter-widgets/controls",
          "model_module_version": "1.5.0",
          "model_name": "FloatProgressModel",
          "state": {
            "_dom_classes": [],
            "_model_module": "@jupyter-widgets/controls",
            "_model_module_version": "1.5.0",
            "_model_name": "FloatProgressModel",
            "_view_count": null,
            "_view_module": "@jupyter-widgets/controls",
            "_view_module_version": "1.5.0",
            "_view_name": "ProgressView",
            "bar_style": "success",
            "description": "",
            "description_tooltip": null,
            "layout": "IPY_MODEL_204a6cad6bd842d4b881f6cc905eb67d",
            "max": 20,
            "min": 0,
            "orientation": "horizontal",
            "style": "IPY_MODEL_ae4f0a2bab994ca5ae3b37786b405bc0",
            "value": 20
          }
        },
        "685f0af5d2d14ff895a0cf5c8ba8331f": {
          "model_module": "@jupyter-widgets/controls",
          "model_module_version": "1.5.0",
          "model_name": "HTMLModel",
          "state": {
            "_dom_classes": [],
            "_model_module": "@jupyter-widgets/controls",
            "_model_module_version": "1.5.0",
            "_model_name": "HTMLModel",
            "_view_count": null,
            "_view_module": "@jupyter-widgets/controls",
            "_view_module_version": "1.5.0",
            "_view_name": "HTMLView",
            "description": "",
            "description_tooltip": null,
            "layout": "IPY_MODEL_8859e5e443a34371b40dabd8162f9ce7",
            "placeholder": "​",
            "style": "IPY_MODEL_f010dc6e68964610817def2c8e80b743",
            "value": " 20/20 [00:06&lt;00:00,  3.67it/s]"
          }
        },
        "8859e5e443a34371b40dabd8162f9ce7": {
          "model_module": "@jupyter-widgets/base",
          "model_module_version": "1.2.0",
          "model_name": "LayoutModel",
          "state": {
            "_model_module": "@jupyter-widgets/base",
            "_model_module_version": "1.2.0",
            "_model_name": "LayoutModel",
            "_view_count": null,
            "_view_module": "@jupyter-widgets/base",
            "_view_module_version": "1.2.0",
            "_view_name": "LayoutView",
            "align_content": null,
            "align_items": null,
            "align_self": null,
            "border": null,
            "bottom": null,
            "display": null,
            "flex": null,
            "flex_flow": null,
            "grid_area": null,
            "grid_auto_columns": null,
            "grid_auto_flow": null,
            "grid_auto_rows": null,
            "grid_column": null,
            "grid_gap": null,
            "grid_row": null,
            "grid_template_areas": null,
            "grid_template_columns": null,
            "grid_template_rows": null,
            "height": null,
            "justify_content": null,
            "justify_items": null,
            "left": null,
            "margin": null,
            "max_height": null,
            "max_width": null,
            "min_height": null,
            "min_width": null,
            "object_fit": null,
            "object_position": null,
            "order": null,
            "overflow": null,
            "overflow_x": null,
            "overflow_y": null,
            "padding": null,
            "right": null,
            "top": null,
            "visibility": null,
            "width": null
          }
        },
        "9a89085b2a504485b989a727afb8504c": {
          "model_module": "@jupyter-widgets/base",
          "model_module_version": "1.2.0",
          "model_name": "LayoutModel",
          "state": {
            "_model_module": "@jupyter-widgets/base",
            "_model_module_version": "1.2.0",
            "_model_name": "LayoutModel",
            "_view_count": null,
            "_view_module": "@jupyter-widgets/base",
            "_view_module_version": "1.2.0",
            "_view_name": "LayoutView",
            "align_content": null,
            "align_items": null,
            "align_self": null,
            "border": null,
            "bottom": null,
            "display": null,
            "flex": null,
            "flex_flow": null,
            "grid_area": null,
            "grid_auto_columns": null,
            "grid_auto_flow": null,
            "grid_auto_rows": null,
            "grid_column": null,
            "grid_gap": null,
            "grid_row": null,
            "grid_template_areas": null,
            "grid_template_columns": null,
            "grid_template_rows": null,
            "height": null,
            "justify_content": null,
            "justify_items": null,
            "left": null,
            "margin": null,
            "max_height": null,
            "max_width": null,
            "min_height": null,
            "min_width": null,
            "object_fit": null,
            "object_position": null,
            "order": null,
            "overflow": null,
            "overflow_x": null,
            "overflow_y": null,
            "padding": null,
            "right": null,
            "top": null,
            "visibility": null,
            "width": null
          }
        },
        "a70778d220054505a183d31c879a8eca": {
          "model_module": "@jupyter-widgets/controls",
          "model_module_version": "1.5.0",
          "model_name": "HBoxModel",
          "state": {
            "_dom_classes": [],
            "_model_module": "@jupyter-widgets/controls",
            "_model_module_version": "1.5.0",
            "_model_name": "HBoxModel",
            "_view_count": null,
            "_view_module": "@jupyter-widgets/controls",
            "_view_module_version": "1.5.0",
            "_view_name": "HBoxView",
            "box_style": "",
            "children": [
              "IPY_MODEL_03d4b5b1656b4748ab4b11e9abb38bd4",
              "IPY_MODEL_377bb1f9a54e4e4491cc72845ebb3668",
              "IPY_MODEL_685f0af5d2d14ff895a0cf5c8ba8331f"
            ],
            "layout": "IPY_MODEL_9a89085b2a504485b989a727afb8504c"
          }
        },
        "ae4f0a2bab994ca5ae3b37786b405bc0": {
          "model_module": "@jupyter-widgets/controls",
          "model_module_version": "1.5.0",
          "model_name": "ProgressStyleModel",
          "state": {
            "_model_module": "@jupyter-widgets/controls",
            "_model_module_version": "1.5.0",
            "_model_name": "ProgressStyleModel",
            "_view_count": null,
            "_view_module": "@jupyter-widgets/base",
            "_view_module_version": "1.2.0",
            "_view_name": "StyleView",
            "bar_color": null,
            "description_width": ""
          }
        },
        "f010dc6e68964610817def2c8e80b743": {
          "model_module": "@jupyter-widgets/controls",
          "model_module_version": "1.5.0",
          "model_name": "DescriptionStyleModel",
          "state": {
            "_model_module": "@jupyter-widgets/controls",
            "_model_module_version": "1.5.0",
            "_model_name": "DescriptionStyleModel",
            "_view_count": null,
            "_view_module": "@jupyter-widgets/base",
            "_view_module_version": "1.2.0",
            "_view_name": "StyleView",
            "description_width": ""
          }
        }
      }
    }
  },
  "nbformat": 4,
  "nbformat_minor": 0
}
